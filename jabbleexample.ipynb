{
 "cells": [
  {
   "cell_type": "code",
   "execution_count": 1,
   "metadata": {},
   "outputs": [],
   "source": [
    "import h5py\n",
    "import astropy.units as u \n",
    "import numpy as np\n",
    "\n",
    "import jabble.dataset\n",
    "import jabble.loss\n",
    "import jabble.model"
   ]
  },
  {
   "cell_type": "code",
   "execution_count": 2,
   "metadata": {},
   "outputs": [],
   "source": [
    "data = h5py.File('data/datatest1.h5','r')"
   ]
  },
  {
   "cell_type": "code",
   "execution_count": 3,
   "metadata": {},
   "outputs": [],
   "source": [
    "data['parameters'].keys()\n",
    "epoches = data['data']['flux'].shape[0]"
   ]
  },
  {
   "cell_type": "code",
   "execution_count": 4,
   "metadata": {},
   "outputs": [],
   "source": [
    "masks = np.zeros(data['data']['flux'].shape,dtype=bool)\n",
    "wave = np.repeat(np.array(data['data']['wave'])[np.newaxis,:],epoches,axis=0) * u.Angstrom\n",
    "flux = np.array(data['data']['flux'])\n",
    "ferr = np.array(data['data']['ferr'])"
   ]
  },
  {
   "cell_type": "code",
   "execution_count": 5,
   "metadata": {},
   "outputs": [],
   "source": [
    "wob_data = jabble.dataset.WobbleDataset(wave,flux,ferr,masks)"
   ]
  },
  {
   "cell_type": "code",
   "execution_count": 6,
   "metadata": {},
   "outputs": [],
   "source": [
    "epoches = flux.shape[0]"
   ]
  },
  {
   "cell_type": "code",
   "execution_count": 7,
   "metadata": {},
   "outputs": [
    {
     "name": "stdout",
     "output_type": "stream",
     "text": [
      "30\n"
     ]
    }
   ],
   "source": [
    "print(epoches)"
   ]
  },
  {
   "cell_type": "code",
   "execution_count": 8,
   "metadata": {},
   "outputs": [],
   "source": [
    "def get_berv(times,observatory_name,ra,dec):\n",
    "    obj = coord.SkyCoord(ra,dec)\n",
    "    loc = coord.EarthLocation.of_site(observatory_name)\n",
    "    bc  = obj.radial_velocity_correction(obstime=times,location=loc).to(u.km/u.s)\n",
    "    return bc"
   ]
  },
  {
   "cell_type": "code",
   "execution_count": 9,
   "metadata": {},
   "outputs": [],
   "source": [
    "import astropy.time as at\n",
    "import astropy.coordinates as coord"
   ]
  },
  {
   "cell_type": "code",
   "execution_count": 10,
   "metadata": {},
   "outputs": [
    {
     "name": "stdout",
     "output_type": "stream",
     "text": [
      "2022-09-28T08:23:22.345\n"
     ]
    }
   ],
   "source": [
    "print(data['theory']['times'][0])"
   ]
  },
  {
   "cell_type": "code",
   "execution_count": 11,
   "metadata": {},
   "outputs": [],
   "source": [
    "times = at.Time([data['theory']['times'][ii] for ii in range(epoches)],format='isot') \n",
    "obs = data['parameters']['obs'][()]\n",
    "ra = data['parameters']['ra'][()]*u.degree\n",
    "dec = data['parameters']['dec'][()]*u.degree\n",
    "period = 10*u.day # known but should be saved in parameters"
   ]
  },
  {
   "cell_type": "code",
   "execution_count": 12,
   "metadata": {},
   "outputs": [
    {
     "name": "stdout",
     "output_type": "stream",
     "text": [
      "APO 240.79098149028 deg -56.684988093815655 deg\n"
     ]
    }
   ],
   "source": [
    "print(obs,ra,dec)"
   ]
  },
  {
   "cell_type": "code",
   "execution_count": 13,
   "metadata": {},
   "outputs": [],
   "source": [
    "init_vels = get_berv(times,obs,ra,dec)\n",
    "init_shifts = jabble.dataset.shifts(init_vels)"
   ]
  },
  {
   "cell_type": "code",
   "execution_count": 14,
   "metadata": {},
   "outputs": [],
   "source": [
    "rvs = data['parameters']['rvs']"
   ]
  },
  {
   "cell_type": "code",
   "execution_count": 15,
   "metadata": {},
   "outputs": [],
   "source": [
    "import matplotlib.pyplot as plt"
   ]
  },
  {
   "cell_type": "code",
   "execution_count": 16,
   "metadata": {},
   "outputs": [],
   "source": [
    "rvs = np.array(rvs)*u.km/u.s"
   ]
  },
  {
   "cell_type": "code",
   "execution_count": 17,
   "metadata": {
    "scrolled": true
   },
   "outputs": [
    {
     "data": {
      "text/plain": [
       "[<matplotlib.lines.Line2D at 0x12f1a0438>]"
      ]
     },
     "execution_count": 17,
     "metadata": {},
     "output_type": "execute_result"
    },
    {
     "data": {
      "image/png": "[encoded data removed]",
      "text/plain": [
       "<Figure size 432x288 with 1 Axes>"
      ]
     },
     "metadata": {
      "needs_background": "light"
     },
     "output_type": "display_data"
    }
   ],
   "source": [
    "dts = times-at.Time.now()\n",
    "# period over a year bc I didn't give the stellar model any\n",
    "# drifting velocity in simulacra\n",
    "plt.plot((times - min(times)).to(u.day).value,rvs,'*k')"
   ]
  },
  {
   "cell_type": "code",
   "execution_count": 18,
   "metadata": {},
   "outputs": [
    {
     "data": {
      "text/plain": [
       "[<matplotlib.lines.Line2D at 0x12e3db550>]"
      ]
     },
     "execution_count": 18,
     "metadata": {},
     "output_type": "execute_result"
    },
    {
     "data": {
      "image/png": "[encoded data removed]",
      "text/plain": [
       "<Figure size 432x288 with 1 Axes>"
      ]
     },
     "metadata": {
      "needs_background": "light"
     },
     "output_type": "display_data"
    }
   ],
   "source": [
    "plt.plot((times - min(times)).to(u.day).value % period.value,rvs-init_vels,'*k')"
   ]
  },
  {
   "cell_type": "markdown",
   "metadata": {},
   "source": [
    "the mitochondrdia is the powehouse of the cell"
   ]
  },
  {
   "cell_type": "code",
   "execution_count": 19,
   "metadata": {},
   "outputs": [],
   "source": [
    "loss = jabble.loss.ChiSquare()"
   ]
  },
  {
   "cell_type": "code",
   "execution_count": 20,
   "metadata": {},
   "outputs": [],
   "source": [
    "import astropy.constants as const\n",
    "resolution = data['theory']['resolution'][()]\n",
    "vel_padding = 500 * u.m/u.s"
   ]
  },
  {
   "cell_type": "code",
   "execution_count": 21,
   "metadata": {},
   "outputs": [
    {
     "name": "stderr",
     "output_type": "stream",
     "text": [
      "WARNING:absl:No GPU/TPU found, falling back to CPU. (Set TF_CPP_MIN_LOG_LEVEL=0 and rerun for more info.)\n"
     ]
    }
   ],
   "source": [
    "x_grid = jabble.model.create_x_grid(wob_data.xs,vel_padding,resolution)#step=jabble.dataset.shifts(const.c.to(u.km/u.s)/resolution))\n",
    "stellar_model = jabble.model.CompositeModel([jabble.model.ShiftingModel(init_shifts),jabble.model.JaxLinear(x_grid)])\n",
    "stellar_model.fit(1)"
   ]
  },
  {
   "cell_type": "code",
   "execution_count": 22,
   "metadata": {},
   "outputs": [
    {
     "name": "stdout",
     "output_type": "stream",
     "text": [
      "[ Value: 2.21e+14 ]\n",
      "[ Value: 2.52e+15 ]\n",
      "[ Value: 1.92e+14 ]\n",
      "[ Value: 1.60e+14 ]\n",
      "[ Value: 1.02e+14 ]\n",
      "[ Value: 9.02e+13 ]\n"
     ]
    }
   ],
   "source": [
    "maxiter = 4\n",
    "res = stellar_model.optimize(loss,wob_data,maxiter)"
   ]
  },
  {
   "cell_type": "code",
   "execution_count": 23,
   "metadata": {},
   "outputs": [],
   "source": [
    "vel_width = 500 * u.km/u.s"
   ]
  },
  {
   "cell_type": "code",
   "execution_count": null,
   "metadata": {},
   "outputs": [],
   "source": [
    "velocity_kern = np.arange(-vel_width.to(u.km/u.s).value,vel_width.to(u.km/u.s).value,const.c.to(u.km/u.s).value/resolution)*u.km/u.s\n",
    "velocity_grid = np.add.outer(init_vels,velocity_kern)\n",
    "\n",
    "shift_grid = jabble.dataset.shifts(velocity_grid)\n",
    "loss_array = stellar_model[0].grid_search(shift_grid,loss,stellar_model,wob_data)\n",
    "# loss_array    = jabble.dataset.get_loss_array(shift_grid,stellar_model[1],wob_data.xs,wob_data.ys,wob_data.yerr,loss)\n",
    "# # stacked = np.stack((shift_grid,loss_array))\n",
    "# # wobble_model.save(loss_name,stacked)\n",
    "# x_min, x_vals, y_vals, polynomials   = jabble.dataset.get_parabolic_min(loss_array,shift_grid,return_all=True)\n",
    "# stellar_model[0].p = x_min\n",
    "# wobble_model.save(x_name,x_min)"
   ]
  },
  {
   "cell_type": "code",
   "execution_count": null,
   "metadata": {},
   "outputs": [],
   "source": [
    "velocity_kern.shape"
   ]
  },
  {
   "cell_type": "code",
   "execution_count": null,
   "metadata": {},
   "outputs": [],
   "source": [
    "import matplotlib.pyplot as plt"
   ]
  },
  {
   "cell_type": "code",
   "execution_count": null,
   "metadata": {},
   "outputs": [],
   "source": [
    "epoch_idx = 0\n",
    "plt.plot(shift_grid[epoch_idx,:],loss_array[epoch_idx,:],'*k')"
   ]
  },
  {
   "cell_type": "code",
   "execution_count": null,
   "metadata": {},
   "outputs": [],
   "source": [
    "stellar_model.fit(0)\n",
    "maxiter = 32\n",
    "res,callback = stellar_model.optimize(loss,wob_data,maxiter)"
   ]
  },
  {
   "cell_type": "code",
   "execution_count": null,
   "metadata": {},
   "outputs": [],
   "source": [
    "final_vels = jabble.dataset.velocityfromshift(stellar_model[0].p)"
   ]
  },
  {
   "cell_type": "code",
   "execution_count": null,
   "metadata": {},
   "outputs": [],
   "source": [
    "plt.plot((times - min(times)).to(u.day).value % period.value,rvs-init_vels,'*k')\n",
    "plt.plot((times - min(times)).to(u.day).value % period.value,final_vels-init_vels,'*r')\n",
    "plt.ylim(-1,1)"
   ]
  },
  {
   "cell_type": "code",
   "execution_count": null,
   "metadata": {},
   "outputs": [],
   "source": []
  }
 ],
 "metadata": {
  "kernelspec": {
   "display_name": "Python 3",
   "language": "python",
   "name": "python3"
  },
  "language_info": {
   "codemirror_mode": {
    "name": "ipython",
    "version": 3
   },
   "file_extension": ".py",
   "mimetype": "text/x-python",
   "name": "python",
   "nbconvert_exporter": "python",
   "pygments_lexer": "ipython3",
   "version": "3.7.1"
  }
 },
 "nbformat": 4,
 "nbformat_minor": 4
}

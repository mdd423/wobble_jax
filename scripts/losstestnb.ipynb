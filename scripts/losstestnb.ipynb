{
 "cells": [
  {
   "cell_type": "code",
   "execution_count": 1,
   "metadata": {},
   "outputs": [],
   "source": [
    "import numpy as np\n",
    "import matplotlib.pyplot as plt\n",
    "import astropy.table as at\n",
    "import jax.numpy as jnp\n",
    "\n",
    "import loss      as wobble_loss\n",
    "import simulator as wobble_sim\n",
    "import model     as wobble_model\n",
    "import dataset   as wobble_data"
   ]
  },
  {
   "cell_type": "code",
   "execution_count": 2,
   "metadata": {},
   "outputs": [],
   "source": [
    "import jax"
   ]
  },
  {
   "cell_type": "code",
   "execution_count": 3,
   "metadata": {},
   "outputs": [],
   "source": [
    "size= 200\n",
    "n_epoches = 8\n",
    "x_shifts = np.zeros(n_epoches)\n",
    "x_0 = np.linspace(0,1,size)\n",
    "y = np.zeros((n_epoches,size))\n",
    "\n",
    "x = np.empty((n_epoches,size))\n",
    "for i in range(n_epoches):\n",
    "    x[i,:] = x_0"
   ]
  },
  {
   "cell_type": "code",
   "execution_count": 4,
   "metadata": {},
   "outputs": [],
   "source": [
    "%load_ext line_profiler"
   ]
  },
  {
   "cell_type": "code",
   "execution_count": 5,
   "metadata": {},
   "outputs": [
    {
     "name": "stderr",
     "output_type": "stream",
     "text": [
      "WARNING:absl:No GPU/TPU found, falling back to CPU. (Set TF_CPP_MIN_LOG_LEVEL=0 and rerun for more info.)\n"
     ]
    }
   ],
   "source": [
    "n = 256\n",
    "\n",
    "loss_1 = wobble_model.LossFunc('L2Loss')\n",
    "model  = wobble_model.JnpLin(n,y,x,x_shifts)"
   ]
  },
  {
   "cell_type": "code",
   "execution_count": 50,
   "metadata": {},
   "outputs": [],
   "source": [
    "%lprun -f wobble_loss.loss_dict[loss_1.func_list[0]] loss_1(model.params,model)"
   ]
  },
  {
   "cell_type": "code",
   "execution_count": 51,
   "metadata": {},
   "outputs": [],
   "source": [
    "%lprun -f loss_1.__call__ loss_1(model.params,model)"
   ]
  },
  {
   "cell_type": "code",
   "execution_count": 20,
   "metadata": {},
   "outputs": [],
   "source": [
    "%lprun -f model.forward loss_1(model.params,model)"
   ]
  },
  {
   "cell_type": "code",
   "execution_count": 48,
   "metadata": {},
   "outputs": [],
   "source": [
    "%lprun -f model.__call__ loss_1(model.params,model)"
   ]
  },
  {
   "cell_type": "code",
   "execution_count": 6,
   "metadata": {},
   "outputs": [],
   "source": [
    "%lprun -f jax.numpy.interp loss_1(model.params,model)"
   ]
  },
  {
   "cell_type": "code",
   "execution_count": 45,
   "metadata": {},
   "outputs": [
    {
     "name": "stdout",
     "output_type": "stream",
     "text": [
      "[      8      16      32      64     128     256     512    1024    2048\n",
      "    4096    8192   16384   32768   65536  131072  262144  524288 1048576]\n",
      "48.0\n",
      "96.0\n",
      "192.0\n",
      "384.0\n",
      "768.0\n",
      "1536.0\n",
      "3072.0\n",
      "6144.0\n",
      "12288.0\n",
      "24576.0\n",
      "49152.0\n",
      "98304.0\n",
      "196608.0\n",
      "393216.0\n",
      "786432.0\n",
      "1572864.0\n",
      "3145728.0\n",
      "6291456.0\n"
     ]
    }
   ],
   "source": [
    "import time\n",
    "idx   = np.arange(3,21)\n",
    "n_all = np.empty(idx.shape,dtype=int)\n",
    "for i,idx in enumerate(idx):\n",
    "    n_all[i] = int(2**idx)\n",
    "print(n_all)\n",
    "n_epoches = 8\n",
    "times = []\n",
    "x_shifts = np.zeros(n_epoches)\n",
    "for n in n_all:\n",
    "    size = int(n*3/2)\n",
    "    \n",
    "    x_0 = np.linspace(0,1,size)\n",
    "    y = np.zeros((n_epoches,size))\n",
    "\n",
    "    x = np.empty((n_epoches,size))\n",
    "    for i in range(n_epoches):\n",
    "        x[i,:] = x_0\n",
    "    \n",
    "    loss_1 = wobble_model.LossFunc('L2Loss')\n",
    "    model  = wobble_model.JnpLin(n,y,x,x_shifts)\n",
    "    \n",
    "    start = time.time()\n",
    "    print(loss_1(model.params,model))\n",
    "    stop = time.time()\n",
    "    times.append(stop-start)"
   ]
  },
  {
   "cell_type": "code",
   "execution_count": 46,
   "metadata": {},
   "outputs": [
    {
     "data": {
      "text/plain": [
       "Text(0, 0.5, 'log t')"
      ]
     },
     "execution_count": 46,
     "metadata": {},
     "output_type": "execute_result"
    },
    {
     "data": {
      "image/png": "[encoded data removed]",
      "text/plain": [
       "<Figure size 432x288 with 1 Axes>"
      ]
     },
     "metadata": {
      "needs_background": "light"
     },
     "output_type": "display_data"
    }
   ],
   "source": [
    "plt.loglog(n_all,times,'.b')\n",
    "plt.xlabel('log N')\n",
    "plt.ylabel('log t')"
   ]
  },
  {
   "cell_type": "code",
   "execution_count": 12,
   "metadata": {},
   "outputs": [],
   "source": [
    "n = 256*256*8\n",
    "size = int(n*3/2)\n",
    "    \n",
    "x_0 = np.linspace(0,1,size)\n",
    "y = np.zeros((n_epoches,size))\n",
    "\n",
    "x = np.empty((n_epoches,size))\n",
    "for i in range(n_epoches):\n",
    "    x[i,:] = x_0\n",
    "\n",
    "loss_1 = wobble_model.LossFunc('L2Loss')\n",
    "model  = wobble_model.JnpLin(n,y,x,x_shifts)"
   ]
  },
  {
   "cell_type": "code",
   "execution_count": 31,
   "metadata": {},
   "outputs": [],
   "source": [
    "import jax.numpy as jnp\n",
    "n = 256*256*16\n",
    "size = int(n*3/2)\n",
    "    \n",
    "x_0 = jnp.linspace(0,1,size)\n",
    "y = jnp.array(np.random.normal(size=(n_epoches,size)))\n",
    "\n",
    "x = np.zeros((n_epoches,size),dtype=np.float32)\n",
    "for i in range(n_epoches):\n",
    "    x[i,:] = x_0\n",
    "x = jnp.array(x)\n",
    "\n",
    "loss_1 = wobble_model.LossFunc('L2Loss')\n",
    "model  = wobble_model.JnpLin(n,y,x,x_shifts)"
   ]
  },
  {
   "cell_type": "code",
   "execution_count": 32,
   "metadata": {},
   "outputs": [],
   "source": [
    "%lprun -f jax.numpy.interp loss_1(model.params,model)"
   ]
  },
  {
   "cell_type": "code",
   "execution_count": 33,
   "metadata": {},
   "outputs": [
    {
     "name": "stdout",
     "output_type": "stream",
     "text": [
      "float32\n"
     ]
    }
   ],
   "source": [
    "print(x.dtype)"
   ]
  },
  {
   "cell_type": "code",
   "execution_count": 34,
   "metadata": {},
   "outputs": [
    {
     "name": "stdout",
     "output_type": "stream",
     "text": [
      "float32\n"
     ]
    }
   ],
   "source": [
    "print(y.dtype)"
   ]
  },
  {
   "cell_type": "code",
   "execution_count": null,
   "metadata": {},
   "outputs": [],
   "source": []
  }
 ],
 "metadata": {
  "kernelspec": {
   "display_name": "Python 3",
   "language": "python",
   "name": "python3"
  },
  "language_info": {
   "codemirror_mode": {
    "name": "ipython",
    "version": 3
   },
   "file_extension": ".py",
   "mimetype": "text/x-python",
   "name": "python",
   "nbconvert_exporter": "python",
   "pygments_lexer": "ipython3",
   "version": "3.7.1"
  }
 },
 "nbformat": 4,
 "nbformat_minor": 4
}

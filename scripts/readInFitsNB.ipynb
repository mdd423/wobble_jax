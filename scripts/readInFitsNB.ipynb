{
 "cells": [
  {
   "cell_type": "code",
   "execution_count": 37,
   "metadata": {},
   "outputs": [],
   "source": [
    "import numpy as np\n",
    "import matplotlib.pyplot as plt\n",
    "import astropy.table as at\n",
    "import astropy.units as u"
   ]
  },
  {
   "cell_type": "code",
   "execution_count": 4,
   "metadata": {},
   "outputs": [],
   "source": [
    "tbl = at.QTable.read('data/hat-p-20.fits')"
   ]
  },
  {
   "cell_type": "code",
   "execution_count": 5,
   "metadata": {},
   "outputs": [
    {
     "data": {
      "text/plain": [
       "<SkyCoord (GCRS: obstime=2456671.85989, obsgeoloc=(-3923680.51104034, 3661143.05206874, 3440582.68083093) m, obsgeovel=(-266.98500951, -286.46640594, 0.35765319) m / s): (ra, dec, distance) in (deg, deg, AU)\n",
       "    (316.97619051, -32.66695934, 4.26122618e-05)>"
      ]
     },
     "execution_count": 5,
     "metadata": {},
     "output_type": "execute_result"
    }
   ],
   "source": [
    "from astropy.time import Time\n",
    "from astropy.coordinates import solar_system_ephemeris, EarthLocation\n",
    "from astropy.coordinates import get_body_barycentric, get_body, get_moon\n",
    "t = Time(tbl['BJD'][14],format='jd',scale='tdb')\n",
    "loc = EarthLocation.of_site('apo') \n",
    "with solar_system_ephemeris.set('builtin'):\n",
    "    earth_posvel = get_body('earth', t, loc) \n",
    "earth_posvel"
   ]
  },
  {
   "cell_type": "code",
   "execution_count": 6,
   "metadata": {},
   "outputs": [],
   "source": [
    "import astropy.coordinates as coord\n",
    "\n",
    "hatp20_c = coord.SkyCoord.from_name('HAT-P-20')\n",
    "loc = coord.EarthLocation.of_site('APO')\n",
    "ts = Time(tbl['BJD'], format='jd', scale='tdb')\n",
    "bc = hatp20_c.radial_velocity_correction(obstime=ts, location=loc).to(u.km/u.s)"
   ]
  },
  {
   "cell_type": "code",
   "execution_count": 7,
   "metadata": {},
   "outputs": [
    {
     "name": "stdout",
     "output_type": "stream",
     "text": [
      "7.255264357409506 km / s\n"
     ]
    }
   ],
   "source": [
    "print(bc[0])"
   ]
  },
  {
   "cell_type": "code",
   "execution_count": 8,
   "metadata": {},
   "outputs": [
    {
     "name": "stdout",
     "output_type": "stream",
     "text": [
      "-26.24759103545591 km / s\n"
     ]
    }
   ],
   "source": [
    "print(bc[35])"
   ]
  },
  {
   "cell_type": "code",
   "execution_count": 26,
   "metadata": {},
   "outputs": [],
   "source": [
    "import scipy.constants as const\n",
    "\n",
    "def zplusone(vel):\n",
    "    return np.sqrt((1 + vel/(const.c*u.m/u.s))/(1 - vel/(const.c*u.m/u.s)))\n",
    "\n",
    "def shifts(vel):\n",
    "    return (1/zplusone(vel)) - 1"
   ]
  },
  {
   "cell_type": "markdown",
   "metadata": {},
   "source": [
    "\\lambda_{emit} (z + 1) = \\lambda_{observed}\n",
    "\\lambda_{emit} = 1/(z + 1) \\lambda_{observed}\n",
    "\\log \\lambda_{emit} = \\log (1/(z + 1) \\lambda_{observed})\n",
    "\\log \\lambda_{emit} = \\log (1/(z + 1)) + \\log (\\lambda_{observed})\n",
    "\\log \\lambda_{emit} - \\log (\\lambda_{observed}) = \\log (1/(z + 1))\n",
    "\\delta \\log \\lambda = \\log (z + 1)\n",
    "\n",
    "\n",
    "\\lambda_{emit} - \\lambda_{observed} = (1/(z + 1) - 1) \\lambda_{observed}\n",
    "\\delta \\lambda = (1/(z + 1) - 1) \\lambda_{observed}"
   ]
  },
  {
   "cell_type": "code",
   "execution_count": 27,
   "metadata": {},
   "outputs": [],
   "source": [
    "shift_z = shifts(bc)"
   ]
  },
  {
   "cell_type": "code",
   "execution_count": 29,
   "metadata": {},
   "outputs": [
    {
     "data": {
      "image/png": "[encoded data removed]",
      "text/plain": [
       "<Figure size 432x288 with 1 Axes>"
      ]
     },
     "metadata": {
      "needs_background": "light"
     },
     "output_type": "display_data"
    }
   ],
   "source": [
    "plt.plot(shift_z)\n",
    "plt.show()"
   ]
  },
  {
   "cell_type": "code",
   "execution_count": 30,
   "metadata": {},
   "outputs": [],
   "source": [
    "import loss as wobble_loss\n",
    "import simulator as wobble_sim\n",
    "import model as wobble_model\n",
    "import jax.numpy as jnp\n"
   ]
  },
  {
   "cell_type": "code",
   "execution_count": 31,
   "metadata": {},
   "outputs": [],
   "source": [
    "fluxes  = np.array(tbl['flux'])\n",
    "lambdas = np.array(tbl['wavelength'])"
   ]
  },
  {
   "cell_type": "code",
   "execution_count": 32,
   "metadata": {},
   "outputs": [
    {
     "name": "stdout",
     "output_type": "stream",
     "text": [
      "(60, 6144)\n"
     ]
    }
   ],
   "source": [
    "print(lambdas.shape)"
   ]
  },
  {
   "cell_type": "code",
   "execution_count": 33,
   "metadata": {},
   "outputs": [],
   "source": [
    "averages = np.average(lambdas,axis=1)"
   ]
  },
  {
   "cell_type": "code",
   "execution_count": 34,
   "metadata": {},
   "outputs": [
    {
     "name": "stdout",
     "output_type": "stream",
     "text": [
      "(60,)\n"
     ]
    }
   ],
   "source": [
    "print(averages.shape)"
   ]
  },
  {
   "cell_type": "code",
   "execution_count": 35,
   "metadata": {},
   "outputs": [],
   "source": [
    "lamb_shift = np.multiply(averages, shift_z)"
   ]
  },
  {
   "cell_type": "code",
   "execution_count": 36,
   "metadata": {},
   "outputs": [
    {
     "data": {
      "text/plain": [
       "[<matplotlib.lines.Line2D at 0x115ef8c50>]"
      ]
     },
     "execution_count": 36,
     "metadata": {},
     "output_type": "execute_result"
    },
    {
     "data": {
      "image/png": "[encoded data removed]",
      "text/plain": [
       "<Figure size 432x288 with 1 Axes>"
      ]
     },
     "metadata": {
      "needs_background": "light"
     },
     "output_type": "display_data"
    }
   ],
   "source": [
    "plt.plot(lamb_shift)"
   ]
  },
  {
   "cell_type": "code",
   "execution_count": null,
   "metadata": {},
   "outputs": [],
   "source": [
    "def dataInterp(masks,flux):\n",
    "    cnt = 0\n",
    "    new_flux = flux[:]\n",
    "    for i, mask in enumerate(masks):\n",
    "        if mask != 0:\n",
    "            cnt += 1\n",
    "        if mask == 0 and cnt != 0:\n",
    "            new_flux[i-cnt:i] = np.linspace(flux[i-cnt-1],flux[i],cnt+2)[1:-1]\n",
    "            cnt = 0\n",
    "            \n",
    "    return new_flux"
   ]
  }
 ],
 "metadata": {
  "kernelspec": {
   "display_name": "Python 3",
   "language": "python",
   "name": "python3"
  },
  "language_info": {
   "codemirror_mode": {
    "name": "ipython",
    "version": 3
   },
   "file_extension": ".py",
   "mimetype": "text/x-python",
   "name": "python",
   "nbconvert_exporter": "python",
   "pygments_lexer": "ipython3",
   "version": "3.7.1"
  }
 },
 "nbformat": 4,
 "nbformat_minor": 4
}

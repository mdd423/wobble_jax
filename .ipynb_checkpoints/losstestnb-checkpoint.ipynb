{
 "cells": [
  {
   "cell_type": "code",
   "execution_count": 1,
   "metadata": {},
   "outputs": [],
   "source": [
    "import numpy as np\n",
    "import matplotlib.pyplot as plt\n",
    "import astropy.table as at\n",
    "import jax.numpy as jnp\n",
    "\n",
    "import loss      as wobble_loss\n",
    "import simulator as wobble_sim\n",
    "import model     as wobble_model\n",
    "import dataset   as wobble_data"
   ]
  },
  {
   "cell_type": "code",
   "execution_count": 2,
   "metadata": {},
   "outputs": [],
   "source": [
    "import jax"
   ]
  },
  {
   "cell_type": "code",
   "execution_count": 12,
   "metadata": {},
   "outputs": [],
   "source": [
    "size= 200\n",
    "n_epoches = 8\n",
    "x_shifts = np.zeros(n_epoches)\n",
    "x_0 = np.linspace(0,1,size)\n",
    "y = np.zeros((n_epoches,size))\n",
    "\n",
    "x = np.empty((n_epoches,size))\n",
    "for i in range(n_epoches):\n",
    "    x[i,:] = x_0"
   ]
  },
  {
   "cell_type": "code",
   "execution_count": 5,
   "metadata": {},
   "outputs": [],
   "source": [
    "%load_ext line_profiler"
   ]
  },
  {
   "cell_type": "code",
   "execution_count": 7,
   "metadata": {},
   "outputs": [],
   "source": [
    "n = 256\n",
    "\n",
    "loss_1 = wobble_model.LossFunc('L2Loss')\n",
    "model  = wobble_model.JnpLin(n,y,x,x_shifts)"
   ]
  },
  {
   "cell_type": "code",
   "execution_count": 16,
   "metadata": {},
   "outputs": [],
   "source": [
    "%lprun -f wobble_loss.loss_dict[loss_1.func_list[0]] loss_1(model.params,model)"
   ]
  },
  {
   "cell_type": "code",
   "execution_count": 17,
   "metadata": {},
   "outputs": [],
   "source": [
    "%lprun -f loss_1.__call__ loss_1(model.params,model)"
   ]
  },
  {
   "cell_type": "code",
   "execution_count": 20,
   "metadata": {},
   "outputs": [],
   "source": [
    "%lprun -f model.forward loss_1(model.params,model)"
   ]
  },
  {
   "cell_type": "code",
   "execution_count": 21,
   "metadata": {},
   "outputs": [],
   "source": [
    "%lprun -f model.__call__ loss_1(model.params,model)"
   ]
  },
  {
   "cell_type": "code",
   "execution_count": null,
   "metadata": {},
   "outputs": [],
   "source": [
    "n_all = int(2**(np.arange(1,5)))\n",
    "n_epoches = 8\n",
    "for n in n_all:\n",
    "    size= 200\n",
    "    \n",
    "    x_shifts = np.zeros(n_epoches)\n",
    "    x_0 = np.linspace(0,1,size)\n",
    "    y = np.zeros((n_epoches,size))\n",
    "\n",
    "    x = np.empty((n_epoches,size))\n",
    "    for i in range(n_epoches):\n",
    "        x[i,:] = x_0"
   ]
  }
 ],
 "metadata": {
  "kernelspec": {
   "display_name": "Python 3",
   "language": "python",
   "name": "python3"
  },
  "language_info": {
   "codemirror_mode": {
    "name": "ipython",
    "version": 3
   },
   "file_extension": ".py",
   "mimetype": "text/x-python",
   "name": "python",
   "nbconvert_exporter": "python",
   "pygments_lexer": "ipython3",
   "version": "3.7.1"
  }
 },
 "nbformat": 4,
 "nbformat_minor": 4
}

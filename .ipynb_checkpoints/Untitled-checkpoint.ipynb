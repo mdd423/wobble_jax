{
 "cells": [
  {
   "cell_type": "code",
   "execution_count": 1,
   "metadata": {},
   "outputs": [],
   "source": [
    "import numpy as np\n",
    "import matplotlib.pyplot as plt\n",
    "import astropy.table as at\n",
    "import jax.numpy as jnp\n",
    "\n",
    "import loss      as wobble_loss\n",
    "import simulator as wobble_sim\n",
    "import model     as wobble_model\n",
    "import dataset   as wobble_data"
   ]
  },
  {
   "cell_type": "code",
   "execution_count": null,
   "metadata": {},
   "outputs": [],
   "source": [
    "@profile\n",
    "def main():\n",
    "    sigma = 80\n",
    "    l = 0 \n",
    "    r = 200\n",
    "    n = 256\n",
    "    maxiter =4\n",
    "    tbl     = at.QTable.read('data/hat-p-20.fits')\n",
    "    dataset = wobble_data.AstroDataset(tbl['flux'],tbl['wavelength'],tbl['mask'],tbl['flux_err'])\n",
    "    dataset.interpolate_mask()\n",
    "    dataset.gauss_filter(sigma=sigma)\n",
    "    x, y, y_err = dataset.get_xy(subset=(l,r))\n",
    "\n",
    "    x_shifts = wobble_data.getInitXShift(tbl['BJD'],'HAT-P-20','APO')\n",
    "\n",
    "    loss_1 = wobble_model.LossFunc('L2Loss')\n",
    "    model  = wobble_model.JnpLin(n,y,x,x_shifts)\n",
    "\n",
    "    model.optimize(loss_1,maxiter=maxiter)\n",
    "    model.plot()\n",
    "    plt.savefig('out/hatp20jnpL{}_R{}_N{}f.png'.format(args.l,args.r,args.n))\n",
    "    model.save_model('modeln{}_l{}_r{}_mI{}f.pt'.format(args.n,args.l,args.r,args.maxiter))\n"
   ]
  }
 ],
 "metadata": {
  "kernelspec": {
   "display_name": "Python 3",
   "language": "python",
   "name": "python3"
  },
  "language_info": {
   "codemirror_mode": {
    "name": "ipython",
    "version": 3
   },
   "file_extension": ".py",
   "mimetype": "text/x-python",
   "name": "python",
   "nbconvert_exporter": "python",
   "pygments_lexer": "ipython3",
   "version": "3.7.1"
  }
 },
 "nbformat": 4,
 "nbformat_minor": 4
}

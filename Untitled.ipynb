{
 "cells": [
  {
   "cell_type": "code",
   "execution_count": 1,
   "metadata": {},
   "outputs": [
    {
     "ename": "SyntaxError",
     "evalue": "invalid syntax (simulator.py, line 16)",
     "output_type": "error",
     "traceback": [
      "Traceback \u001b[0;36m(most recent call last)\u001b[0m:\n",
      "  File \u001b[1;32m\"/Library/Frameworks/Python.framework/Versions/3.7/lib/python3.7/site-packages/IPython/core/interactiveshell.py\"\u001b[0m, line \u001b[1;32m3319\u001b[0m, in \u001b[1;35mrun_code\u001b[0m\n    exec(code_obj, self.user_global_ns, self.user_ns)\n",
      "  File \u001b[1;32m\"<ipython-input-1-855a3605b2b8>\"\u001b[0m, line \u001b[1;32m7\u001b[0m, in \u001b[1;35m<module>\u001b[0m\n    import loss      as wobble_loss\n",
      "  File \u001b[1;32m\"/Users/matthewdaunt/Documents/pythons/wobble_toys/repos/wobble_jax/loss.py\"\u001b[0m, line \u001b[1;32m1\u001b[0m, in \u001b[1;35m<module>\u001b[0m\n    import model as wobble_model\n",
      "\u001b[0;36m  File \u001b[0;32m\"/Users/matthewdaunt/Documents/pythons/wobble_toys/repos/wobble_jax/model.py\"\u001b[0;36m, line \u001b[0;32m10\u001b[0;36m, in \u001b[0;35m<module>\u001b[0;36m\u001b[0m\n\u001b[0;31m    import simulator as wobble_sim\u001b[0m\n",
      "\u001b[0;36m  File \u001b[0;32m\"/Users/matthewdaunt/Documents/pythons/wobble_toys/repos/wobble_jax/simulator.py\"\u001b[0;36m, line \u001b[0;32m16\u001b[0m\n\u001b[0;31m    def __init__(self)\u001b[0m\n\u001b[0m                      ^\u001b[0m\n\u001b[0;31mSyntaxError\u001b[0m\u001b[0;31m:\u001b[0m invalid syntax\n"
     ]
    }
   ],
   "source": [
    "import numpy as np\n",
    "import matplotlib.pyplot as plt\n",
    "import astropy.table as at\n",
    "import astropy.units as u\n",
    "import jax.numpy as jnps\n",
    "\n",
    "import loss      as wobble_loss\n",
    "import simulator as wobble_sim\n",
    "import model     as wobble_model\n",
    "import dataset   as wobble_data\n",
    "import plottings as wobble_plot"
   ]
  },
  {
   "cell_type": "code",
   "execution_count": null,
   "metadata": {},
   "outputs": [],
   "source": [
    "import astropy.constants as const\n",
    "import astropy.coordinates as coord\n",
    "import astropy.time as time\n",
    "import os.path as path"
   ]
  },
  {
   "cell_type": "code",
   "execution_count": null,
   "metadata": {},
   "outputs": [],
   "source": [
    "sigma = 80\n",
    "l = 0\n",
    "r = 6000\n",
    "n = 7000\n",
    "vel_width = 300.0\n",
    "resolving_constant = 40000\n",
    "# period = 2.8753172 # hat-p-20\n",
    "period = 2.1945 # 2M143\n",
    "# period = 2.4575034 #2M03322\n",
    "filename = 'data/2M14371943+5754143.fits' #'data/2M03322788-0658199.fits'#'data/2M14371943+5754143.fits'#'data/hat-p-20.fits'\n",
    "star_name  = '2MASS J14371943+5754143'#'2MASS J03322788-0658199'#'2MASS J14371943+5754143' #''\n",
    "mod_dir   = 'models/junetests/wob_7641930/'\n",
    "obs_name = 'APO'\n",
    "file_tail = path.split(filename)[1][:-4]\n",
    "tbl     = at.QTable.read(filename)\n",
    "dataset = wobble_data.AstroDataset(tbl['flux'],tbl['wavelength'],tbl['mask'],tbl['flux_err'])\n",
    "dataset.interpolate_mask()\n",
    "filtered = dataset.gauss_filter(sigma=sigma)"
   ]
  },
  {
   "cell_type": "code",
   "execution_count": null,
   "metadata": {},
   "outputs": [],
   "source": [
    "x, y, yerr = dataset.get_xy(filtered)"
   ]
  },
  {
   "cell_type": "code",
   "execution_count": null,
   "metadata": {},
   "outputs": [],
   "source": [
    "model_name = mod_dir + 'model{}n{}_l{}_r{}_mI256_chi_s{}_rs{}.pt'.format(file_tail,n,l,r,vel_width,resolving_constant)\n",
    "model      = wobble_model.load(model_name)\n",
    "model_tail = path.split(model_name)[1][:-3]"
   ]
  },
  {
   "cell_type": "code",
   "execution_count": null,
   "metadata": {},
   "outputs": [],
   "source": [
    "x_name_1 = mod_dir + 'xs{}n{}_l{}_r{}_mI256_chi_s{}_rs{}.xs'.format(file_tail,n,l,r,vel_width,resolving_constant)\n",
    "x_min_1 = wobble_model.load(x_name_1)"
   ]
  },
  {
   "cell_type": "code",
   "execution_count": null,
   "metadata": {},
   "outputs": [],
   "source": [
    "epoch_idx = 4\n",
    "residuals = (y[epoch_idx,:] - model(model.params,x[epoch_idx,:],i=epoch_idx)) / yerr[epoch_idx,:]"
   ]
  },
  {
   "cell_type": "code",
   "execution_count": null,
   "metadata": {},
   "outputs": [],
   "source": [
    "rms_chi = np.sqrt(np.mean(residuals ** 2))\n",
    "print(rms_chi)"
   ]
  },
  {
   "cell_type": "code",
   "execution_count": null,
   "metadata": {},
   "outputs": [],
   "source": [
    "fig, ax = plt.subplots(nrows=2,ncols=1,figsize=(20,16),sharey=False,sharex=True)\n",
    "ax[0].step(x[n,:],residuals,where='mid',color='k')\n",
    "hline_1 = ax[0].hlines(rms_chi,np.min(x[n,:]),np.max(x[n,:]))\n",
    "ax[0].legend([hline_1],[rms_chi])\n",
    "ax[0].set_ylim(-3,3)\n",
    "\n",
    "ax[1].errorbar(x[epoch_idx,:],y[epoch_idx,:],yerr[epoch_idx,:],fmt='.k',elinewidth=0.7,zorder=1,alpha=0.5,ms=6)\n",
    "ax[1].plot(model.x-x_min_1[epoch_idx],model.params,'r',linestyle='solid',linewidth=1.1,zorder=2,alpha=0.9,ms=6)\n",
    "ax[1].set_ylim(-0.8,0.3)\n",
    "\n",
    "xmin = 9.655\n",
    "xmax = 9.660\n",
    "# plt.xlim(xmin,xmax)\n",
    "# plt.show()\n",
    "plt.savefig(mod_dir + 'ress{}_e{}.png'.format(model_tail,epoch_idx))"
   ]
  },
  {
   "cell_type": "code",
   "execution_count": null,
   "metadata": {},
   "outputs": [],
   "source": [
    "model_name_final  = mod_dir + 'model{}n{}_l{}_r{}_mI256_2mI256_chi_s{}_rs{}.pt'.format(file_tail,n,l,r,vel_width,resolving_constant)\n",
    "model_final = wobble_model.load(model_name_final)\n",
    "\n",
    "hatp20_c = coord.SkyCoord.from_name(star_name)\n",
    "loc      = coord.EarthLocation.of_site(obs_name)\n",
    "ts       = time.Time(tbl['BJD'], format='jd', scale='tdb')\n",
    "bc       = hatp20_c.radial_velocity_correction(obstime=ts, location=loc).to(u.m/u.s)"
   ]
  },
  {
   "cell_type": "code",
   "execution_count": null,
   "metadata": {},
   "outputs": [],
   "source": [
    "shifts = model_final.params[-model.epoches:]\n",
    "dates = time.Time(tbl['BJD']-tbl['BJD'].min(),format='jd',scale='tdb')"
   ]
  },
  {
   "cell_type": "code",
   "execution_count": null,
   "metadata": {},
   "outputs": [],
   "source": [
    "velocities = wobble_data.velocityfromshift(shifts)"
   ]
  },
  {
   "cell_type": "code",
   "execution_count": null,
   "metadata": {},
   "outputs": [],
   "source": [
    "plt.figure(figsize=(10,4))\n",
    "plt.plot(dates.value % period,velocities.to(u.km/u.s).value - bc.to(u.km/u.s).value,'*b')\n",
    "plt.xlabel('time (days)')\n",
    "plt.ylabel('velocity (km/s)')\n",
    "plt.savefig(mod_dir + 'datesvels_corr_mod_{}.png'.format(model_tail))"
   ]
  },
  {
   "cell_type": "code",
   "execution_count": null,
   "metadata": {},
   "outputs": [],
   "source": [
    "x_shifts  = wobble_data.getInitXShift(tbl['BJD'],star_name,obs_name)\n",
    "stacked_1    = wobble_model.load(mod_dir + 'loss{}n{}_l{}_r{}_mI256_chi_s{}_rs{}.pt'.format(file_tail,n,l,r,vel_width,resolving_constant))#wobble_data.get_loss_array(shift_grid,model,x[:,l:r],y[:,l:r],yerr[:,l:r],loss_1)\n",
    "loss_array_1 = stacked_1[1,:,:]\n",
    "shift_grid_1 = stacked_1[0,:,:]"
   ]
  },
  {
   "cell_type": "code",
   "execution_count": null,
   "metadata": {},
   "outputs": [],
   "source": [
    "vel_min,xs,ys,poly = wobble_data.get_parabolic_min(loss_array_1,shift_grid_1.value,return_all=True)"
   ]
  },
  {
   "cell_type": "code",
   "execution_count": null,
   "metadata": {},
   "outputs": [],
   "source": [
    "epoch_idx = 1\n",
    "epsilon = 0.0001\n",
    "epsilon_y = 1000\n",
    "y_min = np.polyval(poly[epoch_idx],vel_min[epoch_idx])\n",
    "plt.figure(figsize=(18,8))\n",
    "plt.plot(x_min_1[epoch_idx],y_min,'o')\n",
    "plt.plot(shift_grid_1[epoch_idx,:],loss_array_1[epoch_idx,:],'*k')\n",
    "# plt.plot(shift_grid_2[n,40],loss_array_2[n,40],'*r')\n",
    "\n",
    "xc = np.linspace(xs[epoch_idx,0],xs[epoch_idx,-1],1000)\n",
    "yc = np.polyval(poly[epoch_idx],xc)\n",
    "plt.plot(xc,yc,'r',alpha=0.5)\n",
    "minimum = min(yc)\n",
    "maximum = max(yc)\n",
    "\n",
    "plt.vlines(model.shifted[epoch_idx],ymin=minimum,ymax=maximum,colors='blue')\n",
    "plt.vlines(x_shifts[epoch_idx],ymin=minimum,ymax=maximum,colors='red')\n",
    "plt.savefig(mod_dir + 'ls{}_e{}.png'.format(model_tail,epoch_idx))\n",
    "plt.show()"
   ]
  },
  {
   "cell_type": "code",
   "execution_count": null,
   "metadata": {},
   "outputs": [],
   "source": [
    "plt.plot(model_final.func_evals,'*r')\n",
    "plt.show()"
   ]
  },
  {
   "cell_type": "code",
   "execution_count": null,
   "metadata": {},
   "outputs": [],
   "source": []
  },
  {
   "cell_type": "code",
   "execution_count": null,
   "metadata": {},
   "outputs": [],
   "source": []
  }
 ],
 "metadata": {
  "kernelspec": {
   "display_name": "Python 3",
   "language": "python",
   "name": "python3"
  },
  "language_info": {
   "codemirror_mode": {
    "name": "ipython",
    "version": 3
   },
   "file_extension": ".py",
   "mimetype": "text/x-python",
   "name": "python",
   "nbconvert_exporter": "python",
   "pygments_lexer": "ipython3",
   "version": "3.7.1"
  }
 },
 "nbformat": 4,
 "nbformat_minor": 4
}

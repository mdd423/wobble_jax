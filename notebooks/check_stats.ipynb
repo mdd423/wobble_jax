{
 "cells": [
  {
   "cell_type": "code",
   "execution_count": 1,
   "id": "09c1f53d-1141-442b-babb-746f18d62b67",
   "metadata": {},
   "outputs": [],
   "source": [
    "import pstats\n",
    "from pstats import SortKey"
   ]
  },
  {
   "cell_type": "code",
   "execution_count": 2,
   "id": "18d55e22-0f1f-4132-aff6-42a7299932c9",
   "metadata": {},
   "outputs": [],
   "source": [
    "filenames = ['testdatafull.stats','testdataspar.stats','testdatavmap.stats']\n",
    "\n"
   ]
  },
  {
   "cell_type": "code",
   "execution_count": 3,
   "id": "8113def9-bf22-4ae2-8da8-4181e0ab4789",
   "metadata": {},
   "outputs": [
    {
     "name": "stdout",
     "output_type": "stream",
     "text": [
      "Sun Sep 10 02:17:07 2023    testdatafull.stats\n",
      "\n",
      "         38273663 function calls (37991076 primitive calls) in 753.829 seconds\n",
      "\n",
      "   Ordered by: file name\n",
      "   List reduced from 1616 to 1 due to restriction <'cardinal'>\n",
      "\n",
      "   ncalls  tottime  percall  cumtime  percall filename:lineno(function)\n",
      "     1200    1.584    0.001  631.354    0.526 model.py:572(cardinal_basis_full)\n",
      "\n",
      "\n",
      "Sun Sep 10 02:18:16 2023    testdataspar.stats\n",
      "\n",
      "         63411067 function calls (62820765 primitive calls) in 67.976 seconds\n",
      "\n",
      "   Ordered by: file name\n",
      "   List reduced from 1707 to 1 due to restriction <'cardinal'>\n",
      "\n",
      "   ncalls  tottime  percall  cumtime  percall filename:lineno(function)\n",
      "     1180    0.056    0.000   31.903    0.027 model.py:633(cardinal_basis_sparse)\n",
      "\n",
      "\n",
      "Sun Sep 10 02:19:31 2023    testdatavmap.stats\n",
      "\n",
      "         74216146 function calls (73498284 primitive calls) in 74.686 seconds\n",
      "\n",
      "   Ordered by: file name\n",
      "   List reduced from 1695 to 1 due to restriction <'cardinal'>\n",
      "\n",
      "   ncalls  tottime  percall  cumtime  percall filename:lineno(function)\n",
      "     1180    0.310    0.000   44.703    0.038 model.py:716(cardinal_vmap_model)\n",
      "\n",
      "\n"
     ]
    }
   ],
   "source": [
    "for filename in filenames:\n",
    "    stats = pstats.Stats(filename)\n",
    "    stats.strip_dirs()\n",
    "    stats.sort_stats(SortKey.FILENAME).print_stats(1.0,'cardinal')"
   ]
  },
  {
   "cell_type": "code",
   "execution_count": null,
   "id": "a6585ac5-bd6a-416e-ad7f-6d03f2557aaf",
   "metadata": {},
   "outputs": [],
   "source": []
  }
 ],
 "metadata": {
  "kernelspec": {
   "display_name": "Python 3 (ipykernel)",
   "language": "python",
   "name": "python3"
  },
  "language_info": {
   "codemirror_mode": {
    "name": "ipython",
    "version": 3
   },
   "file_extension": ".py",
   "mimetype": "text/x-python",
   "name": "python",
   "nbconvert_exporter": "python",
   "pygments_lexer": "ipython3",
   "version": "3.11.4"
  }
 },
 "nbformat": 4,
 "nbformat_minor": 5
}

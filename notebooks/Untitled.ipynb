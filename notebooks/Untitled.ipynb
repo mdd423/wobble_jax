{
 "cells": [
  {
   "cell_type": "code",
   "execution_count": 40,
   "id": "09fc34ae",
   "metadata": {},
   "outputs": [],
   "source": [
    "import matplotlib.pyplot as plt\n",
    "import numpy as np\n",
    "import jax.numpy as jnp\n",
    "import jax"
   ]
  },
  {
   "cell_type": "code",
   "execution_count": 56,
   "id": "b710e37d",
   "metadata": {},
   "outputs": [],
   "source": [
    "@jnp.vectorize\n",
    "def b_spline(x,k,d):\n",
    "    if d == 0:\n",
    "        if (k <= x) * (x < (k + 1)):\n",
    "            return 1.0\n",
    "        else:\n",
    "            return 0.0\n",
    "    \n",
    "    return ((x - k)/(d) * b_spline(x,k,d-1)) + ((k + d + 1 - x)/(d + 1) * b_spline(x,k+1,d-1))\n",
    "\n",
    "vb_spline = jax.vmap(b_spline)"
   ]
  },
  {
   "cell_type": "code",
   "execution_count": 57,
   "id": "61737ee5",
   "metadata": {},
   "outputs": [],
   "source": [
    "x_grid = np.linspace(-3,3,5)\n",
    "y_grid = 1 - np.exp(-(x_grid)**2)"
   ]
  },
  {
   "cell_type": "code",
   "execution_count": 58,
   "id": "a6dc52c2",
   "metadata": {},
   "outputs": [],
   "source": [
    "class DeboorInterp:\n",
    "    def __init__(self,x_grid,n):\n",
    "        self.dx = x_grid[1] - x_grid[0]\n",
    "        self.x_grid = x_grid\n",
    "        self.n = n\n",
    "        self.k = jnp.arange(0,len(x_grid),dtype=int)\n",
    "        \n",
    "    def __call__(self,p,x,*args):\n",
    "        temp = (x[None,:] - np.min(self.x_grid[None,:]))/self.dx\n",
    "        print(temp.shape)\n",
    "        temp = b_spline(temp,self.k[:,None],self.n)\n",
    "        print(temp.shape)\n",
    "        \n",
    "        return jnp.dot(p, temp)"
   ]
  },
  {
   "cell_type": "code",
   "execution_count": 59,
   "id": "20d85aa0",
   "metadata": {},
   "outputs": [],
   "source": [
    "interpolater = DeboorInterp(x_grid,3)"
   ]
  },
  {
   "cell_type": "code",
   "execution_count": 60,
   "id": "7c9f7251",
   "metadata": {},
   "outputs": [
    {
     "name": "stdout",
     "output_type": "stream",
     "text": [
      "(1, 50)\n"
     ]
    },
    {
     "ename": "ConcretizationTypeError",
     "evalue": "Abstract tracer value encountered where concrete value is expected: Traced<ShapedArray(bool[])>with<BatchTrace(level=2/0)> with\n  val = Traced<ShapedArray(bool[50])>with<BatchTrace(level=1/0)> with\n    val = Array([[ True,  True,  True,  True,  True,  True,  True,  True,  True,\n         True,  True,  True,  True, False, False, False, False, False,\n        False, False, False, False, False, False, False, False, False,\n        False, False, False, False, False, False, False, False, False,\n        False, False, False, False, False, False, False, False, False,\n        False, False, False, False, False],\n       [False, False, False, False, False, False, False, False, False,\n        False, False, False, False,  True,  True,  True,  True,  True,\n         True,  True,  True,  True,  True,  True,  True, False, False,\n        False, False, False, False, False, False, False, False, False,\n        False, False, False, False, False, False, False, False, False,\n        False, False, False, False, False],\n       [False, False, False, False, False, False, False, False, False,\n        False, False, False, False, False, False, False, False, False,\n        False, False, False, False, False, False, False,  True,  True,\n         True,  True,  True,  True,  True,  True,  True,  True,  True,\n         True, False, False, False, False, False, False, False, False,\n        False, False, False, False, False],\n       [False, False, False, False, False, False, False, False, False,\n        False, False, False, False, False, False, False, False, False,\n        False, False, False, False, False, False, False, False, False,\n        False, False, False, False, False, False, False, False, False,\n        False,  True,  True,  True,  True,  True,  True,  True,  True,\n         True,  True,  True,  True, False],\n       [False, False, False, False, False, False, False, False, False,\n        False, False, False, False, False, False, False, False, False,\n        False, False, False, False, False, False, False, False, False,\n        False, False, False, False, False, False, False, False, False,\n        False, False, False, False, False, False, False, False, False,\n        False, False, False, False,  True]], dtype=bool)\n    batch_dim = 0\n  batch_dim = 0\nThe problem arose with the `bool` function. \nThis BatchTracer with object id 22912376531568 was created on line:\n  /state/partition1/job-35670624/ipykernel_1343030/51092163.py:4:11 (b_spline)\n\nSee https://jax.readthedocs.io/en/latest/errors.html#jax.errors.ConcretizationTypeError",
     "output_type": "error",
     "traceback": [
      "\u001b[0;31m---------------------------------------------------------------------------\u001b[0m",
      "\u001b[0;31mConcretizationTypeError\u001b[0m                   Traceback (most recent call last)",
      "Cell \u001b[0;32mIn[60], line 2\u001b[0m\n\u001b[1;32m      1\u001b[0m xs \u001b[38;5;241m=\u001b[39m np\u001b[38;5;241m.\u001b[39mlinspace(\u001b[38;5;241m-\u001b[39m\u001b[38;5;241m3\u001b[39m,\u001b[38;5;241m3\u001b[39m)\n\u001b[0;32m----> 2\u001b[0m ys \u001b[38;5;241m=\u001b[39m \u001b[43minterpolater\u001b[49m\u001b[43m(\u001b[49m\u001b[43my_grid\u001b[49m\u001b[43m,\u001b[49m\u001b[43mxs\u001b[49m\u001b[43m)\u001b[49m\n",
      "Cell \u001b[0;32mIn[58], line 11\u001b[0m, in \u001b[0;36mDeboorInterp.__call__\u001b[0;34m(self, p, x, *args)\u001b[0m\n\u001b[1;32m      9\u001b[0m temp \u001b[38;5;241m=\u001b[39m (x[\u001b[38;5;28;01mNone\u001b[39;00m,:] \u001b[38;5;241m-\u001b[39m np\u001b[38;5;241m.\u001b[39mmin(\u001b[38;5;28mself\u001b[39m\u001b[38;5;241m.\u001b[39mx_grid[\u001b[38;5;28;01mNone\u001b[39;00m,:]))\u001b[38;5;241m/\u001b[39m\u001b[38;5;28mself\u001b[39m\u001b[38;5;241m.\u001b[39mdx\n\u001b[1;32m     10\u001b[0m \u001b[38;5;28mprint\u001b[39m(temp\u001b[38;5;241m.\u001b[39mshape)\n\u001b[0;32m---> 11\u001b[0m temp \u001b[38;5;241m=\u001b[39m \u001b[43mb_spline\u001b[49m\u001b[43m(\u001b[49m\u001b[43mtemp\u001b[49m\u001b[43m,\u001b[49m\u001b[38;5;28;43mself\u001b[39;49m\u001b[38;5;241;43m.\u001b[39;49m\u001b[43mk\u001b[49m\u001b[43m[\u001b[49m\u001b[43m:\u001b[49m\u001b[43m,\u001b[49m\u001b[38;5;28;43;01mNone\u001b[39;49;00m\u001b[43m]\u001b[49m\u001b[43m,\u001b[49m\u001b[38;5;28;43mself\u001b[39;49m\u001b[38;5;241;43m.\u001b[39;49m\u001b[43mn\u001b[49m\u001b[43m)\u001b[49m\n\u001b[1;32m     12\u001b[0m \u001b[38;5;28mprint\u001b[39m(temp\u001b[38;5;241m.\u001b[39mshape)\n\u001b[1;32m     14\u001b[0m \u001b[38;5;28;01mreturn\u001b[39;00m jnp\u001b[38;5;241m.\u001b[39mdot(p, temp)\n",
      "File \u001b[0;32m/ext3/miniconda3/envs/wobbleenv/lib/python3.11/site-packages/jax/_src/numpy/vectorize.py:309\u001b[0m, in \u001b[0;36mvectorize.<locals>.wrapped\u001b[0;34m(*args)\u001b[0m\n\u001b[1;32m    307\u001b[0m   \u001b[38;5;28;01melse\u001b[39;00m:\n\u001b[1;32m    308\u001b[0m     vectorized_func \u001b[38;5;241m=\u001b[39m api\u001b[38;5;241m.\u001b[39mvmap(vectorized_func, in_axes)\n\u001b[0;32m--> 309\u001b[0m result \u001b[38;5;241m=\u001b[39m \u001b[43mvectorized_func\u001b[49m\u001b[43m(\u001b[49m\u001b[38;5;241;43m*\u001b[39;49m\u001b[43msqueezed_args\u001b[49m\u001b[43m)\u001b[49m\n\u001b[1;32m    311\u001b[0m \u001b[38;5;28;01mif\u001b[39;00m \u001b[38;5;129;01mnot\u001b[39;00m dims_to_expand:\n\u001b[1;32m    312\u001b[0m   \u001b[38;5;28;01mreturn\u001b[39;00m result\n",
      "    \u001b[0;31m[... skipping hidden 6 frame]\u001b[0m\n",
      "File \u001b[0;32m/ext3/miniconda3/envs/wobbleenv/lib/python3.11/site-packages/jax/_src/numpy/vectorize.py:136\u001b[0m, in \u001b[0;36m_check_output_dims.<locals>.wrapped\u001b[0;34m(*args)\u001b[0m\n\u001b[1;32m    135\u001b[0m \u001b[38;5;28;01mdef\u001b[39;00m \u001b[38;5;21mwrapped\u001b[39m(\u001b[38;5;241m*\u001b[39margs):\n\u001b[0;32m--> 136\u001b[0m   out \u001b[38;5;241m=\u001b[39m \u001b[43mfunc\u001b[49m\u001b[43m(\u001b[49m\u001b[38;5;241;43m*\u001b[39;49m\u001b[43margs\u001b[49m\u001b[43m)\u001b[49m\n\u001b[1;32m    137\u001b[0m   out_shapes \u001b[38;5;241m=\u001b[39m \u001b[38;5;28mmap\u001b[39m(jnp\u001b[38;5;241m.\u001b[39mshape, out \u001b[38;5;28;01mif\u001b[39;00m \u001b[38;5;28misinstance\u001b[39m(out, \u001b[38;5;28mtuple\u001b[39m) \u001b[38;5;28;01melse\u001b[39;00m [out])\n\u001b[1;32m    139\u001b[0m   \u001b[38;5;28;01mif\u001b[39;00m expected_output_core_dims \u001b[38;5;129;01mis\u001b[39;00m \u001b[38;5;28;01mNone\u001b[39;00m:\n",
      "Cell \u001b[0;32mIn[56], line 9\u001b[0m, in \u001b[0;36mb_spline\u001b[0;34m(x, k, d)\u001b[0m\n\u001b[1;32m      6\u001b[0m     \u001b[38;5;28;01melse\u001b[39;00m:\n\u001b[1;32m      7\u001b[0m         \u001b[38;5;28;01mreturn\u001b[39;00m \u001b[38;5;241m0.0\u001b[39m\n\u001b[0;32m----> 9\u001b[0m \u001b[38;5;28;01mreturn\u001b[39;00m ((x \u001b[38;5;241m-\u001b[39m k)\u001b[38;5;241m/\u001b[39m(d) \u001b[38;5;241m*\u001b[39m \u001b[43mb_spline\u001b[49m\u001b[43m(\u001b[49m\u001b[43mx\u001b[49m\u001b[43m,\u001b[49m\u001b[43mk\u001b[49m\u001b[43m,\u001b[49m\u001b[43md\u001b[49m\u001b[38;5;241;43m-\u001b[39;49m\u001b[38;5;241;43m1\u001b[39;49m\u001b[43m)\u001b[49m) \u001b[38;5;241m+\u001b[39m ((k \u001b[38;5;241m+\u001b[39m d \u001b[38;5;241m+\u001b[39m \u001b[38;5;241m1\u001b[39m \u001b[38;5;241m-\u001b[39m x)\u001b[38;5;241m/\u001b[39m(d \u001b[38;5;241m+\u001b[39m \u001b[38;5;241m1\u001b[39m) \u001b[38;5;241m*\u001b[39m b_spline(x,k\u001b[38;5;241m+\u001b[39m\u001b[38;5;241m1\u001b[39m,d\u001b[38;5;241m-\u001b[39m\u001b[38;5;241m1\u001b[39m))\n",
      "File \u001b[0;32m/ext3/miniconda3/envs/wobbleenv/lib/python3.11/site-packages/jax/_src/numpy/vectorize.py:309\u001b[0m, in \u001b[0;36mvectorize.<locals>.wrapped\u001b[0;34m(*args)\u001b[0m\n\u001b[1;32m    307\u001b[0m   \u001b[38;5;28;01melse\u001b[39;00m:\n\u001b[1;32m    308\u001b[0m     vectorized_func \u001b[38;5;241m=\u001b[39m api\u001b[38;5;241m.\u001b[39mvmap(vectorized_func, in_axes)\n\u001b[0;32m--> 309\u001b[0m result \u001b[38;5;241m=\u001b[39m \u001b[43mvectorized_func\u001b[49m\u001b[43m(\u001b[49m\u001b[38;5;241;43m*\u001b[39;49m\u001b[43msqueezed_args\u001b[49m\u001b[43m)\u001b[49m\n\u001b[1;32m    311\u001b[0m \u001b[38;5;28;01mif\u001b[39;00m \u001b[38;5;129;01mnot\u001b[39;00m dims_to_expand:\n\u001b[1;32m    312\u001b[0m   \u001b[38;5;28;01mreturn\u001b[39;00m result\n",
      "File \u001b[0;32m/ext3/miniconda3/envs/wobbleenv/lib/python3.11/site-packages/jax/_src/numpy/vectorize.py:136\u001b[0m, in \u001b[0;36m_check_output_dims.<locals>.wrapped\u001b[0;34m(*args)\u001b[0m\n\u001b[1;32m    135\u001b[0m \u001b[38;5;28;01mdef\u001b[39;00m \u001b[38;5;21mwrapped\u001b[39m(\u001b[38;5;241m*\u001b[39margs):\n\u001b[0;32m--> 136\u001b[0m   out \u001b[38;5;241m=\u001b[39m \u001b[43mfunc\u001b[49m\u001b[43m(\u001b[49m\u001b[38;5;241;43m*\u001b[39;49m\u001b[43margs\u001b[49m\u001b[43m)\u001b[49m\n\u001b[1;32m    137\u001b[0m   out_shapes \u001b[38;5;241m=\u001b[39m \u001b[38;5;28mmap\u001b[39m(jnp\u001b[38;5;241m.\u001b[39mshape, out \u001b[38;5;28;01mif\u001b[39;00m \u001b[38;5;28misinstance\u001b[39m(out, \u001b[38;5;28mtuple\u001b[39m) \u001b[38;5;28;01melse\u001b[39;00m [out])\n\u001b[1;32m    139\u001b[0m   \u001b[38;5;28;01mif\u001b[39;00m expected_output_core_dims \u001b[38;5;129;01mis\u001b[39;00m \u001b[38;5;28;01mNone\u001b[39;00m:\n",
      "Cell \u001b[0;32mIn[56], line 9\u001b[0m, in \u001b[0;36mb_spline\u001b[0;34m(x, k, d)\u001b[0m\n\u001b[1;32m      6\u001b[0m     \u001b[38;5;28;01melse\u001b[39;00m:\n\u001b[1;32m      7\u001b[0m         \u001b[38;5;28;01mreturn\u001b[39;00m \u001b[38;5;241m0.0\u001b[39m\n\u001b[0;32m----> 9\u001b[0m \u001b[38;5;28;01mreturn\u001b[39;00m ((x \u001b[38;5;241m-\u001b[39m k)\u001b[38;5;241m/\u001b[39m(d) \u001b[38;5;241m*\u001b[39m \u001b[43mb_spline\u001b[49m\u001b[43m(\u001b[49m\u001b[43mx\u001b[49m\u001b[43m,\u001b[49m\u001b[43mk\u001b[49m\u001b[43m,\u001b[49m\u001b[43md\u001b[49m\u001b[38;5;241;43m-\u001b[39;49m\u001b[38;5;241;43m1\u001b[39;49m\u001b[43m)\u001b[49m) \u001b[38;5;241m+\u001b[39m ((k \u001b[38;5;241m+\u001b[39m d \u001b[38;5;241m+\u001b[39m \u001b[38;5;241m1\u001b[39m \u001b[38;5;241m-\u001b[39m x)\u001b[38;5;241m/\u001b[39m(d \u001b[38;5;241m+\u001b[39m \u001b[38;5;241m1\u001b[39m) \u001b[38;5;241m*\u001b[39m b_spline(x,k\u001b[38;5;241m+\u001b[39m\u001b[38;5;241m1\u001b[39m,d\u001b[38;5;241m-\u001b[39m\u001b[38;5;241m1\u001b[39m))\n",
      "File \u001b[0;32m/ext3/miniconda3/envs/wobbleenv/lib/python3.11/site-packages/jax/_src/numpy/vectorize.py:309\u001b[0m, in \u001b[0;36mvectorize.<locals>.wrapped\u001b[0;34m(*args)\u001b[0m\n\u001b[1;32m    307\u001b[0m   \u001b[38;5;28;01melse\u001b[39;00m:\n\u001b[1;32m    308\u001b[0m     vectorized_func \u001b[38;5;241m=\u001b[39m api\u001b[38;5;241m.\u001b[39mvmap(vectorized_func, in_axes)\n\u001b[0;32m--> 309\u001b[0m result \u001b[38;5;241m=\u001b[39m \u001b[43mvectorized_func\u001b[49m\u001b[43m(\u001b[49m\u001b[38;5;241;43m*\u001b[39;49m\u001b[43msqueezed_args\u001b[49m\u001b[43m)\u001b[49m\n\u001b[1;32m    311\u001b[0m \u001b[38;5;28;01mif\u001b[39;00m \u001b[38;5;129;01mnot\u001b[39;00m dims_to_expand:\n\u001b[1;32m    312\u001b[0m   \u001b[38;5;28;01mreturn\u001b[39;00m result\n",
      "File \u001b[0;32m/ext3/miniconda3/envs/wobbleenv/lib/python3.11/site-packages/jax/_src/numpy/vectorize.py:136\u001b[0m, in \u001b[0;36m_check_output_dims.<locals>.wrapped\u001b[0;34m(*args)\u001b[0m\n\u001b[1;32m    135\u001b[0m \u001b[38;5;28;01mdef\u001b[39;00m \u001b[38;5;21mwrapped\u001b[39m(\u001b[38;5;241m*\u001b[39margs):\n\u001b[0;32m--> 136\u001b[0m   out \u001b[38;5;241m=\u001b[39m \u001b[43mfunc\u001b[49m\u001b[43m(\u001b[49m\u001b[38;5;241;43m*\u001b[39;49m\u001b[43margs\u001b[49m\u001b[43m)\u001b[49m\n\u001b[1;32m    137\u001b[0m   out_shapes \u001b[38;5;241m=\u001b[39m \u001b[38;5;28mmap\u001b[39m(jnp\u001b[38;5;241m.\u001b[39mshape, out \u001b[38;5;28;01mif\u001b[39;00m \u001b[38;5;28misinstance\u001b[39m(out, \u001b[38;5;28mtuple\u001b[39m) \u001b[38;5;28;01melse\u001b[39;00m [out])\n\u001b[1;32m    139\u001b[0m   \u001b[38;5;28;01mif\u001b[39;00m expected_output_core_dims \u001b[38;5;129;01mis\u001b[39;00m \u001b[38;5;28;01mNone\u001b[39;00m:\n",
      "Cell \u001b[0;32mIn[56], line 9\u001b[0m, in \u001b[0;36mb_spline\u001b[0;34m(x, k, d)\u001b[0m\n\u001b[1;32m      6\u001b[0m     \u001b[38;5;28;01melse\u001b[39;00m:\n\u001b[1;32m      7\u001b[0m         \u001b[38;5;28;01mreturn\u001b[39;00m \u001b[38;5;241m0.0\u001b[39m\n\u001b[0;32m----> 9\u001b[0m \u001b[38;5;28;01mreturn\u001b[39;00m ((x \u001b[38;5;241m-\u001b[39m k)\u001b[38;5;241m/\u001b[39m(d) \u001b[38;5;241m*\u001b[39m \u001b[43mb_spline\u001b[49m\u001b[43m(\u001b[49m\u001b[43mx\u001b[49m\u001b[43m,\u001b[49m\u001b[43mk\u001b[49m\u001b[43m,\u001b[49m\u001b[43md\u001b[49m\u001b[38;5;241;43m-\u001b[39;49m\u001b[38;5;241;43m1\u001b[39;49m\u001b[43m)\u001b[49m) \u001b[38;5;241m+\u001b[39m ((k \u001b[38;5;241m+\u001b[39m d \u001b[38;5;241m+\u001b[39m \u001b[38;5;241m1\u001b[39m \u001b[38;5;241m-\u001b[39m x)\u001b[38;5;241m/\u001b[39m(d \u001b[38;5;241m+\u001b[39m \u001b[38;5;241m1\u001b[39m) \u001b[38;5;241m*\u001b[39m b_spline(x,k\u001b[38;5;241m+\u001b[39m\u001b[38;5;241m1\u001b[39m,d\u001b[38;5;241m-\u001b[39m\u001b[38;5;241m1\u001b[39m))\n",
      "File \u001b[0;32m/ext3/miniconda3/envs/wobbleenv/lib/python3.11/site-packages/jax/_src/numpy/vectorize.py:309\u001b[0m, in \u001b[0;36mvectorize.<locals>.wrapped\u001b[0;34m(*args)\u001b[0m\n\u001b[1;32m    307\u001b[0m   \u001b[38;5;28;01melse\u001b[39;00m:\n\u001b[1;32m    308\u001b[0m     vectorized_func \u001b[38;5;241m=\u001b[39m api\u001b[38;5;241m.\u001b[39mvmap(vectorized_func, in_axes)\n\u001b[0;32m--> 309\u001b[0m result \u001b[38;5;241m=\u001b[39m \u001b[43mvectorized_func\u001b[49m\u001b[43m(\u001b[49m\u001b[38;5;241;43m*\u001b[39;49m\u001b[43msqueezed_args\u001b[49m\u001b[43m)\u001b[49m\n\u001b[1;32m    311\u001b[0m \u001b[38;5;28;01mif\u001b[39;00m \u001b[38;5;129;01mnot\u001b[39;00m dims_to_expand:\n\u001b[1;32m    312\u001b[0m   \u001b[38;5;28;01mreturn\u001b[39;00m result\n",
      "File \u001b[0;32m/ext3/miniconda3/envs/wobbleenv/lib/python3.11/site-packages/jax/_src/numpy/vectorize.py:136\u001b[0m, in \u001b[0;36m_check_output_dims.<locals>.wrapped\u001b[0;34m(*args)\u001b[0m\n\u001b[1;32m    135\u001b[0m \u001b[38;5;28;01mdef\u001b[39;00m \u001b[38;5;21mwrapped\u001b[39m(\u001b[38;5;241m*\u001b[39margs):\n\u001b[0;32m--> 136\u001b[0m   out \u001b[38;5;241m=\u001b[39m \u001b[43mfunc\u001b[49m\u001b[43m(\u001b[49m\u001b[38;5;241;43m*\u001b[39;49m\u001b[43margs\u001b[49m\u001b[43m)\u001b[49m\n\u001b[1;32m    137\u001b[0m   out_shapes \u001b[38;5;241m=\u001b[39m \u001b[38;5;28mmap\u001b[39m(jnp\u001b[38;5;241m.\u001b[39mshape, out \u001b[38;5;28;01mif\u001b[39;00m \u001b[38;5;28misinstance\u001b[39m(out, \u001b[38;5;28mtuple\u001b[39m) \u001b[38;5;28;01melse\u001b[39;00m [out])\n\u001b[1;32m    139\u001b[0m   \u001b[38;5;28;01mif\u001b[39;00m expected_output_core_dims \u001b[38;5;129;01mis\u001b[39;00m \u001b[38;5;28;01mNone\u001b[39;00m:\n",
      "Cell \u001b[0;32mIn[56], line 4\u001b[0m, in \u001b[0;36mb_spline\u001b[0;34m(x, k, d)\u001b[0m\n\u001b[1;32m      1\u001b[0m \u001b[38;5;129m@jnp\u001b[39m\u001b[38;5;241m.\u001b[39mvectorize\n\u001b[1;32m      2\u001b[0m \u001b[38;5;28;01mdef\u001b[39;00m \u001b[38;5;21mb_spline\u001b[39m(x,k,d):\n\u001b[1;32m      3\u001b[0m     \u001b[38;5;28;01mif\u001b[39;00m d \u001b[38;5;241m==\u001b[39m \u001b[38;5;241m0\u001b[39m:\n\u001b[0;32m----> 4\u001b[0m         \u001b[38;5;28;01mif\u001b[39;00m (k \u001b[38;5;241m<\u001b[39m\u001b[38;5;241m=\u001b[39m x) \u001b[38;5;241m*\u001b[39m (x \u001b[38;5;241m<\u001b[39m (k \u001b[38;5;241m+\u001b[39m \u001b[38;5;241m1\u001b[39m)):\n\u001b[1;32m      5\u001b[0m             \u001b[38;5;28;01mreturn\u001b[39;00m \u001b[38;5;241m1.0\u001b[39m\n\u001b[1;32m      6\u001b[0m         \u001b[38;5;28;01melse\u001b[39;00m:\n",
      "    \u001b[0;31m[... skipping hidden 1 frame]\u001b[0m\n",
      "File \u001b[0;32m/ext3/miniconda3/envs/wobbleenv/lib/python3.11/site-packages/jax/_src/core.py:1345\u001b[0m, in \u001b[0;36mconcretization_function_error.<locals>.error\u001b[0;34m(self, arg)\u001b[0m\n\u001b[1;32m   1344\u001b[0m \u001b[38;5;28;01mdef\u001b[39;00m \u001b[38;5;21merror\u001b[39m(\u001b[38;5;28mself\u001b[39m, arg):\n\u001b[0;32m-> 1345\u001b[0m   \u001b[38;5;28;01mraise\u001b[39;00m ConcretizationTypeError(arg, fname_context)\n",
      "\u001b[0;31mConcretizationTypeError\u001b[0m: Abstract tracer value encountered where concrete value is expected: Traced<ShapedArray(bool[])>with<BatchTrace(level=2/0)> with\n  val = Traced<ShapedArray(bool[50])>with<BatchTrace(level=1/0)> with\n    val = Array([[ True,  True,  True,  True,  True,  True,  True,  True,  True,\n         True,  True,  True,  True, False, False, False, False, False,\n        False, False, False, False, False, False, False, False, False,\n        False, False, False, False, False, False, False, False, False,\n        False, False, False, False, False, False, False, False, False,\n        False, False, False, False, False],\n       [False, False, False, False, False, False, False, False, False,\n        False, False, False, False,  True,  True,  True,  True,  True,\n         True,  True,  True,  True,  True,  True,  True, False, False,\n        False, False, False, False, False, False, False, False, False,\n        False, False, False, False, False, False, False, False, False,\n        False, False, False, False, False],\n       [False, False, False, False, False, False, False, False, False,\n        False, False, False, False, False, False, False, False, False,\n        False, False, False, False, False, False, False,  True,  True,\n         True,  True,  True,  True,  True,  True,  True,  True,  True,\n         True, False, False, False, False, False, False, False, False,\n        False, False, False, False, False],\n       [False, False, False, False, False, False, False, False, False,\n        False, False, False, False, False, False, False, False, False,\n        False, False, False, False, False, False, False, False, False,\n        False, False, False, False, False, False, False, False, False,\n        False,  True,  True,  True,  True,  True,  True,  True,  True,\n         True,  True,  True,  True, False],\n       [False, False, False, False, False, False, False, False, False,\n        False, False, False, False, False, False, False, False, False,\n        False, False, False, False, False, False, False, False, False,\n        False, False, False, False, False, False, False, False, False,\n        False, False, False, False, False, False, False, False, False,\n        False, False, False, False,  True]], dtype=bool)\n    batch_dim = 0\n  batch_dim = 0\nThe problem arose with the `bool` function. \nThis BatchTracer with object id 22912376531568 was created on line:\n  /state/partition1/job-35670624/ipykernel_1343030/51092163.py:4:11 (b_spline)\n\nSee https://jax.readthedocs.io/en/latest/errors.html#jax.errors.ConcretizationTypeError"
     ]
    }
   ],
   "source": [
    "xs = np.linspace(-3,3)\n",
    "ys = interpolater(y_grid,xs)"
   ]
  },
  {
   "cell_type": "code",
   "execution_count": 29,
   "id": "e6f14c43",
   "metadata": {},
   "outputs": [
    {
     "data": {
      "text/plain": [
       "(50,)"
      ]
     },
     "execution_count": 29,
     "metadata": {},
     "output_type": "execute_result"
    }
   ],
   "source": [
    "ys.shape"
   ]
  },
  {
   "cell_type": "code",
   "execution_count": 30,
   "id": "db4bc487",
   "metadata": {},
   "outputs": [
    {
     "data": {
      "image/png": "[encoded data removed]",
      "text/plain": [
       "<Figure size 640x480 with 1 Axes>"
      ]
     },
     "metadata": {},
     "output_type": "display_data"
    }
   ],
   "source": [
    "plt.plot(x_grid,y_grid,'.k')\n",
    "plt.plot(xs,ys,'-r',alpha=0.5)\n",
    "plt.show()"
   ]
  },
  {
   "cell_type": "code",
   "execution_count": 61,
   "id": "f5e30a31",
   "metadata": {},
   "outputs": [],
   "source": [
    "import sys\n",
    "sys.path.insert(0,'..')\n",
    "import jabble.model"
   ]
  },
  {
   "cell_type": "code",
   "execution_count": 66,
   "id": "e568e75e",
   "metadata": {},
   "outputs": [
    {
     "data": {
      "text/plain": [
       "Array([[1.]], dtype=float32)"
      ]
     },
     "execution_count": 66,
     "metadata": {},
     "output_type": "execute_result"
    }
   ],
   "source": [
    "jabble.model.BSpline(p=0).alphas"
   ]
  },
  {
   "cell_type": "code",
   "execution_count": 64,
   "id": "b73eef8a",
   "metadata": {},
   "outputs": [
    {
     "data": {
      "text/plain": [
       "Array([[ 0.,  1.],\n",
       "       [ 1., -1.]], dtype=float32)"
      ]
     },
     "execution_count": 64,
     "metadata": {},
     "output_type": "execute_result"
    }
   ],
   "source": [
    "jabble.model.BSpline(p=1).alphas"
   ]
  },
  {
   "cell_type": "code",
   "execution_count": 65,
   "id": "39aff8ab",
   "metadata": {},
   "outputs": [
    {
     "data": {
      "text/plain": [
       "Array([[ 0. ,  0.5,  0.5],\n",
       "       [ 0. ,  1. , -1. ],\n",
       "       [ 0.5, -1. ,  0.5]], dtype=float32)"
      ]
     },
     "execution_count": 65,
     "metadata": {},
     "output_type": "execute_result"
    }
   ],
   "source": [
    "jabble.model.BSpline(p=2).alphas"
   ]
  },
  {
   "cell_type": "code",
   "execution_count": null,
   "id": "a1fb2a53",
   "metadata": {},
   "outputs": [],
   "source": []
  }
 ],
 "metadata": {
  "kernelspec": {
   "display_name": "Python 3 (ipykernel)",
   "language": "python",
   "name": "python3"
  },
  "language_info": {
   "codemirror_mode": {
    "name": "ipython",
    "version": 3
   },
   "file_extension": ".py",
   "mimetype": "text/x-python",
   "name": "python",
   "nbconvert_exporter": "python",
   "pygments_lexer": "ipython3",
   "version": "3.11.4"
  }
 },
 "nbformat": 4,
 "nbformat_minor": 5
}

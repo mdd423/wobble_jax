{
 "cells": [
  {
   "cell_type": "code",
   "execution_count": null,
   "id": "85e5a1d0",
   "metadata": {},
   "outputs": [],
   "source": [
    "from hiresprv.auth import login\n",
    "\n",
    "login('prv.cookies')"
   ]
  },
  {
   "cell_type": "code",
   "execution_count": 1,
   "id": "6f98a44a",
   "metadata": {},
   "outputs": [],
   "source": [
    "import sys\n",
    "sys.path.insert(0,'..')\n",
    "import jabble.physics"
   ]
  },
  {
   "cell_type": "code",
   "execution_count": 9,
   "id": "2b14003a",
   "metadata": {},
   "outputs": [
    {
     "name": "stdout",
     "output_type": "stream",
     "text": [
      "0.00020013237\n"
     ]
    }
   ],
   "source": [
    "print(jabble.physics.shifts(60_000))"
   ]
  },
  {
   "cell_type": "code",
   "execution_count": 5,
   "id": "892f1cb4",
   "metadata": {},
   "outputs": [],
   "source": [
    "import scipy.constants\n",
    "import numpy as np"
   ]
  },
  {
   "cell_type": "code",
   "execution_count": 6,
   "id": "7c7b3030",
   "metadata": {},
   "outputs": [],
   "source": [
    "def gamma(vel):\n",
    "    return np.sqrt((1 + vel/(scipy.constants.c))/(1 - vel/(scipy.constants.c)))"
   ]
  },
  {
   "cell_type": "code",
   "execution_count": 7,
   "id": "37b57a16",
   "metadata": {},
   "outputs": [],
   "source": [
    "def delta_lambda(l,vel):\n",
    "    return l * (1 - gamma(vel))"
   ]
  },
  {
   "cell_type": "code",
   "execution_count": 11,
   "id": "5310c119",
   "metadata": {},
   "outputs": [
    {
     "name": "stdout",
     "output_type": "stream",
     "text": [
      "-1.2680040267298498\n"
     ]
    }
   ],
   "source": [
    "l = 6335\n",
    "print(delta_lambda(l,60_000))"
   ]
  },
  {
   "cell_type": "code",
   "execution_count": 12,
   "id": "d622d881",
   "metadata": {},
   "outputs": [
    {
     "name": "stdout",
     "output_type": "stream",
     "text": [
      "-4996.040916634787\n"
     ]
    }
   ],
   "source": [
    "print(l/delta_lambda(l,60_000))"
   ]
  },
  {
   "cell_type": "code",
   "execution_count": null,
   "id": "ad99cc12",
   "metadata": {},
   "outputs": [],
   "source": []
  }
 ],
 "metadata": {
  "kernelspec": {
   "display_name": "Python 3 (ipykernel)",
   "language": "python",
   "name": "python3"
  },
  "language_info": {
   "codemirror_mode": {
    "name": "ipython",
    "version": 3
   },
   "file_extension": ".py",
   "mimetype": "text/x-python",
   "name": "python",
   "nbconvert_exporter": "python",
   "pygments_lexer": "ipython3",
   "version": "3.10.9"
  }
 },
 "nbformat": 4,
 "nbformat_minor": 5
}

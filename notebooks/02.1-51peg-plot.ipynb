{
 "cells": [
  {
   "cell_type": "code",
   "execution_count": 1,
   "id": "854ca1bb",
   "metadata": {},
   "outputs": [
    {
     "name": "stderr",
     "output_type": "stream",
     "text": [
      "/ext3/miniconda3/envs/wobbleenv/lib/python3.11/site-packages/jax/_src/api_util.py:174: SyntaxWarning: Jitted function has static_argnums=(3, 4), but only accepts 4 positional arguments. This warning will be replaced by an error after 2022-08-20 at the earliest.\n",
      "  warnings.warn(f\"Jitted function has {argnums_name}={argnums}, \"\n",
      "/ext3/miniconda3/envs/wobbleenv/lib/python3.11/site-packages/jax/_src/api_util.py:174: SyntaxWarning: Jitted function has static_argnums=(3, 4, 5), but only accepts 5 positional arguments. This warning will be replaced by an error after 2022-08-20 at the earliest.\n",
      "  warnings.warn(f\"Jitted function has {argnums_name}={argnums}, \"\n"
     ]
    }
   ],
   "source": [
    "import sys\n",
    "\n",
    "sys.path.append(\"..\")\n",
    "import jabble.model\n",
    "import jabble.dataset\n",
    "import jabble.loss\n",
    "import jabble.physics \n",
    "import astropy.units as u\n",
    "\n",
    "import h5py\n",
    "import matplotlib.pyplot as plt\n",
    "import scipy.optimize\n",
    "\n",
    "from jaxopt import GaussNewton\n",
    "import jax.numpy as jnp\n",
    "import jax\n",
    "import numpy as np\n",
    "from mpl_axes_aligner import align\n",
    "import os\n",
    "import jabble.physics\n",
    "\n",
    "import jax.config\n",
    "\n",
    "jax.config.update(\"jax_enable_x64\", True)"
   ]
  },
  {
   "cell_type": "code",
   "execution_count": 2,
   "id": "ae9961a7-5035-4cc7-a8b1-1be56ad0c7d7",
   "metadata": {},
   "outputs": [],
   "source": [
    "import os\n",
    "import datetime\n",
    "\n",
    "today = datetime.date.today()\n",
    "out_dir = os.path.join('..','out',today.strftime(\"%y-%m-%d\"))\n",
    "os.makedirs(out_dir,exist_ok=True)"
   ]
  },
  {
   "cell_type": "code",
   "execution_count": 3,
   "id": "e260ab8d",
   "metadata": {},
   "outputs": [],
   "source": [
    "file_b = h5py.File(\"../data/barnards_e2ds.hdf5\", \"r\")\n",
    "file_p = h5py.File(\"../data/51peg_e2ds.hdf5\"   , \"r\")"
   ]
  },
  {
   "cell_type": "code",
   "execution_count": 4,
   "id": "124998a7-869e-445c-818e-85b464e3db88",
   "metadata": {},
   "outputs": [
    {
     "data": {
      "text/plain": [
       "<KeysViewHDF5 ['airms', 'bervs', 'data', 'dates', 'drifts', 'filelist', 'ivars', 'pipeline_rvs', 'pipeline_sigmas', 'xs']>"
      ]
     },
     "execution_count": 4,
     "metadata": {},
     "output_type": "execute_result"
    }
   ],
   "source": [
    "file_p.keys()"
   ]
  },
  {
   "cell_type": "code",
   "execution_count": 8,
   "id": "c1b00a18",
   "metadata": {},
   "outputs": [],
   "source": [
    "def get_dataset(file,orders,device):\n",
    "    ys = []\n",
    "    xs = []\n",
    "    yivar = []\n",
    "    mask = []\n",
    "\n",
    "    init_shifts = []\n",
    "    airmass = []\n",
    "    \n",
    "    \n",
    "    for iii in range(file[\"data\"].shape[0]):\n",
    "        for jjj in range(file[\"data\"].shape[1]):\n",
    "            ys.append(jnp.array(file[\"data\"][iii,jjj,:]))\n",
    "            xs.append(jnp.array(file[\"xs\"][iii,jjj,:]))\n",
    "            yivar.append(jnp.array(file[\"ivars\"][iii,jjj,:]))\n",
    "            mask.append(jnp.zeros(file[\"data\"][iii,jjj,:].shape,dtype=bool))\n",
    "            init_shifts.append(jabble.physics.shifts(file[\"bervs\"][jjj]))\n",
    "            airmass.append(file[\"airms\"][jjj])\n",
    "    \n",
    "    init_shifts = jnp.array(init_shifts)\n",
    "    airmass = jnp.array(airmass)\n",
    "\n",
    "    targ_rv, targ_err = jax.device_put(jnp.array(file['pipeline_rvs']),device), jax.device_put(jnp.array(file['pipeline_sigmas']),device)\n",
    "    dataset = jabble.dataset.Data(jabble.dataset.Data.from_lists(xs,ys,yivar,mask).dataframes)\n",
    "    dataset.to_device(device)\n",
    "    init_shifts = jax.device_put(init_shifts,device)\n",
    "    airmass = jax.device_put(airmass,device)\n",
    "\n",
    "    return dataset, init_shifts, airmass, targ_rv, targ_err"
   ]
  },
  {
   "cell_type": "code",
   "execution_count": 9,
   "id": "d730833b-c2f3-40e0-821e-d179c37781b5",
   "metadata": {},
   "outputs": [],
   "source": [
    "cpus = jax.devices(\"cpu\")\n",
    "# gpus = jax.devices(\"gpu\")\n",
    "loss = jabble.loss.ChiSquare()"
   ]
  },
  {
   "cell_type": "code",
   "execution_count": 12,
   "id": "437c441f-ed1a-41c0-9d65-5f7f0f6a6c91",
   "metadata": {},
   "outputs": [],
   "source": [
    "dataset_p, shifts_p, airmass_p, targ_rv_p, targ_err_p = get_dataset(file_p,0,cpus[0])\n",
    "model_name_p = os.path.join('..','out','24-04-03','peg51.mdl')\n",
    "model_p = jabble.model.load(model_name_p)"
   ]
  },
  {
   "cell_type": "markdown",
   "id": "c6654272-8ed1-4917-ba8d-8c50ba250662",
   "metadata": {},
   "source": [
    "5577 night sky line"
   ]
  },
  {
   "cell_type": "markdown",
   "id": "2ab8f735-8aca-4ee1-b4da-ea56f90eaa10",
   "metadata": {},
   "source": [
    "6563 h alpha"
   ]
  },
  {
   "cell_type": "code",
   "execution_count": 19,
   "id": "0caf9914-ba0d-467a-a393-ff4ef47b6caa",
   "metadata": {},
   "outputs": [
    {
     "data": {
      "text/plain": [
       "{'_fit': False,\n",
       " 'func_evals': [],\n",
       " 'history': [],\n",
       " 'save_history': False,\n",
       " 'loss_history': [],\n",
       " 'save_loss': [],\n",
       " 'results': [],\n",
       " 'models': [<jabble.model.IrwinHallModel_vmap at 0x1465a2d4e290>,\n",
       "  <jabble.model.StretchingModel at 0x1465a2d4ebd0>],\n",
       " 'parameters_per_model': Array([139024.,      0.], dtype=float64)}"
      ]
     },
     "execution_count": 19,
     "metadata": {},
     "output_type": "execute_result"
    }
   ],
   "source": [
    "model_p[1].__dict__"
   ]
  },
  {
   "cell_type": "code",
   "execution_count": 13,
   "id": "f8590eb6-8441-4810-b788-e59cb4965ee5",
   "metadata": {},
   "outputs": [
    {
     "ename": "AttributeError",
     "evalue": "'AdditiveModel' object has no attribute 'size'",
     "output_type": "error",
     "traceback": [
      "\u001b[0;31m---------------------------------------------------------------------------\u001b[0m",
      "\u001b[0;31mAttributeError\u001b[0m                            Traceback (most recent call last)",
      "Cell \u001b[0;32mIn[13], line 1\u001b[0m\n\u001b[0;32m----> 1\u001b[0m \u001b[43mmodel_p\u001b[49m\u001b[38;5;241;43m.\u001b[39;49m\u001b[43mdisplay\u001b[49m\u001b[43m(\u001b[49m\u001b[43m)\u001b[49m\n",
      "File \u001b[0;32m~/wobble_jax/notebooks/../jabble/model.py:438\u001b[0m, in \u001b[0;36mContainerModel.display\u001b[0;34m(self, string)\u001b[0m\n\u001b[1;32m    437\u001b[0m \u001b[38;5;28;01mdef\u001b[39;00m \u001b[38;5;21mdisplay\u001b[39m(\u001b[38;5;28mself\u001b[39m, string\u001b[38;5;241m=\u001b[39m\u001b[38;5;124m\"\u001b[39m\u001b[38;5;124m\"\u001b[39m):\n\u001b[0;32m--> 438\u001b[0m     \u001b[38;5;28;43mself\u001b[39;49m\u001b[38;5;241;43m.\u001b[39;49m\u001b[43mget_parameters\u001b[49m\u001b[43m(\u001b[49m\u001b[43m)\u001b[49m\n\u001b[1;32m    439\u001b[0m     \u001b[38;5;28msuper\u001b[39m(ContainerModel, \u001b[38;5;28mself\u001b[39m)\u001b[38;5;241m.\u001b[39mdisplay(string)\n\u001b[1;32m    440\u001b[0m     \u001b[38;5;28;01mfor\u001b[39;00m i, model \u001b[38;5;129;01min\u001b[39;00m \u001b[38;5;28menumerate\u001b[39m(\u001b[38;5;28mself\u001b[39m\u001b[38;5;241m.\u001b[39mmodels):\n\u001b[1;32m    441\u001b[0m         \u001b[38;5;66;03m# print(model)\u001b[39;00m\n",
      "File \u001b[0;32m~/wobble_jax/notebooks/../jabble/model.py:380\u001b[0m, in \u001b[0;36mContainerModel.get_parameters\u001b[0;34m(self)\u001b[0m\n\u001b[1;32m    371\u001b[0m \u001b[38;5;250m\u001b[39m\u001b[38;5;124;03m\"\"\"\u001b[39;00m\n\u001b[1;32m    372\u001b[0m \u001b[38;5;124;03mReturn all parameters in fit mode from all submodels.\u001b[39;00m\n\u001b[1;32m    373\u001b[0m \n\u001b[0;32m   (...)\u001b[0m\n\u001b[1;32m    377\u001b[0m \u001b[38;5;124;03m    1-D jax array concatenated all submodels paraemeters that are in fit mode\u001b[39;00m\n\u001b[1;32m    378\u001b[0m \u001b[38;5;124;03m\"\"\"\u001b[39;00m\n\u001b[1;32m    379\u001b[0m x \u001b[38;5;241m=\u001b[39m jnp\u001b[38;5;241m.\u001b[39marray([])\n\u001b[0;32m--> 380\u001b[0m \u001b[38;5;28;01mfor\u001b[39;00m i \u001b[38;5;129;01min\u001b[39;00m \u001b[38;5;28mrange\u001b[39m(\u001b[38;5;28;43mself\u001b[39;49m\u001b[38;5;241;43m.\u001b[39;49m\u001b[43msize\u001b[49m):\n\u001b[1;32m    381\u001b[0m     params \u001b[38;5;241m=\u001b[39m \u001b[38;5;28mself\u001b[39m\u001b[38;5;241m.\u001b[39mmodels[i]\u001b[38;5;241m.\u001b[39mget_parameters()\n\u001b[1;32m    382\u001b[0m     \u001b[38;5;28mself\u001b[39m\u001b[38;5;241m.\u001b[39mparameters_per_model \u001b[38;5;241m=\u001b[39m \u001b[38;5;28mself\u001b[39m\u001b[38;5;241m.\u001b[39mparameters_per_model\u001b[38;5;241m.\u001b[39mat[i]\u001b[38;5;241m.\u001b[39mset(params\u001b[38;5;241m.\u001b[39mshape[\u001b[38;5;241m0\u001b[39m])\n",
      "\u001b[0;31mAttributeError\u001b[0m: 'AdditiveModel' object has no attribute 'size'"
     ]
    }
   ],
   "source": [
    "model_p.display()"
   ]
  },
  {
   "cell_type": "code",
   "execution_count": null,
   "id": "2f6fae52-3dfb-42e3-8ba2-c231c47b5941",
   "metadata": {},
   "outputs": [],
   "source": [
    "def rv_plot(model,data,targ_vel,targ_err,mjds,model_name):\n",
    "    fig, ax = plt.subplots(\n",
    "        1,\n",
    "        figsize=(6, 4),\n",
    "        facecolor=(1, 1, 1),\n",
    "        dpi=300,\n",
    "        sharey=True\n",
    "    )\n",
    "     \n",
    "    epoches = len(data)\n",
    "    epoch_range = np.arange(0, epoches, dtype=int)\n",
    "    fischer_info = f_info(model[1][0],model,data)\n",
    "\n",
    "    dvddx = jnp.array(\n",
    "        [jax.grad(jabble.physics.velocities)(x) for x in model_set[1][0].p]\n",
    "    )\n",
    "    verr = np.sqrt(1 / fischer_info) * dvddx\n",
    "    estimate_vel = jabble.physics.velocities(model[1][0].p)\n",
    "    tv = targ_vel\n",
    "    ev = estimate_vel\n",
    "    ax.errorbar(\n",
    "        mjds,\n",
    "        tv,\n",
    "        targ_err\n",
    "        \".r\",\n",
    "        zorder=1,\n",
    "        alpha=0.5,\n",
    "        ms=6,\n",
    "        label='HARPS RV'\n",
    "    )\n",
    "    print(np.mean(targ_rv),estimate_vel.mean())\n",
    "    ax.errorbar(mjds,ev,verr,'.k',zorder=1,alpha=0.5,ms=6,label='Jabble RV')\n",
    "    fig.legend()\n",
    "    # ax.set_xlim(-0.5, epoches - 0.5)\n",
    "    ax.set_ylabel(\"RV [$m/s$]\")\n",
    "    ax.set_xlabel( \"MJD\")\n",
    "    plt.savefig(os.path.join(out_dir, \"02-{}-vel.png\".format(model_name)))\n",
    "    plt.show()"
   ]
  },
  {
   "cell_type": "code",
   "execution_count": null,
   "id": "c639abe4-5710-4ee2-b766-7003e56ff82c",
   "metadata": {},
   "outputs": [],
   "source": [
    "rv_plot(model_p,dataset_p,targ_rv_p,targ_err_p,mjds,model_name_p)"
   ]
  },
  {
   "cell_type": "code",
   "execution_count": null,
   "id": "266bf993-90f9-4c4e-b36a-9ad80fa63025",
   "metadata": {},
   "outputs": [],
   "source": [
    "def make_bary_plot(model,dataset,plt_epoches,lmin,lmax,lrange,plt_name,bcs):\n",
    "    fig, axes = plt.subplots(2,len(plt_epoches),figsize=(4*len(plt_epoches),4),sharex=True,sharey='row',facecolor=(1, 1, 1),height_ratios=[4,1],dpi=200)\n",
    "        \n",
    "    model.fix()\n",
    "    for ii, plt_epoch in enumerate(plt_epoches):\n",
    "        \n",
    "        xplot = np.linspace(np.log(lmin),np.log(lmax),\\\n",
    "                            dataset.xs[plt_epoch].shape[0]*10)\n",
    "        yplot = model[0]([],xplot,plt_epoch)\n",
    "        yplot_norm_stel = model[1]([],xplot,plt_epoch)\n",
    "        yplot_norm_tell = model[2]([],xplot,plt_epoch)\n",
    "        yhat = model[0]([],dataset.xs[plt_epoch],plt_epoch)\n",
    "        axes[0,ii].set_xlim(xplot.min(),xplot.max())\n",
    "\n",
    "        velocity = jabble.physics.velocities(model[1][0].p[plt_epoch])\n",
    "        # axes[0,ii].set_title('RV: {:2.1e}, $\\delta\\lambda$: {:2.1e}, BERV: {:2.1e}'.format(velocity,model[1][0].p[plt_epoch] * np.mean(lrange),bcs[plt_epoch]),fontsize=10)\n",
    "        \n",
    "        \n",
    "    \n",
    "        # Data\n",
    "        # axes[0,ii].plot(dataset.xs[plt_epoch][:],dataset.ys[plt_epoch][:],\\\n",
    "        #                          '.k',zorder=1,alpha=0.1,ms=3)\n",
    "        axes[0,ii].plot(dataset.xs[plt_epoch][:],dataset.ys[plt_epoch][:] - yhat,\\\n",
    "                                 '.k',zorder=1,alpha=0.1,ms=3)\n",
    "\n",
    "        # Norm Model\n",
    "        # axes[0,ii].plot(xplot,yplot,'-r',linewidth=1.2,zorder=2,alpha=0.7,ms=6)\n",
    "        # axes[0,ii].set_ylim(-2+np.mean(yplot),0.1+np.mean(yplot))\n",
    "        # print(np.mean(yplot))\n",
    "        \n",
    "\n",
    "        # Stellar Model        \n",
    "        axes[0,ii].plot(xplot,yplot_norm_stel,'-r',linewidth=1.2,zorder=10,alpha=0.7,ms=6)\n",
    "        # Telluric Model\n",
    "        axes[0,ii].plot(xplot,yplot_norm_tell,'-b',linewidth=1.2,zorder=10,alpha=0.7,ms=6)\n",
    "        \n",
    "\n",
    "        # Residuals\n",
    "        axes[1,ii].step(dataset.xs[plt_epoch][:],dataset.ys[plt_epoch][:] - model([],dataset.xs[plt_epoch][:],plt_epoch),\\\n",
    "                                 'k',where='mid',zorder=1,alpha=0.3,ms=3)\n",
    "        \n",
    "        axes[0,ii].set_ylim(-2,1)\n",
    "        axes[1,ii].set_ylim(-0.1,0.1)\n",
    "        axes[0,ii].set_xticks([])\n",
    "        axes[0,ii].set_xticks(np.log(lrange))\n",
    "        axes[0,ii].set_xticklabels(['{}'.format(x) for x in lrange])\n",
    "\n",
    "    # plt.x\n",
    "    # plt.text(1, 1, 'Wavelength ($\\AA$)', ha='center')\n",
    "    plt.savefig(plt_name,dpi=200,bbox_inches='tight')\n",
    "    fig.suptitle('Barycentric Rest Frame')\n",
    "    plt.show()"
   ]
  }
 ],
 "metadata": {
  "kernelspec": {
   "display_name": "Python 3 (ipykernel)",
   "language": "python",
   "name": "python3"
  },
  "language_info": {
   "codemirror_mode": {
    "name": "ipython",
    "version": 3
   },
   "file_extension": ".py",
   "mimetype": "text/x-python",
   "name": "python",
   "nbconvert_exporter": "python",
   "pygments_lexer": "ipython3",
   "version": "3.11.7"
  }
 },
 "nbformat": 4,
 "nbformat_minor": 5
}

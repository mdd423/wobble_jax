{
 "cells": [
  {
   "cell_type": "code",
   "execution_count": 1,
   "id": "0d952782-1ef8-4d1e-a884-e48d5620c7bc",
   "metadata": {},
   "outputs": [
    {
     "name": "stderr",
     "output_type": "stream",
     "text": [
      "/state/partition1/job-45101453/ipykernel_3891018/3910822364.py:20: DeprecationWarning: Accessing jax.config via the jax.config submodule is deprecated.\n",
      "  from jax.config import config\n"
     ]
    }
   ],
   "source": [
    "from astropy.io import fits\n",
    "import jax\n",
    "import jax.numpy as jnp\n",
    "import sys\n",
    "\n",
    "import os\n",
    "import datetime\n",
    "import glob\n",
    "import h5py\n",
    "\n",
    "sys.path.insert(0,'..')\n",
    "import matplotlib.pyplot as plt\n",
    "from mpl_axes_aligner import align\n",
    "import numpy as np\n",
    "\n",
    "import astropy.coordinates as coord\n",
    "import astropy.time as atime\n",
    "import astropy.units as u\n",
    "\n",
    "from jax.config import config\n",
    "\n",
    "config.update(\"jax_enable_x64\", True)"
   ]
  },
  {
   "cell_type": "code",
   "execution_count": 2,
   "id": "7c95cdd9-99cf-4e2b-80da-e3eead89a9bf",
   "metadata": {},
   "outputs": [],
   "source": [
    "today = datetime.date.today()\n",
    "out_dir = os.path.join('..','out',today.strftime(\"%y-%m-%d\"))\n",
    "os.makedirs(out_dir,exist_ok=True)"
   ]
  },
  {
   "cell_type": "code",
   "execution_count": 3,
   "id": "73e0512e-861b-4e9a-b058-a16cbc49b19e",
   "metadata": {},
   "outputs": [],
   "source": [
    "files = glob.glob('/scratch/mdd423/wobble_jax/data/HD4307_harps/*.fits',recursive = True)"
   ]
  },
  {
   "cell_type": "code",
   "execution_count": 4,
   "id": "c60ae6b2-5ac9-4707-afc4-732074b6588c",
   "metadata": {},
   "outputs": [],
   "source": [
    "import jabble.physics\n",
    "import astropy.coordinates as coord"
   ]
  },
  {
   "cell_type": "code",
   "execution_count": 5,
   "id": "3f8eb291-2284-4f29-b1d1-3a76901b9749",
   "metadata": {},
   "outputs": [
    {
     "name": "stderr",
     "output_type": "stream",
     "text": [
      "/state/partition1/job-45101453/ipykernel_3891018/2245642460.py:28: RuntimeWarning: divide by zero encountered in log\n",
      "  ys.append(np.log(np.array(hdu1[1].data['FLUX']).flatten()[wave_inds]))\n",
      "/state/partition1/job-45101453/ipykernel_3891018/2245642460.py:32: RuntimeWarning: divide by zero encountered in log\n",
      "  m2 = np.where(m1,1.0,np.log(np.array(hdu1[1].data['FLUX']).flatten()[wave_inds]) < 0.0)\n"
     ]
    },
    {
     "name": "stdout",
     "output_type": "stream",
     "text": [
      "-10.4\n",
      "-10.4\n",
      "-10.4\n"
     ]
    },
    {
     "name": "stderr",
     "output_type": "stream",
     "text": [
      "/state/partition1/job-45101453/ipykernel_3891018/2245642460.py:28: RuntimeWarning: invalid value encountered in log\n",
      "  ys.append(np.log(np.array(hdu1[1].data['FLUX']).flatten()[wave_inds]))\n",
      "/state/partition1/job-45101453/ipykernel_3891018/2245642460.py:32: RuntimeWarning: invalid value encountered in log\n",
      "  m2 = np.where(m1,1.0,np.log(np.array(hdu1[1].data['FLUX']).flatten()[wave_inds]) < 0.0)\n"
     ]
    },
    {
     "name": "stdout",
     "output_type": "stream",
     "text": [
      "-10.4\n",
      "-10.4\n",
      "-10.4\n",
      "-10.4\n",
      "-10.4\n",
      "-10.4\n",
      "-10.4\n",
      "-10.4\n",
      "-10.4\n",
      "-10.4\n",
      "-10.4\n",
      "-10.4\n",
      "-10.4\n",
      "-10.4\n",
      "-10.4\n",
      "-10.4\n",
      "-10.4\n",
      "-10.4\n",
      "-10.4\n",
      "-10.4\n",
      "-10.4\n",
      "-10.4\n",
      "-10.4\n",
      "-10.4\n",
      "-10.366\n",
      "-10.4\n",
      "-10.4\n",
      "-10.4\n",
      "-10.4\n",
      "-10.4\n",
      "-10.4\n",
      "-10.4\n",
      "-10.4\n",
      "-10.4\n",
      "-10.4\n",
      "/scratch/mdd423/wobble_jax/data/HD4307_harps/ADP.2014-10-06T10:04:15.680.fits\n",
      "-10.4\n",
      "-10.4\n",
      "-10.4\n",
      "-10.366\n",
      "-10.4\n",
      "-10.4\n",
      "-10.4\n",
      "-10.4\n",
      "-10.4\n",
      "-10.4\n",
      "-10.4\n",
      "-10.4\n",
      "-10.4\n",
      "-10.4\n",
      "-10.4\n",
      "-10.4\n",
      "-10.4\n",
      "-10.4\n",
      "-10.4\n",
      "-10.4\n",
      "-10.4\n",
      "-10.4\n",
      "-10.4\n",
      "-10.4\n",
      "/scratch/mdd423/wobble_jax/data/HD4307_harps/ADP.2014-10-06T10:07:44.637.fits\n",
      "-10.4\n",
      "-10.4\n",
      "-10.4\n",
      "-10.4\n",
      "-10.4\n",
      "-10.4\n",
      "-10.4\n",
      "-10.4\n",
      "-10.4\n",
      "-10.4\n",
      "-10.4\n",
      "-10.4\n",
      "-10.4\n",
      "-10.4\n",
      "-10.4\n",
      "-10.4\n",
      "-10.4\n"
     ]
    }
   ],
   "source": [
    "xs = []\n",
    "ys = []\n",
    "yi = []\n",
    "ma = []\n",
    "\n",
    "mjds = []\n",
    "ams = []\n",
    "bcs = []\n",
    "rest_vel = []\n",
    "\n",
    "targ_rv = []\n",
    "\n",
    "all_file = []\n",
    "\n",
    "wave_min = 3000\n",
    "wave_max = 8000\n",
    "for file in files:\n",
    "    # hdu1 = fits.open(file)\n",
    "    # print(hdu[0].header['HIERARCH ESO TEL TARG RADVEL'])\n",
    "    try:\n",
    "        hdu1 = fits.open(file)\n",
    "        # print(hdu1[0].header['SPECSYS'],': ', hdu1[0].header['HIERARCH ESO DRS BERV'])\n",
    "        ams.append(np.double(hdu1[0].header['AIRMASS']))\n",
    "        rest_vel.append(float(hdu1[0].header['HIERARCH ESO DRS BERV']))\n",
    "        # print(rest_vel)\n",
    "        wave_temp = np.array(hdu1[1].data['WAVE']).flatten()\n",
    "        wave_inds = (wave_temp > wave_min) * (wave_temp < wave_max)\n",
    "        ys.append(np.log(np.array(hdu1[1].data['FLUX']).flatten()[wave_inds]))\n",
    "        xs.append(np.log(wave_temp[wave_inds]))\n",
    "        yi.append((np.array(hdu1[1].data['FLUX']).flatten()[wave_inds]/np.array(hdu1[1].data['ERR']).flatten()[wave_inds])**2)\n",
    "        m1 = np.array(np.array(hdu1[1].data['FLUX']).flatten()[wave_inds] <= 0.0,dtype=bool)\n",
    "        m2 = np.where(m1,1.0,np.log(np.array(hdu1[1].data['FLUX']).flatten()[wave_inds]) < 0.0)\n",
    "        ma.append((m1 + m2).astype(bool))#(np.array(hdu1[1].data['ERR']).flatten()[wave_inds] <= 0.0) + \n",
    "        mjds.append(np.double(hdu1[0].header['MJD-OBS']))\n",
    "\n",
    "        print(hdu1[0].header['HIERARCH ESO TEL TARG RADVEL'])\n",
    "        targ_rv.append(hdu1[0].header['HIERARCH ESO TEL TARG RADVEL'])\n",
    "\n",
    "        all_file.append(hdu1)\n",
    "        \n",
    "        # bcs.append(’)\n",
    "    except:\n",
    "        print(file)\n",
    "targ_rv = jnp.array(targ_rv)\n",
    "rest_vel = jnp.array(rest_vel)*1000"
   ]
  },
  {
   "cell_type": "code",
   "execution_count": 6,
   "id": "668befec-8bdc-4087-869c-df61774575ed",
   "metadata": {},
   "outputs": [
    {
     "name": "stderr",
     "output_type": "stream",
     "text": [
      "/ext3/miniconda3/envs/wobbleenv/lib/python3.11/site-packages/jax/_src/api_util.py:174: SyntaxWarning: Jitted function has static_argnums=(3, 4), but only accepts 4 positional arguments. This warning will be replaced by an error after 2022-08-20 at the earliest.\n",
      "  warnings.warn(f\"Jitted function has {argnums_name}={argnums}, \"\n",
      "/ext3/miniconda3/envs/wobbleenv/lib/python3.11/site-packages/jax/_src/api_util.py:174: SyntaxWarning: Jitted function has static_argnums=(3, 4, 5), but only accepts 5 positional arguments. This warning will be replaced by an error after 2022-08-20 at the earliest.\n",
      "  warnings.warn(f\"Jitted function has {argnums_name}={argnums}, \"\n"
     ]
    }
   ],
   "source": [
    "import jabble.loss\n",
    "import jabble.dataset\n",
    "import jabble.model\n",
    "import jabble.physics"
   ]
  },
  {
   "cell_type": "code",
   "execution_count": 7,
   "id": "913cf536-b058-43bb-add4-809d1a7d7cac",
   "metadata": {},
   "outputs": [],
   "source": [
    "model = jabble.model.load('hd4307_l3000-8000.mdl')\n",
    "data = jabble.dataset.Data.from_lists(xs,ys,yi,ma)\n",
    "loss = jabble.loss.ChiSquare()"
   ]
  },
  {
   "cell_type": "code",
   "execution_count": 8,
   "id": "74b26bff-1da6-4a9b-8dc7-2e2ae35ebde9",
   "metadata": {},
   "outputs": [],
   "source": [
    "def make_norm_plot(model,dataset,plt_epoches,lmin,lmax,lrange,plt_name,bcs):\n",
    "    fig, axes = plt.subplots(2,len(plt_epoches),figsize=(4*len(plt_epoches),4),sharex=True,sharey='row',facecolor=(1, 1, 1),height_ratios=[4,1],dpi=200)\n",
    "        \n",
    "    model.fix()\n",
    "    for ii, plt_epoch in enumerate(plt_epoches):\n",
    "        rest_shift = model[2][0].p[plt_epoch]\n",
    "        \n",
    "        xplot = np.linspace(np.log(lmin) - np.amax(model[2][0].p[:]),np.log(lmax) + np.amax(model[2][0].p[:]),\\\n",
    "                            dataset.xs[plt_epoch].shape[0]*10)\n",
    "        yplot = model[0]([],xplot,plt_epoch)\n",
    "        yplot_norm_stel = model[1]([],xplot,plt_epoch)\n",
    "        yplot_norm_tell = model[2]([],xplot,plt_epoch)\n",
    "        yhat = model[0]([],dataset.xs[plt_epoch],plt_epoch)\n",
    "        axes[0,ii].set_xlim(xplot.min(),xplot.max())\n",
    "\n",
    "        velocity = jabble.physics.velocities(model[1][0].p[plt_epoch])\n",
    "        # axes[0,ii].set_title('RV: {:2.1e}, $\\delta\\lambda$: {:2.1e}, BERV: {:2.1e}'.format(velocity,model[1][0].p[plt_epoch] * np.mean(lrange),bcs[plt_epoch]),fontsize=10)\n",
    "        \n",
    "        \n",
    "    \n",
    "        # Data\n",
    "        # axes[0,ii].plot(dataset.xs[plt_epoch][:],dataset.ys[plt_epoch][:],\\\n",
    "        #                          '.k',zorder=1,alpha=0.1,ms=3)\n",
    "        axes[0,ii].plot(dataset.xs[plt_epoch][:] - rest_shift,dataset.ys[plt_epoch][:] - yhat,\\\n",
    "                                 '.k',zorder=1,alpha=0.1,ms=3)\n",
    "\n",
    "        # Norm Model\n",
    "        # axes[0,ii].plot(xplot,yplot,'-r',linewidth=1.2,zorder=2,alpha=0.7,ms=6)\n",
    "        # axes[0,ii].set_ylim(-2+np.mean(yplot),0.1+np.mean(yplot))\n",
    "        # print(np.mean(yplot))\n",
    "        \n",
    "\n",
    "        # Stellar Model        \n",
    "        axes[0,ii].plot(xplot - rest_shift,yplot_norm_stel,'-r',linewidth=1.2,zorder=10,alpha=0.7,ms=6)\n",
    "        # Telluric Model\n",
    "        axes[0,ii].plot(xplot - rest_shift,yplot_norm_tell,'-b',linewidth=1.2,zorder=10,alpha=0.7,ms=6)\n",
    "        \n",
    "\n",
    "        # Residuals\n",
    "        axes[1,ii].step(dataset.xs[plt_epoch][:] - rest_shift,dataset.ys[plt_epoch][:] - model([],dataset.xs[plt_epoch][:],plt_epoch),\\\n",
    "                                 'k',where='mid',zorder=1,alpha=0.3,ms=3)\n",
    "        \n",
    "        axes[0,ii].set_ylim(-2,1)\n",
    "        axes[1,ii].set_ylim(-0.1,0.1)\n",
    "        axes[0,ii].set_xticks([])\n",
    "        axes[0,ii].set_xticks(np.log(lrange))\n",
    "        axes[0,ii].set_xticklabels(['{}'.format(x) for x in lrange])\n",
    "\n",
    "    # plt.x\n",
    "    # plt.text(1, 1, 'Wavelength ($\\AA$)', ha='center')\n",
    "    plt.savefig(plt_name,dpi=200,bbox_inches='tight')\n",
    "    fig.suptitle('Earth Rest Frame')\n",
    "    plt.show()"
   ]
  },
  {
   "cell_type": "code",
   "execution_count": 9,
   "id": "8752e706-3897-4cf3-b53c-99709321ae66",
   "metadata": {},
   "outputs": [],
   "source": [
    "index_sort = np.argsort(rest_vel)"
   ]
  },
  {
   "cell_type": "code",
   "execution_count": 11,
   "id": "ba2d63b8-97b1-4569-a560-f244c8c6dd7e",
   "metadata": {},
   "outputs": [],
   "source": [
    "plt_epoches= [*index_sort[:1],*index_sort[-1:]]\n",
    "lmin = 4279\n",
    "lmax = 4280\n",
    "lrange = np.arange(lmin,lmax,0.3)\n",
    "\n",
    "plt_name = os.path.join(out_dir,'05-hd4307-norm-stel-tell-{}_{}.png'.format(np.min(lrange),np.max(lrange)))\n",
    "# make_norm_plot(model,data,plt_epoches,lmin,lmax,lrange,plt_name,rest_vel)"
   ]
  },
  {
   "cell_type": "markdown",
   "id": "0c6fc814-257a-43de-badb-479cc871d66c",
   "metadata": {},
   "source": [
    "residuals on second panel, as black, show telluric region 6300, show stellar heavy region 4300, discussion point about shape degeneracy. what is the variance across residuals at each epoch? plot as image down along epoch, across along spectrum. Needs to be both in rest frame of tellurics and rest frame of star, so areas corresponds to lines in either spectra. pull plotting code from bedell plots."
   ]
  },
  {
   "cell_type": "code",
   "execution_count": 12,
   "id": "1528341f-2e30-4df3-aaa8-6ff02de7e316",
   "metadata": {},
   "outputs": [],
   "source": [
    "def rv_plot(model,data,targ_vel,mjds):\n",
    "    fig, ax = plt.subplots(\n",
    "        1,\n",
    "        figsize=(6, 4),\n",
    "        facecolor=(1, 1, 1),\n",
    "        dpi=300,\n",
    "        sharey=True\n",
    "    )\n",
    "     \n",
    "    epoches = len(data)\n",
    "    epoch_range = np.arange(0, epoches, dtype=int)\n",
    "    # fischer_info = f_info(model[1][0],model,data)\n",
    "\n",
    "    # dvddx = jnp.array(\n",
    "    #     [jax.grad(jabble.physics.velocities)(x) for x in model_set[1][0].p]\n",
    "    # )\n",
    "    # verr = np.sqrt(1 / fischer_info) * dvddx\n",
    "    estimate_vel = jabble.physics.velocities(model[1][0].p)\n",
    "    tv = targ_vel\n",
    "    ev = estimate_vel\n",
    "    ax.plot(\n",
    "        mjds,\n",
    "        tv,\n",
    "        \".r\",\n",
    "        zorder=1,\n",
    "        alpha=0.5,\n",
    "        ms=6,\n",
    "        label='HARPS RV'\n",
    "    )\n",
    "    print(np.mean(targ_rv),estimate_vel.mean())\n",
    "    ax.plot(mjds,ev,'.k',zorder=1,alpha=0.5,ms=6,label='Jabble RV')\n",
    "    fig.legend()\n",
    "    # ax.set_xlim(-0.5, epoches - 0.5)\n",
    "    ax.set_ylabel(\"RV [$m/s$]\")\n",
    "    ax.set_xlabel( \"MJD\")\n",
    "    plt.savefig(os.path.join(out_dir, \"05-HD4307-vel.png\"))\n",
    "    plt.show()"
   ]
  },
  {
   "cell_type": "code",
   "execution_count": 13,
   "id": "0a74790f-2e5b-4ab8-bc5e-8f7004e7a768",
   "metadata": {},
   "outputs": [
    {
     "name": "stdout",
     "output_type": "stream",
     "text": [
      "-10.399139240506328 -0.029431860700966473\n"
     ]
    },
    {
     "data": {
      "image/png": "[encoded data removed]",
      "text/plain": [
       "<Figure size 1800x1200 with 1 Axes>"
      ]
     },
     "metadata": {},
     "output_type": "display_data"
    }
   ],
   "source": [
    "rv_plot(model,data,targ_rv,mjds)"
   ]
  },
  {
   "cell_type": "code",
   "execution_count": 14,
   "id": "05818f2c-5a9e-4489-a70d-0d99617889ba",
   "metadata": {},
   "outputs": [],
   "source": [
    "from matplotlib import colormaps"
   ]
  },
  {
   "cell_type": "code",
   "execution_count": 15,
   "id": "58534510-4a9d-4f66-8bbc-713a8e8e7e37",
   "metadata": {},
   "outputs": [],
   "source": [
    "def plot_residual_img(model,dataset,lrange,orders):\n",
    "    xrange = np.log(lrange)\n",
    "    xmin, xmax = np.min(xrange), np.max(xrange)\n",
    "    xinds = ((dataset[0].xs[:] < xmax) * (dataset[0].xs[:] > xmin)).astype(bool)\n",
    "    residual_img = np.zeros((len(dataset),np.sum(xinds)))\n",
    "    fig, ax = plt.subplots(2,2,figsize=(8, 8),height_ratios=[1,4],width_ratios=[4,1],sharex='col',sharey='row')\n",
    "    fig.tight_layout()\n",
    "    \n",
    "    for i,plt_epoch in enumerate(orders):\n",
    "        xinds = ((dataset[plt_epoch].xs[:] < xmax) * (dataset[plt_epoch].xs[:] > xmin)).astype(bool)\n",
    "        residual_img[i,:] = dataset[plt_epoch].ys[xinds] - model([],dataset[plt_epoch].xs[xinds],plt_epoch)\n",
    "    \n",
    "    cmap = plt.get_cmap(\"RdBu\")\n",
    "\n",
    "    ax[0,1].axis('off')\n",
    "    ax[0,0].step(dataset[orders[-1]].xs[xinds],       (residual_img**2).sum(axis=0),'k',where='mid',zorder=1,alpha=0.3,ms=3)\n",
    "    ax[1,1].step((residual_img**2).sum(axis=1),np.arange(len(orders))[::-1],'k',where='mid',zorder=1,alpha=0.3,ms=3)\n",
    "    \n",
    "    ax[1,0].set_ylim(-0.5,np.max(orders)+0.5)\n",
    "    ax[1,0].set_xlim(xmin,xmax)\n",
    "    extent = [xmin,xmax,-0.5,np.max(orders)+0.5]\n",
    "    ax[1,0].imshow(residual_img,cmap=cmap,aspect=\"auto\",vmin=-0.1,vmax=0.1,extent=extent)\n",
    "    ax[1,0].set_xlabel('Wavelength [$\\AA$]')\n",
    "    ax[1,0].set_ylabel('Residuals')\n",
    "    # # plt.xticks([])\n",
    "    ax[1,0].set_xticks(xrange)\n",
    "    ax[1,0].set_xticklabels(['{}'.format(l) for l in lrange])\n",
    "    # ax[1,0].get_shared_x_axes().join(ax[1,0], ax[1,1])\n",
    "    # plt.xlabel()\n",
    "    plt.savefig(os.path.join(out_dir, \"06-HD4307-res-img.png\"))\n",
    "    plt.show()"
   ]
  },
  {
   "cell_type": "code",
   "execution_count": 17,
   "id": "56ffde67-7281-4bd9-9407-f772fed1e511",
   "metadata": {},
   "outputs": [
    {
     "ename": "AttributeError",
     "evalue": "'numpy.ndarray' object has no attribute 'at'",
     "output_type": "error",
     "traceback": [
      "\u001b[0;31m---------------------------------------------------------------------------\u001b[0m",
      "\u001b[0;31mAttributeError\u001b[0m                            Traceback (most recent call last)",
      "Cell \u001b[0;32mIn[17], line 1\u001b[0m\n\u001b[0;32m----> 1\u001b[0m \u001b[43mmodel\u001b[49m\u001b[38;5;241;43m.\u001b[39;49m\u001b[43mdisplay\u001b[49m\u001b[43m(\u001b[49m\u001b[43m)\u001b[49m\n",
      "File \u001b[0;32m~/wobble_jax/notebooks/../jabble/model.py:438\u001b[0m, in \u001b[0;36mContainerModel.display\u001b[0;34m(self, string)\u001b[0m\n\u001b[1;32m    437\u001b[0m \u001b[38;5;28;01mdef\u001b[39;00m \u001b[38;5;21mdisplay\u001b[39m(\u001b[38;5;28mself\u001b[39m, string\u001b[38;5;241m=\u001b[39m\u001b[38;5;124m\"\u001b[39m\u001b[38;5;124m\"\u001b[39m):\n\u001b[0;32m--> 438\u001b[0m     \u001b[38;5;28;43mself\u001b[39;49m\u001b[38;5;241;43m.\u001b[39;49m\u001b[43mget_parameters\u001b[49m\u001b[43m(\u001b[49m\u001b[43m)\u001b[49m\n\u001b[1;32m    439\u001b[0m     \u001b[38;5;28msuper\u001b[39m(ContainerModel, \u001b[38;5;28mself\u001b[39m)\u001b[38;5;241m.\u001b[39mdisplay(string)\n\u001b[1;32m    440\u001b[0m     \u001b[38;5;28;01mfor\u001b[39;00m i, model \u001b[38;5;129;01min\u001b[39;00m \u001b[38;5;28menumerate\u001b[39m(\u001b[38;5;28mself\u001b[39m\u001b[38;5;241m.\u001b[39mmodels):\n\u001b[1;32m    441\u001b[0m         \u001b[38;5;66;03m# print(model)\u001b[39;00m\n",
      "File \u001b[0;32m~/wobble_jax/notebooks/../jabble/model.py:381\u001b[0m, in \u001b[0;36mContainerModel.get_parameters\u001b[0;34m(self)\u001b[0m\n\u001b[1;32m    379\u001b[0m x \u001b[38;5;241m=\u001b[39m jnp\u001b[38;5;241m.\u001b[39marray([])\n\u001b[1;32m    380\u001b[0m \u001b[38;5;28;01mfor\u001b[39;00m i, model \u001b[38;5;129;01min\u001b[39;00m \u001b[38;5;28menumerate\u001b[39m(\u001b[38;5;28mself\u001b[39m\u001b[38;5;241m.\u001b[39mmodels):\n\u001b[0;32m--> 381\u001b[0m     params \u001b[38;5;241m=\u001b[39m \u001b[43mmodel\u001b[49m\u001b[38;5;241;43m.\u001b[39;49m\u001b[43mget_parameters\u001b[49m\u001b[43m(\u001b[49m\u001b[43m)\u001b[49m\n\u001b[1;32m    382\u001b[0m     \u001b[38;5;28mself\u001b[39m\u001b[38;5;241m.\u001b[39mparameters_per_model \u001b[38;5;241m=\u001b[39m \u001b[38;5;28mself\u001b[39m\u001b[38;5;241m.\u001b[39mparameters_per_model\u001b[38;5;241m.\u001b[39mat[i]\u001b[38;5;241m.\u001b[39mset(params\u001b[38;5;241m.\u001b[39mshape[\u001b[38;5;241m0\u001b[39m])\n\u001b[1;32m    383\u001b[0m     x \u001b[38;5;241m=\u001b[39m jnp\u001b[38;5;241m.\u001b[39mconcatenate((x, params))\n",
      "File \u001b[0;32m~/wobble_jax/notebooks/../jabble/model.py:382\u001b[0m, in \u001b[0;36mContainerModel.get_parameters\u001b[0;34m(self)\u001b[0m\n\u001b[1;32m    380\u001b[0m \u001b[38;5;28;01mfor\u001b[39;00m i, model \u001b[38;5;129;01min\u001b[39;00m \u001b[38;5;28menumerate\u001b[39m(\u001b[38;5;28mself\u001b[39m\u001b[38;5;241m.\u001b[39mmodels):\n\u001b[1;32m    381\u001b[0m     params \u001b[38;5;241m=\u001b[39m model\u001b[38;5;241m.\u001b[39mget_parameters()\n\u001b[0;32m--> 382\u001b[0m     \u001b[38;5;28mself\u001b[39m\u001b[38;5;241m.\u001b[39mparameters_per_model \u001b[38;5;241m=\u001b[39m \u001b[38;5;28;43mself\u001b[39;49m\u001b[38;5;241;43m.\u001b[39;49m\u001b[43mparameters_per_model\u001b[49m\u001b[38;5;241;43m.\u001b[39;49m\u001b[43mat\u001b[49m[i]\u001b[38;5;241m.\u001b[39mset(params\u001b[38;5;241m.\u001b[39mshape[\u001b[38;5;241m0\u001b[39m])\n\u001b[1;32m    383\u001b[0m     x \u001b[38;5;241m=\u001b[39m jnp\u001b[38;5;241m.\u001b[39mconcatenate((x, params))\n\u001b[1;32m    384\u001b[0m \u001b[38;5;28mself\u001b[39m\u001b[38;5;241m.\u001b[39mcreate_param_bool()\n",
      "\u001b[0;31mAttributeError\u001b[0m: 'numpy.ndarray' object has no attribute 'at'"
     ]
    }
   ],
   "source": [
    "model.display()"
   ]
  },
  {
   "cell_type": "code",
   "execution_count": 16,
   "id": "34fccf17-0335-4ce9-9f24-ebe96a3a9016",
   "metadata": {},
   "outputs": [
    {
     "ename": "AttributeError",
     "evalue": "'AdditiveModel' object has no attribute '_param_bool'",
     "output_type": "error",
     "traceback": [
      "\u001b[0;31m---------------------------------------------------------------------------\u001b[0m",
      "\u001b[0;31mAttributeError\u001b[0m                            Traceback (most recent call last)",
      "Cell \u001b[0;32mIn[16], line 4\u001b[0m\n\u001b[1;32m      2\u001b[0m lmax \u001b[38;5;241m=\u001b[39m \u001b[38;5;241m6570\u001b[39m\n\u001b[1;32m      3\u001b[0m lrange \u001b[38;5;241m=\u001b[39m np\u001b[38;5;241m.\u001b[39mlinspace(lmin,lmax,\u001b[38;5;241m5\u001b[39m)\n\u001b[0;32m----> 4\u001b[0m \u001b[43mplot_residual_img\u001b[49m\u001b[43m(\u001b[49m\u001b[43mmodel\u001b[49m\u001b[43m,\u001b[49m\u001b[43mdata\u001b[49m\u001b[43m,\u001b[49m\u001b[43mlrange\u001b[49m\u001b[43m,\u001b[49m\u001b[43mindex_sort\u001b[49m\u001b[43m)\u001b[49m\n",
      "Cell \u001b[0;32mIn[15], line 11\u001b[0m, in \u001b[0;36mplot_residual_img\u001b[0;34m(model, dataset, lrange, orders)\u001b[0m\n\u001b[1;32m      9\u001b[0m \u001b[38;5;28;01mfor\u001b[39;00m i,plt_epoch \u001b[38;5;129;01min\u001b[39;00m \u001b[38;5;28menumerate\u001b[39m(orders):\n\u001b[1;32m     10\u001b[0m     xinds \u001b[38;5;241m=\u001b[39m ((dataset[plt_epoch]\u001b[38;5;241m.\u001b[39mxs[:] \u001b[38;5;241m<\u001b[39m xmax) \u001b[38;5;241m*\u001b[39m (dataset[plt_epoch]\u001b[38;5;241m.\u001b[39mxs[:] \u001b[38;5;241m>\u001b[39m xmin))\u001b[38;5;241m.\u001b[39mastype(\u001b[38;5;28mbool\u001b[39m)\n\u001b[0;32m---> 11\u001b[0m     residual_img[i,:] \u001b[38;5;241m=\u001b[39m dataset[plt_epoch]\u001b[38;5;241m.\u001b[39mys[xinds] \u001b[38;5;241m-\u001b[39m \u001b[43mmodel\u001b[49m\u001b[43m(\u001b[49m\u001b[43m[\u001b[49m\u001b[43m]\u001b[49m\u001b[43m,\u001b[49m\u001b[43mdataset\u001b[49m\u001b[43m[\u001b[49m\u001b[43mplt_epoch\u001b[49m\u001b[43m]\u001b[49m\u001b[38;5;241;43m.\u001b[39;49m\u001b[43mxs\u001b[49m\u001b[43m[\u001b[49m\u001b[43mxinds\u001b[49m\u001b[43m]\u001b[49m\u001b[43m,\u001b[49m\u001b[43mplt_epoch\u001b[49m\u001b[43m)\u001b[49m\n\u001b[1;32m     13\u001b[0m cmap \u001b[38;5;241m=\u001b[39m plt\u001b[38;5;241m.\u001b[39mget_cmap(\u001b[38;5;124m\"\u001b[39m\u001b[38;5;124mRdBu\u001b[39m\u001b[38;5;124m\"\u001b[39m)\n\u001b[1;32m     15\u001b[0m ax[\u001b[38;5;241m0\u001b[39m,\u001b[38;5;241m1\u001b[39m]\u001b[38;5;241m.\u001b[39maxis(\u001b[38;5;124m'\u001b[39m\u001b[38;5;124moff\u001b[39m\u001b[38;5;124m'\u001b[39m)\n",
      "File \u001b[0;32m~/wobble_jax/notebooks/../jabble/model.py:352\u001b[0m, in \u001b[0;36mContainerModel.__call__\u001b[0;34m(self, p, *args)\u001b[0m\n\u001b[1;32m    349\u001b[0m \u001b[38;5;28;01mdef\u001b[39;00m \u001b[38;5;21m__call__\u001b[39m(\u001b[38;5;28mself\u001b[39m, p, \u001b[38;5;241m*\u001b[39margs):\n\u001b[1;32m    351\u001b[0m     \u001b[38;5;28;01mif\u001b[39;00m \u001b[38;5;28mlen\u001b[39m(p) \u001b[38;5;241m==\u001b[39m \u001b[38;5;241m0\u001b[39m:\n\u001b[0;32m--> 352\u001b[0m         \u001b[38;5;28;01mreturn\u001b[39;00m \u001b[38;5;28;43mself\u001b[39;49m\u001b[38;5;241;43m.\u001b[39;49m\u001b[43mcall\u001b[49m\u001b[43m(\u001b[49m\u001b[43mnp\u001b[49m\u001b[38;5;241;43m.\u001b[39;49m\u001b[43marray\u001b[49m\u001b[43m(\u001b[49m\u001b[43m[\u001b[49m\u001b[43m]\u001b[49m\u001b[43m)\u001b[49m\u001b[43m,\u001b[49m\u001b[43m \u001b[49m\u001b[38;5;241;43m*\u001b[39;49m\u001b[43margs\u001b[49m\u001b[43m)\u001b[49m\n\u001b[1;32m    353\u001b[0m     \u001b[38;5;28;01melse\u001b[39;00m:\n\u001b[1;32m    354\u001b[0m         \u001b[38;5;28;01mreturn\u001b[39;00m \u001b[38;5;28mself\u001b[39m\u001b[38;5;241m.\u001b[39mcall(p, \u001b[38;5;241m*\u001b[39margs)\n",
      "File \u001b[0;32m~/wobble_jax/notebooks/../jabble/model.py:509\u001b[0m, in \u001b[0;36mAdditiveModel.call\u001b[0;34m(self, p, x, i, *args)\u001b[0m\n\u001b[1;32m    507\u001b[0m \u001b[38;5;66;03m# PARALLELIZABLE\u001b[39;00m\n\u001b[1;32m    508\u001b[0m \u001b[38;5;28;01mfor\u001b[39;00m k, model \u001b[38;5;129;01min\u001b[39;00m \u001b[38;5;28menumerate\u001b[39m(\u001b[38;5;28mself\u001b[39m\u001b[38;5;241m.\u001b[39mmodels):\n\u001b[0;32m--> 509\u001b[0m     indices \u001b[38;5;241m=\u001b[39m \u001b[38;5;28;43mself\u001b[39;49m\u001b[38;5;241;43m.\u001b[39;49m\u001b[43mget_indices\u001b[49m\u001b[43m(\u001b[49m\u001b[43mk\u001b[49m\u001b[43m)\u001b[49m\n\u001b[1;32m    510\u001b[0m     output \u001b[38;5;241m+\u001b[39m\u001b[38;5;241m=\u001b[39m model(p[indices], x, i, \u001b[38;5;241m*\u001b[39margs)\n\u001b[1;32m    511\u001b[0m \u001b[38;5;28;01mreturn\u001b[39;00m output\n",
      "File \u001b[0;32m~/wobble_jax/notebooks/../jabble/model.py:476\u001b[0m, in \u001b[0;36mContainerModel.get_indices\u001b[0;34m(self, i)\u001b[0m\n\u001b[1;32m    468\u001b[0m \u001b[38;5;28;01mdef\u001b[39;00m \u001b[38;5;21mget_indices\u001b[39m(\u001b[38;5;28mself\u001b[39m,i):\n\u001b[1;32m    469\u001b[0m \u001b[38;5;250m    \u001b[39m\u001b[38;5;124;03m\"\"\"\u001b[39;00m\n\u001b[1;32m    470\u001b[0m \u001b[38;5;124;03m    Get array of ints for the ith submodel, in models list using parameters_per_model\u001b[39;00m\n\u001b[1;32m    471\u001b[0m \u001b[38;5;124;03m    Returns\u001b[39;00m\n\u001b[0;32m   (...)\u001b[0m\n\u001b[1;32m    474\u001b[0m \u001b[38;5;124;03m        Array of indices for the parameters in the ith model that is in fitting mode\u001b[39;00m\n\u001b[1;32m    475\u001b[0m \u001b[38;5;124;03m    \"\"\"\u001b[39;00m\n\u001b[0;32m--> 476\u001b[0m     \u001b[38;5;28;01mreturn\u001b[39;00m \u001b[38;5;28;43mself\u001b[39;49m\u001b[38;5;241;43m.\u001b[39;49m\u001b[43m_param_bool\u001b[49m[i]\n",
      "\u001b[0;31mAttributeError\u001b[0m: 'AdditiveModel' object has no attribute '_param_bool'"
     ]
    },
    {
     "data": {
      "image/png": "[encoded data removed]",
      "text/plain": [
       "<Figure size 800x800 with 4 Axes>"
      ]
     },
     "metadata": {},
     "output_type": "display_data"
    }
   ],
   "source": [
    "lmin = 6550\n",
    "lmax = 6570\n",
    "lrange = np.linspace(lmin,lmax,5)\n",
    "\n",
    "plot_residual_img(model,data,lrange,index_sort)"
   ]
  },
  {
   "cell_type": "code",
   "execution_count": null,
   "id": "93b9a9e9-c4eb-4169-9ff6-f580b8fa71c7",
   "metadata": {},
   "outputs": [],
   "source": [
    "def plot_residual_hist(model,dataset,orders):\n",
    "    \n",
    "    # residual_img = np.zeros((len(dataset),np.sum(xinds)))\n",
    "    fig, ax = plt.subplots(figsize=(8, 8))\n",
    "    for plt_epoch in orders:\n",
    "        # xinds = ((dataset[plt_epoch].xs[:] < xmax) * (dataset[plt_epoch].xs[:] > xmin)).astype(bool)\n",
    "        residuals = dataset[plt_epoch].ys[~dataset[plt_epoch].mask] \\\n",
    "                    - model([],dataset[plt_epoch].xs[~dataset[plt_epoch].mask],plt_epoch)\n",
    "        plt.hist(residuals,bins=1000,label='{}'.format(plt_epoch))\n",
    "    # cmap = plt.get_cmap(\"RdBu\")\n",
    "    # plt.axis(\"off\")\n",
    "    # ax.imshow(residual_img,cmap=cmap,aspect=\"auto\",vmin=-0.1,vmax=0.1)\n",
    "    # # plt.xticks([])\n",
    "    # plt.xticks(xrange)\n",
    "    # ax.set_xlabels(['{}'.format(l) for l in lrange])\n",
    "    plt.show()"
   ]
  },
  {
   "cell_type": "code",
   "execution_count": null,
   "id": "64d929cd-f12c-4de7-aa79-ea83f04ca793",
   "metadata": {},
   "outputs": [],
   "source": [
    "# plot_residual_hist(model,data,index_sort)"
   ]
  },
  {
   "cell_type": "code",
   "execution_count": null,
   "id": "61a0afc6-b866-4502-a22f-b85b5608fdd2",
   "metadata": {},
   "outputs": [],
   "source": [
    "model.display()"
   ]
  },
  {
   "cell_type": "code",
   "execution_count": null,
   "id": "9b39fb7d-3270-4c25-9e9e-af78f6ec9a83",
   "metadata": {},
   "outputs": [],
   "source": [
    "def make_bary_plot(model,dataset,plt_epoches,lmin,lmax,lrange,plt_name,bcs):\n",
    "    fig, axes = plt.subplots(2,len(plt_epoches),figsize=(4*len(plt_epoches),4),sharex=True,sharey='row',facecolor=(1, 1, 1),height_ratios=[4,1],dpi=200)\n",
    "        \n",
    "    model.fix()\n",
    "    for ii, plt_epoch in enumerate(plt_epoches):\n",
    "        \n",
    "        xplot = np.linspace(np.log(lmin),np.log(lmax),\\\n",
    "                            dataset.xs[plt_epoch].shape[0]*10)\n",
    "        yplot = model[0]([],xplot,plt_epoch)\n",
    "        yplot_norm_stel = model[1]([],xplot,plt_epoch)\n",
    "        yplot_norm_tell = model[2]([],xplot,plt_epoch)\n",
    "        yhat = model[0]([],dataset.xs[plt_epoch],plt_epoch)\n",
    "        axes[0,ii].set_xlim(xplot.min(),xplot.max())\n",
    "\n",
    "        velocity = jabble.physics.velocities(model[1][0].p[plt_epoch])\n",
    "        # axes[0,ii].set_title('RV: {:2.1e}, $\\delta\\lambda$: {:2.1e}, BERV: {:2.1e}'.format(velocity,model[1][0].p[plt_epoch] * np.mean(lrange),bcs[plt_epoch]),fontsize=10)\n",
    "        \n",
    "        \n",
    "    \n",
    "        # Data\n",
    "        # axes[0,ii].plot(dataset.xs[plt_epoch][:],dataset.ys[plt_epoch][:],\\\n",
    "        #                          '.k',zorder=1,alpha=0.1,ms=3)\n",
    "        axes[0,ii].plot(dataset.xs[plt_epoch][:],dataset.ys[plt_epoch][:] - yhat,\\\n",
    "                                 '.k',zorder=1,alpha=0.1,ms=3)\n",
    "\n",
    "        # Norm Model\n",
    "        # axes[0,ii].plot(xplot,yplot,'-r',linewidth=1.2,zorder=2,alpha=0.7,ms=6)\n",
    "        # axes[0,ii].set_ylim(-2+np.mean(yplot),0.1+np.mean(yplot))\n",
    "        # print(np.mean(yplot))\n",
    "        \n",
    "\n",
    "        # Stellar Model        \n",
    "        axes[0,ii].plot(xplot,yplot_norm_stel,'-r',linewidth=1.2,zorder=10,alpha=0.7,ms=6)\n",
    "        # Telluric Model\n",
    "        axes[0,ii].plot(xplot,yplot_norm_tell,'-b',linewidth=1.2,zorder=10,alpha=0.7,ms=6)\n",
    "        \n",
    "\n",
    "        # Residuals\n",
    "        axes[1,ii].step(dataset.xs[plt_epoch][:],dataset.ys[plt_epoch][:] - model([],dataset.xs[plt_epoch][:],plt_epoch),\\\n",
    "                                 'k',where='mid',zorder=1,alpha=0.3,ms=3)\n",
    "        \n",
    "        axes[0,ii].set_ylim(-2,1)\n",
    "        axes[1,ii].set_ylim(-0.1,0.1)\n",
    "        axes[0,ii].set_xticks([])\n",
    "        axes[0,ii].set_xticks(np.log(lrange))\n",
    "        axes[0,ii].set_xticklabels(['{}'.format(x) for x in lrange])\n",
    "\n",
    "    # plt.x\n",
    "    # plt.text(1, 1, 'Wavelength ($\\AA$)', ha='center')\n",
    "    plt.savefig(plt_name,dpi=200,bbox_inches='tight')\n",
    "    fig.suptitle('Barycentric Rest Frame')\n",
    "    plt.show()"
   ]
  },
  {
   "cell_type": "code",
   "execution_count": null,
   "id": "79e627d8-3fdd-4e91-8b7f-dc42bc39b6e8",
   "metadata": {},
   "outputs": [],
   "source": [
    "plt_epoches= [*index_sort[:1],*index_sort[-1:]]\n",
    "lrange = np.arange(lmin,lmax,5)\n",
    "\n",
    "plt_name = os.path.join(out_dir,'05-hd4307-bary-spectra-{}_{}.png'.format(np.min(lrange),np.max(lrange)))\n",
    "make_bary_plot(model,data,plt_epoches,lmin,lmax,lrange,plt_name,rest_vel)"
   ]
  },
  {
   "cell_type": "code",
   "execution_count": null,
   "id": "7fa690d1-5f1e-445e-a676-c4fdf74b85f9",
   "metadata": {},
   "outputs": [],
   "source": [
    "import scipy.interpolate"
   ]
  },
  {
   "cell_type": "code",
   "execution_count": null,
   "id": "d296e1a0-44f9-479e-b3a6-39ba002cc5af",
   "metadata": {},
   "outputs": [],
   "source": [
    "def plot_earth_residual_img(model,dataset,lrange,orders,rest_shifts,residual_resolution,plt_name):\n",
    "    xrange = np.log(lrange)\n",
    "    xmin, xmax = np.min(xrange), np.max(xrange)\n",
    "    # xinds = ((dataset[0].xs[:] < xmax) * (dataset[0].xs[:] > xmin)).astype(bool)\n",
    "    residual_img = np.zeros((len(dataset),residual_resolution))\n",
    "    fig, ax = plt.subplots(2,2,figsize=(8, 8),height_ratios=[1,4],width_ratios=[4,1],sharex='col',sharey='row')\n",
    "    fig.tight_layout()\n",
    "\n",
    "    max_shift, min_shift = np.max(rest_shifts), np.min(rest_shifts)\n",
    "    new_grid = np.linspace(xmin,xmax,residual_resolution)\n",
    "\n",
    "    epsilon = np.log(np.mean(lrange) + 1) - np.log(np.mean(lrange))\n",
    "    for i,plt_epoch in enumerate(orders):\n",
    "        \n",
    "        xinds = ((dataset[plt_epoch].xs[:] <= (xmax + rest_shifts[plt_epoch] + epsilon)) * \\\n",
    "                 (dataset[plt_epoch].xs[:] >= (xmin + rest_shifts[plt_epoch] - epsilon))).astype(bool)\n",
    "        # print(np.sum(xinds))\n",
    "        residual = dataset[plt_epoch].ys[xinds] - model([],dataset[plt_epoch].xs[xinds],plt_epoch)\n",
    "        \n",
    "        residual_img[i,:] = scipy.interpolate.interp1d(dataset[plt_epoch].xs[xinds],residual,kind='nearest')(new_grid + \\\n",
    "                                                                                                             rest_shifts[plt_epoch])\n",
    "    \n",
    "    cmap = plt.get_cmap(\"RdBu\")\n",
    "\n",
    "    ax[0,1].axis('off')\n",
    "    ax[0,0].step(new_grid,       (residual_img**2).sum(axis=0),'k',where='mid',zorder=1,alpha=0.3,ms=3)\n",
    "    ax[1,1].step((residual_img**2).sum(axis=1),np.arange(len(orders))[::-1],'k',where='post',zorder=1,alpha=0.3,ms=3)\n",
    "    \n",
    "    ax[1,0].set_ylim(0,np.max(orders)+1)\n",
    "    ax[1,0].set_xlim(xmin,xmax)\n",
    "    extent = [xmin,xmax,0,np.max(orders)+1]\n",
    "    ax[1,0].imshow(residual_img,cmap=cmap,aspect=\"auto\",vmin=-0.1,vmax=0.1,extent=extent,interpolation='nearest')\n",
    "    ax[1,0].set_xlabel('Wavelength [$\\AA$]')\n",
    "    ax[1,0].set_ylabel('Residuals')\n",
    "    # # plt.xticks([])\n",
    "    ax[1,0].set_xticks(xrange)\n",
    "    ax[1,0].set_xticklabels(['{}'.format(l) for l in lrange])\n",
    "    # ax[1,0].get_shared_x_axes().join(ax[1,0], ax[1,1])\n",
    "    # plt.xlabel()\n",
    "    plt.savefig(os.path.join(out_dir, plt_name))\n",
    "    plt.show()\n",
    "\n",
    "\n",
    "    # worst_epochs = np.zeros(len(orders),dtype=bool)\n",
    "    worst_epochs = (residual_img**2).sum(axis=1) > 0.7\n",
    "    print(worst_epochs)\n",
    "    print(orders)\n",
    "    print(orders[worst_epochs])\n",
    "    return orders[worst_epochs]"
   ]
  },
  {
   "cell_type": "code",
   "execution_count": null,
   "id": "d2e3d228-d831-4c7f-9c11-24c29544616f",
   "metadata": {},
   "outputs": [],
   "source": [
    "rest_shifts = model[2][0].p"
   ]
  },
  {
   "cell_type": "code",
   "execution_count": null,
   "id": "74895100-a0b8-4375-a4de-cb83e272787f",
   "metadata": {},
   "outputs": [],
   "source": [
    "lmin = 6550\n",
    "lmax = 6570\n",
    "residual_resolution = 4096\n",
    "lrange = np.linspace(lmin,lmax,5)\n",
    "plt_name =  \"06-HD4307-res-img-earth.png\"\n",
    "plot_earth_residual_img(model,data,lrange,index_sort,rest_shifts,residual_resolution,plt_name)"
   ]
  },
  {
   "cell_type": "code",
   "execution_count": null,
   "id": "2203a6d1-b1a6-4d9c-a338-5369af5636aa",
   "metadata": {},
   "outputs": [],
   "source": [
    "star_shift = model[1][0].p\n",
    "lmin = 6550\n",
    "lmax = 6570\n",
    "residual_resolution = 4096\n",
    "lrange = np.linspace(lmin,lmax,5)\n",
    "plt_name = \"06-HD4307-res-img-star.png\"\n",
    "plot_earth_residual_img(model,data,lrange,index_sort,star_shift,residual_resolution,plt_name )"
   ]
  },
  {
   "cell_type": "code",
   "execution_count": null,
   "id": "ad0278ad-6ad5-484e-832b-dee80440d6ef",
   "metadata": {},
   "outputs": [],
   "source": [
    "star_shift = np.zeros(model[1][0].p.shape)\n",
    "lmin = 6550\n",
    "lmax = 6570\n",
    "residual_resolution = 4096\n",
    "lrange = np.linspace(lmin,lmax,5)\n",
    "plt_name = \"06-HD4307-res-img-bary.png\"\n",
    "worst_epochs = plot_earth_residual_img(model,data,lrange,index_sort,star_shift,residual_resolution,plt_name )"
   ]
  },
  {
   "cell_type": "code",
   "execution_count": null,
   "id": "62da5681-233b-4445-a675-5cb20d686366",
   "metadata": {},
   "outputs": [],
   "source": [
    "worst_epochs.dtype"
   ]
  },
  {
   "cell_type": "code",
   "execution_count": null,
   "id": "e732fb43-b30e-4b26-97b5-1df23f73116f",
   "metadata": {},
   "outputs": [],
   "source": [
    "worst_hdus = [all_file[iii] for iii in worst_epochs]"
   ]
  },
  {
   "cell_type": "code",
   "execution_count": null,
   "id": "b860cf50-7d5c-4c06-974f-52d16da0f012",
   "metadata": {
    "scrolled": true
   },
   "outputs": [],
   "source": [
    "worst_hdus[0][0].header"
   ]
  },
  {
   "cell_type": "code",
   "execution_count": null,
   "id": "5f010b8c-e765-41da-a5d2-624095e2c9fe",
   "metadata": {},
   "outputs": [],
   "source": [
    "for i,file in enumerate(worst_hdus):\n",
    "    print(i,file[0].header[\"SNR\"])"
   ]
  },
  {
   "cell_type": "code",
   "execution_count": null,
   "id": "f5ca73b4-a9b4-4df7-89ef-15bc1e8d8ef3",
   "metadata": {},
   "outputs": [],
   "source": [
    "def plot_earth_residual_img_more(model,dataset,lrange,orders,rest_shifts,residual_resolution,plt_name,all_file):\n",
    "    xrange = np.log(lrange)\n",
    "    xmin, xmax = np.min(xrange), np.max(xrange)\n",
    "    # xinds = ((dataset[0].xs[:] < xmax) * (dataset[0].xs[:] > xmin)).astype(bool)\n",
    "    residual_img = np.zeros((len(dataset),residual_resolution))\n",
    "    fig, ax = plt.subplots(2,3,figsize=(8, 8),height_ratios=[1,4],width_ratios=[4,1,1],sharex='col',sharey='row')\n",
    "    fig.tight_layout()\n",
    "\n",
    "    max_shift, min_shift = np.max(rest_shifts), np.min(rest_shifts)\n",
    "    new_grid = np.linspace(xmin,xmax,residual_resolution)\n",
    "\n",
    "    epsilon = np.log(np.mean(lrange) + 1) - np.log(np.mean(lrange))\n",
    "    snr = np.zeros(len(orders))\n",
    "    for i,plt_epoch in enumerate(orders):\n",
    "        \n",
    "        xinds = ((dataset[plt_epoch].xs[:] <= (xmax + rest_shifts[plt_epoch] + epsilon)) * \\\n",
    "                 (dataset[plt_epoch].xs[:] >= (xmin + rest_shifts[plt_epoch] - epsilon))).astype(bool)\n",
    "        # print(np.sum(xinds))\n",
    "        residual = dataset[plt_epoch].ys[xinds] - model([],dataset[plt_epoch].xs[xinds],plt_epoch)\n",
    "        \n",
    "        residual_img[i,:] = scipy.interpolate.interp1d(dataset[plt_epoch].xs[xinds],residual,kind='nearest')(new_grid + \\\n",
    "                                                                                                            rest_shifts[plt_epoch])\n",
    "        snr[i] = all_file[plt_epoch][0].header[\"SNR\"]\n",
    "    \n",
    "    cmap = plt.get_cmap(\"RdBu\")\n",
    "\n",
    "    ax[0,1].axis('off')\n",
    "    ax[0,2].axis('off')\n",
    "    ax[0,0].step(new_grid,       (residual_img**2).sum(axis=0),'k',where='mid',zorder=1,alpha=0.3,ms=3)\n",
    "    ax[1,1].step((residual_img**2).sum(axis=1),np.arange(len(orders))[::-1],'k',where='post',zorder=1,alpha=0.3,ms=3)\n",
    "    ax[1,2].set_title(\"SNR\")\n",
    "    ax[1,2].step(snr,np.arange(len(orders))[::-1],'k',where='post',zorder=1,alpha=0.3,ms=3)\n",
    "    \n",
    "    ax[1,0].set_ylim(0,np.max(orders)+1)\n",
    "    ax[1,0].set_xlim(xmin,xmax)\n",
    "    extent = [xmin,xmax,0,np.max(orders)+1]\n",
    "    ax[1,0].imshow(residual_img,cmap=cmap,aspect=\"auto\",vmin=-0.1,vmax=0.1,extent=extent,interpolation='nearest')\n",
    "    ax[1,0].set_xlabel('Wavelength [$\\AA$]')\n",
    "    ax[1,0].set_ylabel('Residuals')\n",
    "    # # plt.xticks([])\n",
    "    ax[1,0].set_xticks(xrange)\n",
    "    ax[1,0].set_xticklabels(['{}'.format(l) for l in lrange])\n",
    "    # ax[1,0].get_shared_x_axes().join(ax[1,0], ax[1,1])\n",
    "    # plt.xlabel()\n",
    "    plt.savefig(os.path.join(out_dir, plt_name))\n",
    "    plt.show()"
   ]
  },
  {
   "cell_type": "code",
   "execution_count": null,
   "id": "9ab4d691-e900-498f-b04c-639c6e396dc3",
   "metadata": {},
   "outputs": [],
   "source": [
    "star_shift = np.zeros(model[1][0].p.shape)\n",
    "lmin = 6550\n",
    "lmax = 6570\n",
    "residual_resolution = 4096\n",
    "lrange = np.linspace(lmin,lmax,5)\n",
    "plt_name = \"06-HD4307-res-img-bary.png\"\n",
    "worst_epochs = plot_earth_residual_img_more(model,data,lrange,index_sort,star_shift,residual_resolution,plt_name,all_file)"
   ]
  },
  {
   "cell_type": "code",
   "execution_count": null,
   "id": "e934287e-13dd-4ed5-99c8-950e31bf8221",
   "metadata": {},
   "outputs": [],
   "source": [
    "bary_shift  = np.zeros(model[1][0].p.shape)\n",
    "rest_shift = model[2][0].p\n",
    "star_shift = model[1][0].p\n",
    "\n",
    "lmin = 4250\n",
    "lmax = 4270\n",
    "residual_resolution = 4096\n",
    "lrange = np.linspace(lmin,lmax,5)\n",
    "plt_name = \"06-HD4307-res-img-bary-{}-{}.png\".format(lmin,lmax)\n",
    "worst_epochs = plot_earth_residual_img(model,data,lrange,index_sort,bary_shift,residual_resolution,plt_name)\n",
    "plt_name = \"06-HD4307-res-img-star-{}-{}.png\".format(lmin,lmax)\n",
    "worst_epochs = plot_earth_residual_img(model,data,lrange,index_sort,star_shift,residual_resolution,plt_name)\n",
    "plt_name = \"06-HD4307-res-img-rest-{}-{}.png\".format(lmin,lmax)\n",
    "worst_epochs = plot_earth_residual_img(model,data,lrange,index_sort,rest_shift,residual_resolution,plt_name)\n",
    "plt_name = os.path.join(out_dir,'05-hd4307-bary-spectra-{}_{}.png'.format(lmin,lmax))\n",
    "make_bary_plot(model,data,plt_epoches,lmin,lmax,lrange,plt_name,rest_vel)"
   ]
  },
  {
   "cell_type": "code",
   "execution_count": null,
   "id": "ce0d884f-32fc-402e-bff8-d0db15df5549",
   "metadata": {},
   "outputs": [],
   "source": []
  }
 ],
 "metadata": {
  "kernelspec": {
   "display_name": "Python 3 (ipykernel)",
   "language": "python",
   "name": "python3"
  },
  "language_info": {
   "codemirror_mode": {
    "name": "ipython",
    "version": 3
   },
   "file_extension": ".py",
   "mimetype": "text/x-python",
   "name": "python",
   "nbconvert_exporter": "python",
   "pygments_lexer": "ipython3",
   "version": "3.11.7"
  }
 },
 "nbformat": 4,
 "nbformat_minor": 5
}

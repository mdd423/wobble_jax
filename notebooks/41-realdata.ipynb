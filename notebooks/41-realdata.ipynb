{
 "cells": [
  {
   "cell_type": "code",
   "execution_count": 1,
   "metadata": {},
   "outputs": [],
   "source": [
    "import h5py\n",
    "import astropy\n",
    "import astropy.units as u \n",
    "import astropy.coordinates as coord\n",
    "import astropy.time as at\n",
    "import astropy.constants as const\n",
    "import numpy as np\n",
    "\n",
    "import sys \n",
    "\n",
    "sys.path.insert(0,'..')\n",
    "import jabble.dataset\n",
    "import jabble.loss\n",
    "import jabble.model\n",
    "\n",
    "import pickle"
   ]
  },
  {
   "cell_type": "code",
   "execution_count": 2,
   "metadata": {},
   "outputs": [
    {
     "name": "stdout",
     "output_type": "stream",
     "text": [
      "0.00899975700787291\n"
     ]
    }
   ],
   "source": [
    "print(jabble.dataset.velocityfromshift(9e-3)/const.c)"
   ]
  },
  {
   "cell_type": "markdown",
   "metadata": {},
   "source": [
    "<h1>Intro to Jabble: Fitting EPRVs from Simulacra</h1>\n",
    "This notebook will give you an introduction to how jabble work by fitting to a dataset generate by Simulacra. Where the EPRVs are precisely known and can be checked for accuracy"
   ]
  },
  {
   "cell_type": "code",
   "execution_count": 3,
   "metadata": {},
   "outputs": [],
   "source": [
    "import astropy.io.fits"
   ]
  },
  {
   "cell_type": "code",
   "execution_count": 4,
   "metadata": {},
   "outputs": [],
   "source": [
    "data    = astropy.io.fits.open('../data/2M12504515+1133371.fits')\n",
    "# epoches = data['data']['flux'].shape[0]"
   ]
  },
  {
   "cell_type": "code",
   "execution_count": 5,
   "metadata": {},
   "outputs": [
    {
     "data": {
      "text/plain": [
       "XTENSION= 'BINTABLE'           / binary table extension                         \n",
       "BITPIX  =                    8 / array data type                                \n",
       "NAXIS   =                    2 / number of array dimensions                     \n",
       "NAXIS1  =               104456 / length of dimension 1                          \n",
       "NAXIS2  =                   52 / length of dimension 2                          \n",
       "PCOUNT  =                    0 / number of group parameters                     \n",
       "GCOUNT  =                    1 / number of groups                               \n",
       "TFIELDS =                    5 / number of table fields                         \n",
       "TTYPE1  = 'wavelength'                                                          \n",
       "TFORM1  = '6144D   '                                                            \n",
       "TDIM1   = '(6144)  '                                                            \n",
       "TTYPE2  = 'flux    '                                                            \n",
       "TFORM2  = '6144E   '                                                            \n",
       "TDIM2   = '(6144)  '                                                            \n",
       "TTYPE3  = 'flux_err'                                                            \n",
       "TFORM3  = '6144E   '                                                            \n",
       "TDIM3   = '(6144)  '                                                            \n",
       "TTYPE4  = 'mask    '                                                            \n",
       "TFORM4  = '6144L   '                                                            \n",
       "TDIM4   = '(6144)  '                                                            \n",
       "TTYPE5  = 'BJD     '                                                            \n",
       "TFORM5  = 'D       '                                                            "
      ]
     },
     "execution_count": 5,
     "metadata": {},
     "output_type": "execute_result"
    }
   ],
   "source": [
    "data[1].header"
   ]
  },
  {
   "cell_type": "code",
   "execution_count": 6,
   "metadata": {},
   "outputs": [],
   "source": [
    "flux = np.array(data[1].data['flux'])\n",
    "ferr = np.array(data[1].data['flux_err'])\n",
    "wave = np.array(data[1].data['wavelength']) * u.Angstrom\n",
    "mask = np.array(data[1].data['mask'])"
   ]
  },
  {
   "cell_type": "markdown",
   "metadata": {},
   "source": [
    "<h2>Jabble Dataset</h2>\n",
    "Initialize the jabble dataset here using the keys from the h5 file. And we are going to assume none of the data needs to be masked. That will likely change in the future."
   ]
  },
  {
   "cell_type": "code",
   "execution_count": 7,
   "metadata": {},
   "outputs": [],
   "source": [
    "import scipy.ndimage\n",
    "def normalize(flux,sigma):\n",
    "    return scipy.ndimage.gaussian_filter(flux,sigma=sigma)"
   ]
  },
  {
   "cell_type": "code",
   "execution_count": 8,
   "metadata": {},
   "outputs": [
    {
     "data": {
      "text/plain": [
       "(52, 6144)"
      ]
     },
     "execution_count": 8,
     "metadata": {},
     "output_type": "execute_result"
    }
   ],
   "source": [
    "wave.shape"
   ]
  },
  {
   "cell_type": "code",
   "execution_count": 9,
   "metadata": {},
   "outputs": [
    {
     "name": "stderr",
     "output_type": "stream",
     "text": [
      "/home/mdd423/wobble_jax/notebooks/../jabble/dataset.py:130: RuntimeWarning: divide by zero encountered in true_divide\n",
      "  self.xs, self.ys, self.yerr = np.log(wave.to(u.Angstrom).value), np.log(flux_norm), flux_error/flux\n"
     ]
    }
   ],
   "source": [
    "sigma = 80\n",
    "wob_data = jabble.dataset.WobbleDataset(wave,flux,ferr,mask,normalize,nargs=[sigma])"
   ]
  },
  {
   "cell_type": "markdown",
   "metadata": {},
   "source": [
    "Now we set the times of observation to be half between the beginning and end of the exposure. In the future this may be a weighted average with the transmission from the telescope."
   ]
  },
  {
   "cell_type": "code",
   "execution_count": 10,
   "metadata": {},
   "outputs": [],
   "source": [
    "times  = at.Time(data[1].data['BJD'], format='jd', scale='tdb')\n",
    "period = 1.1 * u.day"
   ]
  },
  {
   "cell_type": "markdown",
   "metadata": {},
   "source": [
    "This part has problems. I don't know how to store the target data. h5 does not seem that it can appropriately save the degree data. And pickle can save it but it won't be able to re read it."
   ]
  },
  {
   "cell_type": "code",
   "execution_count": 11,
   "metadata": {},
   "outputs": [],
   "source": [
    "loc    = coord.EarthLocation.of_site('APO')\n",
    "target = coord.SkyCoord.from_name('2MASS 12504515+1133371')"
   ]
  },
  {
   "cell_type": "code",
   "execution_count": 12,
   "metadata": {},
   "outputs": [],
   "source": [
    "bc   = target.radial_velocity_correction(obstime=times,location=loc).to(u.km/u.s)\n",
    "init_shifts = jabble.dataset.shifts(bc)"
   ]
  },
  {
   "cell_type": "markdown",
   "metadata": {},
   "source": [
    "<h2>Check the Velocities</h2>\n",
    "Here we are plotting the theoretical velocities we will be fitting for with Jabble. Just to make sure they make sense. And if our location and target are in the right positions."
   ]
  },
  {
   "cell_type": "code",
   "execution_count": 13,
   "metadata": {},
   "outputs": [],
   "source": [
    "import matplotlib.pyplot as plt"
   ]
  },
  {
   "cell_type": "code",
   "execution_count": 14,
   "metadata": {
    "scrolled": true
   },
   "outputs": [
    {
     "data": {
      "image/png": "[encoded data removed]",
      "text/plain": [
       "<Figure size 720x216 with 1 Axes>"
      ]
     },
     "metadata": {
      "needs_background": "light"
     },
     "output_type": "display_data"
    }
   ],
   "source": [
    "plt.figure(figsize=(10,3))\n",
    "plt.title('RV')\n",
    "v_unit = u.km/u.s\n",
    "plt.plot((times - min(times)).to(u.day).value,bc.to(v_unit).value,'.k')\n",
    "plt.ylabel('vel [{}]'.format(v_unit))\n",
    "plt.xlabel('time [d]')\n",
    "plt.show()"
   ]
  },
  {
   "cell_type": "markdown",
   "metadata": {},
   "source": [
    "<h2>Loss Function</h2>\n",
    "Define the loss function from the jabble.loss module. If the errorbars are too bad, use the L2Loss function."
   ]
  },
  {
   "cell_type": "code",
   "execution_count": 15,
   "metadata": {},
   "outputs": [],
   "source": [
    "loss = jabble.loss.ChiSquare() #+ jabble.loss.L2Smooth(submodel_ind=[1])"
   ]
  },
  {
   "cell_type": "markdown",
   "metadata": {},
   "source": [
    "<h2>Create your Jabble Model</h2>\n",
    "Here we are creating a two part CompositeModel. The first part shifts per epoch, and the second part is a jax linear layer. For the JaxLinear Model you need a set of grid points in x to linearly interpolate into y. So ideally this is set at the resolution or resolutions of the detector. But I guess I could also just use the grid points that were sampled by the detector?"
   ]
  },
  {
   "cell_type": "code",
   "execution_count": 16,
   "metadata": {},
   "outputs": [],
   "source": [
    "resolution = 35_000\n",
    "vel_padding = 50 * u.km/u.s"
   ]
  },
  {
   "cell_type": "markdown",
   "metadata": {},
   "source": [
    "Now we will only be fitting the linear model first, which is at the position 1 in the list in the CompositeModel"
   ]
  },
  {
   "cell_type": "code",
   "execution_count": 17,
   "metadata": {},
   "outputs": [
    {
     "name": "stderr",
     "output_type": "stream",
     "text": [
      "2021-11-26 21:52:59.862223: W external/org_tensorflow/tensorflow/stream_executor/platform/default/dso_loader.cc:64] Could not load dynamic library 'libcuda.so.1'; dlerror: libcuda.so.1: cannot open shared object file: No such file or directory; LD_LIBRARY_PATH: /usr/local/nvidia/lib:/usr/local/nvidia/lib64:/.singularity.d/libs\n",
      "WARNING:absl:No GPU/TPU found, falling back to CPU. (Set TF_CPP_MIN_LOG_LEVEL=0 and rerun for more info.)\n",
      "2021-11-26 21:52:59.862242: W external/org_tensorflow/tensorflow/stream_executor/cuda/cuda_driver.cc:269] failed call to cuInit: UNKNOWN ERROR (303)\n"
     ]
    }
   ],
   "source": [
    "x_grid = jabble.model.create_x_grid(wob_data.xs,vel_padding,resolution)#step=jabble.dataset.shifts(const.c.to(u.km/u.s)/resolution))\n",
    "stellar_model = jabble.model.CompositeModel([jabble.model.ShiftingModel(init_shifts),jabble.model.JaxLinear(x_grid)])\n",
    "stellar_model.fit(1)"
   ]
  },
  {
   "cell_type": "markdown",
   "metadata": {},
   "source": [
    "<h2>Fitting Time</h2>\n",
    "Now it's time to fit the model to the data using our loss function. And setting some maxiter to stop early to prevent any overfitting."
   ]
  },
  {
   "cell_type": "code",
   "execution_count": 18,
   "metadata": {},
   "outputs": [
    {
     "name": "stdout",
     "output_type": "stream",
     "text": [
      "RUNNING THE L-BFGS-B CODE\n",
      "\n",
      "           * * *\n",
      "\n",
      "Machine precision = 2.220D-16\n",
      " N =         3999     M =           10\n"
     ]
    },
    {
     "name": "stderr",
     "output_type": "stream",
     "text": [
      " This problem is unconstrained.\n"
     ]
    },
    {
     "name": "stdout",
     "output_type": "stream",
     "text": [
      "\n",
      "           * * *\n",
      "\n",
      "Tit   = total number of iterations\n",
      "Tnf   = total number of function evaluations\n",
      "Tnint = total number of segments explored during Cauchy searches\n",
      "Skip  = number of BFGS updates skipped\n",
      "Nact  = number of active bounds at final generalized Cauchy point\n",
      "Projg = norm of the final projected gradient\n",
      "F     = final function value\n",
      "\n",
      "           * * *\n",
      "\n",
      "   N    Tit     Tnf  Tnint  Skip  Nact     Projg        F\n",
      " 3999    256    267      1     0     0   3.123D+02   9.779D+03\n",
      "\n",
      "STOP: TOTAL NO. of ITERATIONS REACHED LIMIT                 \n"
     ]
    }
   ],
   "source": [
    "maxiter = 256\n",
    "res1 = stellar_model.optimize(loss,wob_data,maxiter)"
   ]
  },
  {
   "cell_type": "code",
   "execution_count": 19,
   "metadata": {},
   "outputs": [
    {
     "name": "stdout",
     "output_type": "stream",
     "text": [
      "      fun: array(9779.15136719)\n",
      " hess_inv: <3999x3999 LbfgsInvHessProduct with dtype=float64>\n",
      "      jac: array([0., 0., 0., ..., 0., 0., 0.])\n",
      "  message: 'STOP: TOTAL NO. of ITERATIONS REACHED LIMIT'\n",
      "     nfev: 267\n",
      "      nit: 256\n",
      "     njev: 267\n",
      "   status: 1\n",
      "  success: False\n",
      "        x: array([0., 0., 0., ..., 0., 0., 0.])\n"
     ]
    }
   ],
   "source": [
    "print(res1)"
   ]
  },
  {
   "cell_type": "markdown",
   "metadata": {},
   "source": [
    "<h2>Grid Search Velocity Shifts</h2>\n",
    "Now that we have moderately fit the model to the data. We can try a preliminary velocity grid search. First define the velocities to be searched at each epoch. Simply take the init velocities then outer add using some velocity kernel. Here we decide the step size to be: <br>\n",
    "$$\\Delta v = \\frac{c}{R}$$"
   ]
  },
  {
   "cell_type": "code",
   "execution_count": 20,
   "metadata": {},
   "outputs": [],
   "source": [
    "vel_width = 10 * u.km/u.s\n",
    "vel_step = const.c/resolution/10.\n",
    "velocity_kern = np.arange(-vel_width.to(u.km/u.s).value,vel_width.to(u.km/u.s).value,vel_step.to(u.km/u.s).value)*u.km/u.s\n",
    "velocity_grid = np.add.outer(bc,velocity_kern)\n",
    "\n",
    "shift_grid = jabble.dataset.shifts(velocity_grid)\n",
    "loss_array = stellar_model[0].grid_search(shift_grid,loss,stellar_model,wob_data)"
   ]
  },
  {
   "cell_type": "code",
   "execution_count": 21,
   "metadata": {},
   "outputs": [
    {
     "name": "stdout",
     "output_type": "stream",
     "text": [
      "856.5498799999999 m / s\n"
     ]
    }
   ],
   "source": [
    "print(vel_step)"
   ]
  },
  {
   "cell_type": "markdown",
   "metadata": {},
   "source": [
    "The grid search returns a loss array of the same size as the velocity grid. Now we take the lowest loss of each epoch on these grids along with it's two neighbors, and create a parabola. The minimum of that parabola is used as the new velocity shift."
   ]
  },
  {
   "cell_type": "code",
   "execution_count": 22,
   "metadata": {
    "scrolled": true
   },
   "outputs": [
    {
     "name": "stdout",
     "output_type": "stream",
     "text": [
      "epch 0: min 0\n",
      "minimum likely out of range\n",
      "epch 1: min 0\n",
      "minimum likely out of range\n",
      "epch 2: min 0\n",
      "minimum likely out of range\n",
      "epch 3: min 0\n",
      "minimum likely out of range\n",
      "epch 4: min 0\n",
      "minimum likely out of range\n",
      "epch 5: min 0\n",
      "minimum likely out of range\n",
      "epch 6: min 8\n",
      "epch 7: min 5\n",
      "epch 8: min 5\n",
      "epch 9: min 8\n",
      "epch 10: min 8\n",
      "epch 11: min 6\n",
      "epch 12: min 6\n",
      "epch 13: min 8\n",
      "epch 14: min 15\n",
      "epch 15: min 12\n",
      "epch 16: min 13\n",
      "epch 17: min 15\n",
      "epch 18: min 16\n",
      "epch 19: min 13\n",
      "epch 20: min 13\n",
      "epch 21: min 16\n",
      "epch 22: min 0\n",
      "minimum likely out of range\n",
      "epch 23: min 0\n",
      "minimum likely out of range\n",
      "epch 24: min 0\n",
      "minimum likely out of range\n",
      "epch 25: min 0\n",
      "minimum likely out of range\n",
      "epch 26: min 0\n",
      "minimum likely out of range\n",
      "epch 27: min 0\n",
      "minimum likely out of range\n",
      "epch 28: min 0\n",
      "minimum likely out of range\n",
      "epch 29: min 0\n",
      "minimum likely out of range\n",
      "epch 30: min 23\n",
      "minimum likely out of range\n",
      "epch 31: min 23\n",
      "minimum likely out of range\n",
      "epch 32: min 23\n",
      "minimum likely out of range\n",
      "epch 33: min 23\n",
      "minimum likely out of range\n",
      "epch 34: min 23\n",
      "minimum likely out of range\n",
      "epch 35: min 23\n",
      "minimum likely out of range\n",
      "epch 36: min 23\n",
      "minimum likely out of range\n",
      "epch 37: min 23\n",
      "minimum likely out of range\n",
      "epch 38: min 23\n",
      "minimum likely out of range\n",
      "epch 39: min 23\n",
      "minimum likely out of range\n",
      "epch 40: min 23\n",
      "minimum likely out of range\n",
      "epch 41: min 23\n",
      "minimum likely out of range\n",
      "epch 42: min 23\n",
      "minimum likely out of range\n",
      "epch 43: min 23\n",
      "minimum likely out of range\n",
      "epch 44: min 23\n",
      "minimum likely out of range\n",
      "epch 45: min 23\n",
      "minimum likely out of range\n",
      "epch 46: min 23\n",
      "minimum likely out of range\n",
      "epch 47: min 23\n",
      "minimum likely out of range\n",
      "epch 48: min 23\n",
      "minimum likely out of range\n",
      "epch 49: min 23\n",
      "minimum likely out of range\n",
      "epch 50: min 23\n",
      "minimum likely out of range\n",
      "epch 51: min 23\n",
      "minimum likely out of range\n"
     ]
    }
   ],
   "source": [
    "x_min, x_vals, y_vals, polynomials = jabble.dataset.get_parabolic_min(loss_array,shift_grid,return_all=True)\n",
    "stellar_model[0].p = x_min"
   ]
  },
  {
   "cell_type": "code",
   "execution_count": 23,
   "metadata": {},
   "outputs": [
    {
     "data": {
      "image/png": "[encoded data removed]",
      "text/plain": [
       "<Figure size 720x864 with 4 Axes>"
      ]
     },
     "metadata": {
      "needs_background": "light"
     },
     "output_type": "display_data"
    }
   ],
   "source": [
    "plt_epoch = 4\n",
    "fig, axes = plt.subplots(plt_epoch,figsize=(10,3 *plt_epoch))\n",
    "for i in range(plt_epoch):\n",
    "    axes[i].set_xlim(init_shifts[i]-3*jabble.dataset.shifts(vel_step),init_shifts[i]+3*jabble.dataset.shifts(vel_step))\n",
    "    axes[i].plot(shift_grid[i,:],loss_array[i,:],'*k')\n",
    "plt.show()"
   ]
  },
  {
   "cell_type": "markdown",
   "metadata": {},
   "source": [
    "<h2>Second Round of Fitting</h2>\n",
    "Now once we have a better velocity estimate, we can fit both the jaxlinear model and the shifting model simultaneously!"
   ]
  },
  {
   "cell_type": "code",
   "execution_count": null,
   "metadata": {},
   "outputs": [
    {
     "name": "stderr",
     "output_type": "stream",
     "text": [
      " This problem is unconstrained.\n"
     ]
    },
    {
     "name": "stdout",
     "output_type": "stream",
     "text": [
      "RUNNING THE L-BFGS-B CODE\n",
      "\n",
      "           * * *\n",
      "\n",
      "Machine precision = 2.220D-16\n",
      " N =         4051     M =           10\n"
     ]
    }
   ],
   "source": [
    "stellar_model.fit(0)\n",
    "stellar_model.fit(1)\n",
    "maxiter = 256\n",
    "res2 = stellar_model.optimize(loss,wob_data,maxiter)"
   ]
  },
  {
   "cell_type": "markdown",
   "metadata": {},
   "source": [
    "These finals velocities will be compared with the known values from Simulacra."
   ]
  },
  {
   "cell_type": "code",
   "execution_count": null,
   "metadata": {},
   "outputs": [],
   "source": [
    "final_vels = jabble.dataset.velocityfromshift(stellar_model[0].p)"
   ]
  },
  {
   "cell_type": "code",
   "execution_count": null,
   "metadata": {},
   "outputs": [],
   "source": [
    "plt.figure(figsize=(10,3))\n",
    "plt.title('EPRV')\n",
    "v_unit = u.m/u.s\n",
    "\n",
    "# plt.plot((times - min(times)).to(u.day).value % period.value,(rv-bc).to(v_unit).value,'or',label='truth')\n",
    "plt.plot((times - min(times)).to(u.day).value % period.value,(final_vels-bc).to(v_unit).value,'ok',label='prediction')\n",
    "\n",
    "plt.legend()\n",
    "plt.ylabel('vel [{}]'.format(v_unit))\n",
    "plt.xlabel('time [d]')\n",
    "plt.show()\n",
    "\n",
    "\n",
    "# plt.ylim(-1,1)"
   ]
  },
  {
   "cell_type": "code",
   "execution_count": null,
   "metadata": {},
   "outputs": [],
   "source": []
  }
 ],
 "metadata": {
  "kernelspec": {
   "display_name": "Python 3 (ipykernel)",
   "language": "python",
   "name": "python3"
  },
  "language_info": {
   "codemirror_mode": {
    "name": "ipython",
    "version": 3
   },
   "file_extension": ".py",
   "mimetype": "text/x-python",
   "name": "python",
   "nbconvert_exporter": "python",
   "pygments_lexer": "ipython3",
   "version": "3.9.7"
  }
 },
 "nbformat": 4,
 "nbformat_minor": 4
}

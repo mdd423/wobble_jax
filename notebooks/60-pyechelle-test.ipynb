{
 "cells": [
  {
   "cell_type": "code",
   "execution_count": 1,
   "id": "f6534b1b",
   "metadata": {},
   "outputs": [],
   "source": [
    "import pyechelle"
   ]
  },
  {
   "cell_type": "code",
   "execution_count": 2,
   "id": "73044e90",
   "metadata": {},
   "outputs": [
    {
     "name": "stdout",
     "output_type": "stream",
     "text": [
      "Help on package pyechelle:\n",
      "\n",
      "NAME\n",
      "    pyechelle\n",
      "\n",
      "PACKAGE CONTENTS\n",
      "    CCD\n",
      "    benchmark\n",
      "    efficiency\n",
      "    model_viewer\n",
      "    optics\n",
      "    randomgen\n",
      "    raytrace_cuda\n",
      "    raytracing\n",
      "    simulator\n",
      "    slit\n",
      "    sources\n",
      "    spectrograph\n",
      "    telescope\n",
      "\n",
      "VERSION\n",
      "    0.3.4\n",
      "\n",
      "FILE\n",
      "    /ext3/miniconda3/envs/wobbleenv/lib/python3.9/site-packages/pyechelle/__init__.py\n",
      "\n",
      "\n"
     ]
    }
   ],
   "source": [
    "help('pyechelle')"
   ]
  },
  {
   "cell_type": "code",
   "execution_count": 3,
   "id": "8a29c09d",
   "metadata": {},
   "outputs": [
    {
     "ename": "OSError",
     "evalue": "[Errno 30] Read-only file system: '/ext3/miniconda3/envs/wobbleenv/lib/python3.9/site-packages/pyechelle/.cache'",
     "output_type": "error",
     "traceback": [
      "\u001b[0;31m---------------------------------------------------------------------------\u001b[0m",
      "\u001b[0;31mOSError\u001b[0m                                   Traceback (most recent call last)",
      "\u001b[0;32m/state/partition1/job-26536584/ipykernel_642207/110659976.py\u001b[0m in \u001b[0;36m<module>\u001b[0;34m\u001b[0m\n\u001b[0;32m----> 1\u001b[0;31m \u001b[0;32mfrom\u001b[0m \u001b[0mpyechelle\u001b[0m\u001b[0;34m.\u001b[0m\u001b[0msimulator\u001b[0m \u001b[0;32mimport\u001b[0m \u001b[0mSimulator\u001b[0m\u001b[0;34m\u001b[0m\u001b[0;34m\u001b[0m\u001b[0m\n\u001b[0m\u001b[1;32m      2\u001b[0m \u001b[0;32mfrom\u001b[0m \u001b[0mpyechelle\u001b[0m\u001b[0;34m.\u001b[0m\u001b[0msources\u001b[0m \u001b[0;32mimport\u001b[0m \u001b[0mEtalon\u001b[0m\u001b[0;34m,\u001b[0m \u001b[0mPhoenix\u001b[0m\u001b[0;34m\u001b[0m\u001b[0;34m\u001b[0m\u001b[0m\n\u001b[1;32m      3\u001b[0m \u001b[0;32mfrom\u001b[0m \u001b[0mpyechelle\u001b[0m\u001b[0;34m.\u001b[0m\u001b[0mspectrograph\u001b[0m \u001b[0;32mimport\u001b[0m \u001b[0mZEMAX\u001b[0m\u001b[0;34m\u001b[0m\u001b[0;34m\u001b[0m\u001b[0m\n\u001b[1;32m      4\u001b[0m \u001b[0;32mfrom\u001b[0m \u001b[0mtelescope\u001b[0m \u001b[0;32mimport\u001b[0m \u001b[0mTelescope\u001b[0m\u001b[0;34m\u001b[0m\u001b[0;34m\u001b[0m\u001b[0m\n\u001b[1;32m      5\u001b[0m \u001b[0;34m\u001b[0m\u001b[0m\n",
      "\u001b[0;32m/ext3/miniconda3/envs/wobbleenv/lib/python3.9/site-packages/pyechelle/simulator.py\u001b[0m in \u001b[0;36m<module>\u001b[0;34m\u001b[0m\n\u001b[1;32m     20\u001b[0m \u001b[0;32mimport\u001b[0m \u001b[0mpyechelle\u001b[0m\u001b[0;34m\u001b[0m\u001b[0;34m\u001b[0m\u001b[0m\n\u001b[1;32m     21\u001b[0m \u001b[0;32mimport\u001b[0m \u001b[0mpyechelle\u001b[0m\u001b[0;34m.\u001b[0m\u001b[0mslit\u001b[0m\u001b[0;34m\u001b[0m\u001b[0;34m\u001b[0m\u001b[0m\n\u001b[0;32m---> 22\u001b[0;31m \u001b[0;32mfrom\u001b[0m \u001b[0mpyechelle\u001b[0m \u001b[0;32mimport\u001b[0m \u001b[0msources\u001b[0m\u001b[0;34m\u001b[0m\u001b[0;34m\u001b[0m\u001b[0m\n\u001b[0m\u001b[1;32m     23\u001b[0m \u001b[0;32mfrom\u001b[0m \u001b[0mpyechelle\u001b[0m\u001b[0;34m.\u001b[0m\u001b[0mCCD\u001b[0m \u001b[0;32mimport\u001b[0m \u001b[0mCCD\u001b[0m\u001b[0;34m\u001b[0m\u001b[0;34m\u001b[0m\u001b[0m\n\u001b[1;32m     24\u001b[0m \u001b[0;32mfrom\u001b[0m \u001b[0mpyechelle\u001b[0m\u001b[0;34m.\u001b[0m\u001b[0mefficiency\u001b[0m \u001b[0;32mimport\u001b[0m \u001b[0mEfficiency\u001b[0m\u001b[0;34m,\u001b[0m \u001b[0mCSVEfficiency\u001b[0m\u001b[0;34m,\u001b[0m \u001b[0mSystemEfficiency\u001b[0m\u001b[0;34m\u001b[0m\u001b[0;34m\u001b[0m\u001b[0m\n",
      "\u001b[0;32m/ext3/miniconda3/envs/wobbleenv/lib/python3.9/site-packages/pyechelle/sources.py\u001b[0m in \u001b[0;36m<module>\u001b[0;34m\u001b[0m\n\u001b[1;32m     56\u001b[0m \u001b[0mcache_path\u001b[0m \u001b[0;34m=\u001b[0m \u001b[0mpath\u001b[0m\u001b[0;34m.\u001b[0m\u001b[0mjoinpath\u001b[0m\u001b[0;34m(\u001b[0m\u001b[0;34m'.cache'\u001b[0m\u001b[0;34m)\u001b[0m\u001b[0;34m\u001b[0m\u001b[0;34m\u001b[0m\u001b[0m\n\u001b[1;32m     57\u001b[0m \u001b[0;31m# create data directory if it doesn't exist:\u001b[0m\u001b[0;34m\u001b[0m\u001b[0;34m\u001b[0m\u001b[0m\n\u001b[0;32m---> 58\u001b[0;31m \u001b[0mpathlib\u001b[0m\u001b[0;34m.\u001b[0m\u001b[0mPath\u001b[0m\u001b[0;34m(\u001b[0m\u001b[0mcache_path\u001b[0m\u001b[0;34m)\u001b[0m\u001b[0;34m.\u001b[0m\u001b[0mmkdir\u001b[0m\u001b[0;34m(\u001b[0m\u001b[0mparents\u001b[0m\u001b[0;34m=\u001b[0m\u001b[0;32mFalse\u001b[0m\u001b[0;34m,\u001b[0m \u001b[0mexist_ok\u001b[0m\u001b[0;34m=\u001b[0m\u001b[0;32mTrue\u001b[0m\u001b[0;34m)\u001b[0m\u001b[0;34m\u001b[0m\u001b[0;34m\u001b[0m\u001b[0m\n\u001b[0m\u001b[1;32m     59\u001b[0m \u001b[0mmemory\u001b[0m \u001b[0;34m=\u001b[0m \u001b[0mMemory\u001b[0m\u001b[0;34m(\u001b[0m\u001b[0mcache_path\u001b[0m\u001b[0;34m,\u001b[0m \u001b[0mverbose\u001b[0m\u001b[0;34m=\u001b[0m\u001b[0;36m0\u001b[0m\u001b[0;34m)\u001b[0m\u001b[0;34m\u001b[0m\u001b[0;34m\u001b[0m\u001b[0m\n\u001b[1;32m     60\u001b[0m \u001b[0;34m\u001b[0m\u001b[0m\n",
      "\u001b[0;32m/ext3/miniconda3/envs/wobbleenv/lib/python3.9/pathlib.py\u001b[0m in \u001b[0;36mmkdir\u001b[0;34m(self, mode, parents, exist_ok)\u001b[0m\n\u001b[1;32m   1321\u001b[0m         \"\"\"\n\u001b[1;32m   1322\u001b[0m         \u001b[0;32mtry\u001b[0m\u001b[0;34m:\u001b[0m\u001b[0;34m\u001b[0m\u001b[0;34m\u001b[0m\u001b[0m\n\u001b[0;32m-> 1323\u001b[0;31m             \u001b[0mself\u001b[0m\u001b[0;34m.\u001b[0m\u001b[0m_accessor\u001b[0m\u001b[0;34m.\u001b[0m\u001b[0mmkdir\u001b[0m\u001b[0;34m(\u001b[0m\u001b[0mself\u001b[0m\u001b[0;34m,\u001b[0m \u001b[0mmode\u001b[0m\u001b[0;34m)\u001b[0m\u001b[0;34m\u001b[0m\u001b[0;34m\u001b[0m\u001b[0m\n\u001b[0m\u001b[1;32m   1324\u001b[0m         \u001b[0;32mexcept\u001b[0m \u001b[0mFileNotFoundError\u001b[0m\u001b[0;34m:\u001b[0m\u001b[0;34m\u001b[0m\u001b[0;34m\u001b[0m\u001b[0m\n\u001b[1;32m   1325\u001b[0m             \u001b[0;32mif\u001b[0m \u001b[0;32mnot\u001b[0m \u001b[0mparents\u001b[0m \u001b[0;32mor\u001b[0m \u001b[0mself\u001b[0m\u001b[0;34m.\u001b[0m\u001b[0mparent\u001b[0m \u001b[0;34m==\u001b[0m \u001b[0mself\u001b[0m\u001b[0;34m:\u001b[0m\u001b[0;34m\u001b[0m\u001b[0;34m\u001b[0m\u001b[0m\n",
      "\u001b[0;31mOSError\u001b[0m: [Errno 30] Read-only file system: '/ext3/miniconda3/envs/wobbleenv/lib/python3.9/site-packages/pyechelle/.cache'"
     ]
    }
   ],
   "source": [
    "from pyechelle.simulator import Simulator\n",
    "from pyechelle.sources import Etalon, Phoenix\n",
    "from pyechelle.spectrograph import ZEMAX\n",
    "from telescope import Telescope\n",
    "\n",
    "sim = Simulator(ZEMAX(\"MaroonX\"))\n",
    "sim.set_ccd(1)\n",
    "sim.set_fibers([1, 2, 3, 4])\n",
    "# set telescope size to match Gemini observatory\n",
    "sim.set_telescope(Telescope(8.1, 0.8))\n",
    "sim.set_sources([Etalon(d=10, n_photons=1E5),\n",
    "                 Phoenix(t_eff=4000, log_g=4.0),\n",
    "                 Phoenix(t_eff=4000, log_g=4.0),\n",
    "                 Phoenix(t_eff=4000, log_g=4.0)])\n",
    "# activate atmospheric transmission for the three stellar targets\n",
    "sim.set_atmospheres([False, True, True, True])\n",
    "# set radial velocity of stellar target to 42 m/s\n",
    "sim.set_radial_velocities([0., 42., 42., 42.])\n",
    "sim.set_exposure_time(1.)\n",
    "# Enable cuda\n",
    "sim.set_cuda(True)\n",
    "sim.set_output('03_atmosphere_and_rvs.fits', overwrite=True)\n",
    "sim.run()\n",
    "\n",
    "# from pyechelle.simulator import export_to_html\n",
    "\n",
    "# export_to_html(sim.spectrograph.get_ccd(1).data,f'docs/source/_static/plots/example_results/{__file__.split(\"/\")[-1][:-3]}.html')\n",
    "\n"
   ]
  },
  {
   "cell_type": "code",
   "execution_count": null,
   "id": "4bdd0405",
   "metadata": {},
   "outputs": [],
   "source": []
  }
 ],
 "metadata": {
  "kernelspec": {
   "display_name": "Python 3 (ipykernel)",
   "language": "python",
   "name": "python3"
  },
  "language_info": {
   "codemirror_mode": {
    "name": "ipython",
    "version": 3
   },
   "file_extension": ".py",
   "mimetype": "text/x-python",
   "name": "python",
   "nbconvert_exporter": "python",
   "pygments_lexer": "ipython3",
   "version": "3.9.7"
  }
 },
 "nbformat": 4,
 "nbformat_minor": 5
}

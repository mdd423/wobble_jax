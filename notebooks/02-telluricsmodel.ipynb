{
 "cells": [
  {
   "cell_type": "code",
   "execution_count": 1,
   "metadata": {},
   "outputs": [],
   "source": [
    "import h5py\n",
    "import astropy\n",
    "import astropy.units as u \n",
    "import astropy.coordinates as coord\n",
    "import astropy.time as at\n",
    "import astropy.constants as const\n",
    "import numpy as np\n",
    "import sys\n",
    "\n",
    "sys.path.insert(0,'..')\n",
    "import jabble.dataset\n",
    "import jabble.loss\n",
    "import jabble.model\n",
    "\n",
    "import pickle"
   ]
  },
  {
   "cell_type": "code",
   "execution_count": 2,
   "metadata": {},
   "outputs": [],
   "source": [
    "sys.path.insert(0,'/Users/matthewdaunt/Documents/pythons/wobble_toys/repos/WobbleSim')\n",
    "import simulacra.dataset"
   ]
  },
  {
   "cell_type": "markdown",
   "metadata": {},
   "source": [
    "<h1>02 - Additive Models! </h1>\n",
    "In this notebook I demonstrate how to use two linear models together in Jabble. Here we will use one to predict a stationary model for the tellurics. Along with the Shifting & JaxLinear models to model the moving star."
   ]
  },
  {
   "cell_type": "code",
   "execution_count": 3,
   "metadata": {},
   "outputs": [
    {
     "name": "stdout",
     "output_type": "stream",
     "text": [
      "<HDF5 dataset \"obs_times\": shape (13,), type \"|O\">\n"
     ]
    }
   ],
   "source": [
    "data    = simulacra.dataset.from_h5('../../WobbleSim/out/data_e13_a10.0_p7.0_l9.0e+039.3e+03.h5')\n",
    "epoches = data['data']['flux'].shape[0]"
   ]
  },
  {
   "cell_type": "markdown",
   "metadata": {},
   "source": [
    "<h2>Jabble Dataset</h2>\n",
    "Again load a simulacra dataset."
   ]
  },
  {
   "cell_type": "code",
   "execution_count": 7,
   "metadata": {},
   "outputs": [],
   "source": [
    "import scipy.ndimage\n",
    "def normalize(flux,sigma):\n",
    "    return scipy.ndimage.gaussian_filter(flux,sigma=sigma)"
   ]
  },
  {
   "cell_type": "code",
   "execution_count": 8,
   "metadata": {},
   "outputs": [],
   "source": [
    "sigma = 80\n",
    "masks = np.array(data['data']['mask'],dtype=bool)\n",
    "wave = np.repeat(np.array(data['data']['wave'])[np.newaxis,:],epoches,axis=0) * u.Angstrom\n",
    "flux = np.array(data['data']['flux'])\n",
    "ferr = np.array(data['data']['ferr'])\n",
    "wob_data = jabble.dataset.WobbleDataset(wave,flux,ferr,masks,normalize,nargs=[sigma])"
   ]
  },
  {
   "cell_type": "code",
   "execution_count": null,
   "metadata": {},
   "outputs": [],
   "source": [
    "obs_times = data['data']['obs_times']\n",
    "exp_times = data['data']['exp_times']\n",
    "times     = at.Time(obs_times + exp_times/2)\n",
    "period    = data['parameters']['star']['period']"
   ]
  },
  {
   "cell_type": "code",
   "execution_count": null,
   "metadata": {},
   "outputs": [],
   "source": [
    "loc    = data['parameters']['detector']['loc']\n",
    "target = data['parameters']['star']['target']\n",
    "resolution = float(data['parameters']['detector']['resolution'][()])"
   ]
  },
  {
   "cell_type": "code",
   "execution_count": null,
   "metadata": {},
   "outputs": [],
   "source": [
    "print(loc,target)"
   ]
  },
  {
   "cell_type": "code",
   "execution_count": null,
   "metadata": {},
   "outputs": [],
   "source": [
    "bc   = target.radial_velocity_correction(obstime=times,location=loc).to(u.km/u.s)\n",
    "init_shifts = jabble.dataset.shifts(bc)"
   ]
  },
  {
   "cell_type": "markdown",
   "metadata": {},
   "source": [
    "<h2>Check the Velocities</h2>\n",
    "Here we are plotting the theoretical velocities we will be fitting for with Jabble. Just to make sure they make sense. And if our location and target are in the right positions."
   ]
  },
  {
   "cell_type": "code",
   "execution_count": null,
   "metadata": {},
   "outputs": [],
   "source": [
    "import matplotlib.pyplot as plt"
   ]
  },
  {
   "cell_type": "code",
   "execution_count": null,
   "metadata": {
    "scrolled": true
   },
   "outputs": [],
   "source": [
    "rv = data['data']['rvs'].to(u.km/u.s)\n",
    "bc  = target.radial_velocity_correction(obstime=times,location=loc).to(u.km/u.s)\n",
    "eprv = rv - bc\n",
    "\n",
    "plt.figure(figsize=(10,3))\n",
    "plt.title('EPRV')\n",
    "v_unit = u.m/u.s\n",
    "plt.plot((times - min(times)).to(u.day).value % period.to(u.day).value,eprv.to(v_unit).value,'.r')\n",
    "plt.ylabel('vel [{}]'.format(v_unit))\n",
    "plt.xlabel('time [d]')\n",
    "plt.show()\n",
    "\n",
    "plt.figure(figsize=(10,3))\n",
    "plt.title('RV')\n",
    "v_unit = u.km/u.s\n",
    "plt.plot((times - min(times)).to(u.day).value,rv.to(v_unit).value,'.k')\n",
    "plt.ylabel('vel [{}]'.format(v_unit))\n",
    "plt.xlabel('time [d]')\n",
    "plt.show()"
   ]
  },
  {
   "cell_type": "markdown",
   "metadata": {},
   "source": [
    "<h2>Loss Function</h2>\n",
    "Define the loss function from the jabble.loss module. If the errorbars are too bad, use the L2Loss function."
   ]
  },
  {
   "cell_type": "code",
   "execution_count": null,
   "metadata": {},
   "outputs": [],
   "source": [
    "loss = jabble.loss.L2Loss()"
   ]
  },
  {
   "cell_type": "markdown",
   "metadata": {},
   "source": [
    "<h2>Create the StellarModel</h2>\n",
    "Here we are creating a two part CompositeModel."
   ]
  },
  {
   "cell_type": "code",
   "execution_count": null,
   "metadata": {},
   "outputs": [],
   "source": [
    "vel_padding = 50 * u.km/u.s\n",
    "x_grid        = jabble.model.create_x_grid(wob_data.xs,vel_padding,resolution)\n",
    "stellar_model = jabble.model.CompositeModel([jabble.model.ShiftingModel(init_shifts),jabble.model.JaxLinear(x_grid)])\n",
    "stellar_model[1].fit()"
   ]
  },
  {
   "cell_type": "markdown",
   "metadata": {},
   "source": [
    "<h2>Now Initialize the Tellurics Model</h2>\n",
    "And add it the stellar model"
   ]
  },
  {
   "cell_type": "code",
   "execution_count": null,
   "metadata": {},
   "outputs": [],
   "source": [
    "times = at.Time([obs_times[i] + exp_times[i]/2 for i in range(len(obs_times))])\n",
    "telescope_frame = coord.AltAz(obstime=times,location=loc)\n",
    "secz = np.array(target.transform_to(telescope_frame).secz)"
   ]
  },
  {
   "cell_type": "code",
   "execution_count": null,
   "metadata": {},
   "outputs": [],
   "source": [
    "tellurics_model = jabble.model.CompositeModel([jabble.model.JaxLinear(x_grid),jabble.model.StretchingModel(p=secz)])\n",
    "tellurics_model.fix()"
   ]
  },
  {
   "cell_type": "code",
   "execution_count": null,
   "metadata": {},
   "outputs": [],
   "source": [
    "total_model = tellurics_model + stellar_model"
   ]
  },
  {
   "cell_type": "markdown",
   "metadata": {},
   "source": [
    "Display shows the container models and their submodels along with which ones are being fit atm. And how many parameters they take."
   ]
  },
  {
   "cell_type": "code",
   "execution_count": null,
   "metadata": {},
   "outputs": [],
   "source": [
    "total_model.display()"
   ]
  },
  {
   "cell_type": "markdown",
   "metadata": {},
   "source": [
    "<h2>Fitting Time</h2>\n",
    "Now it's time to fit the model to the data using our loss function. And setting some maxiter to stop early to prevent any overfitting."
   ]
  },
  {
   "cell_type": "code",
   "execution_count": null,
   "metadata": {},
   "outputs": [],
   "source": [
    "maxiter = 8\n",
    "res1 = total_model.optimize(loss,wob_data,maxiter)"
   ]
  },
  {
   "cell_type": "code",
   "execution_count": null,
   "metadata": {},
   "outputs": [],
   "source": [
    "print(res1)"
   ]
  },
  {
   "cell_type": "code",
   "execution_count": null,
   "metadata": {},
   "outputs": [],
   "source": [
    "fit_vel = jabble.dataset.velocityfromshift(total_model[1][0].p)\n",
    "plt.figure(figsize=(10,3))\n",
    "plt.title('EPRV')\n",
    "v_unit = u.m/u.s\n",
    "\n",
    "plt.plot((times - min(times)).to(u.day).value % period.value,(rv-bc).to(v_unit).value,'or',label='truth')\n",
    "plt.plot((times - min(times)).to(u.day).value % period.value,(fit_vel-bc).to(v_unit).value,'ok',label='prediction')\n",
    "\n",
    "plt.legend()\n",
    "plt.ylabel('vel [{}]'.format(v_unit))\n",
    "plt.xlabel('time [d]')\n",
    "plt.show()"
   ]
  },
  {
   "cell_type": "code",
   "execution_count": null,
   "metadata": {},
   "outputs": [],
   "source": [
    "maxiter = 12\n",
    "total_model.fix(0,1)\n",
    "res2 = total_model.optimize(loss,wob_data,maxiter)"
   ]
  },
  {
   "cell_type": "code",
   "execution_count": null,
   "metadata": {},
   "outputs": [],
   "source": [
    "print(res2)"
   ]
  },
  {
   "cell_type": "code",
   "execution_count": null,
   "metadata": {},
   "outputs": [],
   "source": [
    "fit_vel = jabble.dataset.velocityfromshift(total_model[1][0].p)\n",
    "plt.figure(figsize=(10,3))\n",
    "plt.title('EPRV')\n",
    "v_unit = u.m/u.s\n",
    "\n",
    "plt.plot((times - min(times)).to(u.day).value % period.value,(rv-bc).to(v_unit).value,'or',label='truth')\n",
    "plt.plot((times - min(times)).to(u.day).value % period.value,(fit_vel-bc).to(v_unit).value,'ok',label='prediction')\n",
    "\n",
    "plt.legend()\n",
    "plt.ylabel('vel [{}]'.format(v_unit))\n",
    "plt.xlabel('time [d]')\n",
    "plt.show()"
   ]
  },
  {
   "cell_type": "code",
   "execution_count": null,
   "metadata": {},
   "outputs": [],
   "source": [
    "import scipy.ndimage\n",
    "def normalize(y,yerr,sigma):\n",
    "    y_low = scipy.ndimage.gaussian_filter(y,sigma)\n",
    "    return y/y_low, yerr/y"
   ]
  },
  {
   "cell_type": "code",
   "execution_count": null,
   "metadata": {},
   "outputs": [],
   "source": [
    "sigma = 80\n",
    "xpmin = np.log(9010)\n",
    "xpmax = np.log(9020)\n",
    "plt_unit = u.Angstrom\n",
    "plt_epoch = 4\n",
    "fig, axes = plt.subplots(plt_epoch,figsize=(10,3 *plt_epoch),sharex=True,sharey=True)\n",
    "for i in range(plt_epoch):\n",
    "    data.plot_star(axes[i],i,xy='xy',units=plt_unit,normalize=normalize,nargs=[sigma])\n",
    "    data.plot_tellurics(axes[i],i,xy='xy',units=plt_unit,normalize=normalize,nargs=[sigma])\n",
    "    axes[i].errorbar(wob_data.xs[i,:],wob_data.ys[i,:],wob_data.yerr[i,:],fmt='.k',elinewidth=0.7,zorder=1,alpha=0.5,ms=6)\n",
    "    axes[i].plot(total_model[1][1].xs-total_model[1][0].p[i],total_model[1][1].p,'r',linestyle='solid',linewidth=1.1,zorder=2,alpha=0.9,ms=6)\n",
    "    axes[i].plot(total_model[0][0].xs,total_model[0][0].p*total_model[0][1].p[i],'b',linestyle='solid',linewidth=1.1,zorder=2,alpha=0.9,ms=6)\n",
    "    \n",
    "    axes[i].set_xlim(xpmin,xpmax)\n",
    "    axes[i].set_ylim(-1.2,0.5)\n",
    "plt.show()"
   ]
  },
  {
   "cell_type": "markdown",
   "metadata": {},
   "source": [
    "<h2>Grid Search Velocity Shifts</h2>\n",
    "Now that we have moderately fit the model to the data. We can try a preliminary velocity grid search. First define the velocities to be searched at each epoch. Simply take the init velocities then outer add using some velocity kernel. Here we decide the step size to be: <br>\n",
    "$$\\Delta v = \\frac{c}{R}$$"
   ]
  },
  {
   "cell_type": "code",
   "execution_count": null,
   "metadata": {},
   "outputs": [],
   "source": [
    "print(total_model.parameters_per_model)"
   ]
  },
  {
   "cell_type": "code",
   "execution_count": null,
   "metadata": {},
   "outputs": [],
   "source": [
    "vel_width = 10 * u.km/u.s\n",
    "vel_step = const.c/resolution/10.\n",
    "velocity_kern = np.arange(-vel_width.to(u.km/u.s).value,vel_width.to(u.km/u.s).value,vel_step.to(u.km/u.s).value)*u.km/u.s\n",
    "velocity_grid = np.add.outer(bc,velocity_kern)\n",
    "\n",
    "shift_grid = jabble.dataset.shifts(velocity_grid)\n",
    "loss_array = total_model[1][0].grid_search(shift_grid,loss,total_model,wob_data)"
   ]
  },
  {
   "cell_type": "code",
   "execution_count": null,
   "metadata": {},
   "outputs": [],
   "source": [
    "total_model.display()"
   ]
  },
  {
   "cell_type": "code",
   "execution_count": null,
   "metadata": {},
   "outputs": [],
   "source": [
    "print(vel_step)"
   ]
  },
  {
   "cell_type": "markdown",
   "metadata": {},
   "source": [
    "The grid search returns a loss array of the same size as the velocity grid. Now we take the lowest loss of each epoch on these grids along with it's two neighbors, and create a parabola. The minimum of that parabola is used as the new velocity shift."
   ]
  },
  {
   "cell_type": "code",
   "execution_count": null,
   "metadata": {
    "scrolled": true
   },
   "outputs": [],
   "source": [
    "x_min, x_vals, y_vals, polynomials = jabble.dataset.get_parabolic_min(loss_array,shift_grid,return_all=True)\n",
    "stellar_model[0].p = x_min"
   ]
  },
  {
   "cell_type": "code",
   "execution_count": null,
   "metadata": {},
   "outputs": [],
   "source": [
    "plt_epoch = 4\n",
    "fig, axes = plt.subplots(plt_epoch,figsize=(10,3 *plt_epoch))\n",
    "for i in range(plt_epoch):\n",
    "    axes[i].set_xlim(init_shifts[i]-3*jabble.dataset.shifts(vel_step),init_shifts[i]+3*jabble.dataset.shifts(vel_step))\n",
    "    axes[i].plot(shift_grid[i,:],loss_array[i,:],'*k')\n",
    "plt.show()"
   ]
  },
  {
   "cell_type": "code",
   "execution_count": null,
   "metadata": {},
   "outputs": [],
   "source": [
    "min_vel = jabble.dataset.velocityfromshift(x_min)\n",
    "plt.figure(figsize=(10,3))\n",
    "plt.title('EPRV')\n",
    "v_unit = u.m/u.s\n",
    "\n",
    "plt.plot((times - min(times)).to(u.day).value % period.value,(rv-bc).to(v_unit).value,'or',label='truth')\n",
    "plt.plot((times - min(times)).to(u.day).value % period.value,(min_vel-bc).to(v_unit).value,'ok',label='prediction')\n",
    "\n",
    "plt.legend()\n",
    "plt.ylabel('vel [{}]'.format(v_unit))\n",
    "plt.xlabel('time [d]')\n",
    "plt.show()"
   ]
  },
  {
   "cell_type": "markdown",
   "metadata": {},
   "source": [
    "<h2>Second Round of Fitting</h2>\n",
    "Now once we have a better velocity estimate, we can fit both the jaxlinear model and the shifting model simultaneously!"
   ]
  },
  {
   "cell_type": "code",
   "execution_count": null,
   "metadata": {},
   "outputs": [],
   "source": [
    "total_model.fit(1,0)\n",
    "total_model.fit(1,1)\n",
    "maxiter = 32\n",
    "total_model[1][0].p = init_shifts\n",
    "res3 = total_model.optimize(loss,wob_data,maxiter)"
   ]
  },
  {
   "cell_type": "markdown",
   "metadata": {},
   "source": [
    "These finals velocities will be compared with the known values from Simulacra."
   ]
  },
  {
   "cell_type": "code",
   "execution_count": null,
   "metadata": {},
   "outputs": [],
   "source": [
    "final_vels = jabble.dataset.velocityfromshift(stellar_model[0].p)"
   ]
  },
  {
   "cell_type": "code",
   "execution_count": null,
   "metadata": {},
   "outputs": [],
   "source": [
    "plt.figure(figsize=(10,3))\n",
    "plt.title('EPRV')\n",
    "v_unit = u.m/u.s\n",
    "\n",
    "plt.plot((times - min(times)).to(u.day).value % period.value,(rv-bc).to(v_unit).value,'or',label='truth')\n",
    "plt.plot((times - min(times)).to(u.day).value % period.value,(final_vels-bc).to(v_unit).value,'ok',label='prediction')\n",
    "\n",
    "plt.legend()\n",
    "plt.ylabel('vel [{}]'.format(v_unit))\n",
    "plt.xlabel('time [d]')\n",
    "plt.show()\n",
    "\n",
    "\n",
    "# plt.ylim(-1,1)"
   ]
  },
  {
   "cell_type": "code",
   "execution_count": null,
   "metadata": {},
   "outputs": [],
   "source": []
  },
  {
   "cell_type": "code",
   "execution_count": null,
   "metadata": {},
   "outputs": [],
   "source": []
  }
 ],
 "metadata": {
  "kernelspec": {
   "display_name": "Python 3",
   "language": "python",
   "name": "python3"
  },
  "language_info": {
   "codemirror_mode": {
    "name": "ipython",
    "version": 3
   },
   "file_extension": ".py",
   "mimetype": "text/x-python",
   "name": "python",
   "nbconvert_exporter": "python",
   "pygments_lexer": "ipython3",
   "version": "3.7.1"
  }
 },
 "nbformat": 4,
 "nbformat_minor": 4
}
